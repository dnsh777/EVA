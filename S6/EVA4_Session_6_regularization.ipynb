{
  "nbformat": 4,
  "nbformat_minor": 0,
  "metadata": {
    "colab": {
      "name": "EVA4_Session_6_regularization.ipynb",
      "provenance": [],
      "collapsed_sections": [],
      "include_colab_link": true
    },
    "kernelspec": {
      "name": "python3",
      "display_name": "Python 3"
    },
    "accelerator": "GPU",
    "widgets": {
      "application/vnd.jupyter.widget-state+json": {
        "177e94f883794a8bbfb22c9d6f044535": {
          "model_module": "@jupyter-widgets/controls",
          "model_name": "HBoxModel",
          "state": {
            "_view_name": "HBoxView",
            "_dom_classes": [],
            "_model_name": "HBoxModel",
            "_view_module": "@jupyter-widgets/controls",
            "_model_module_version": "1.5.0",
            "_view_count": null,
            "_view_module_version": "1.5.0",
            "box_style": "",
            "layout": "IPY_MODEL_eae355ac5b064fabbdf1b4bf6e7ff2fd",
            "_model_module": "@jupyter-widgets/controls",
            "children": [
              "IPY_MODEL_d30c6339a38b4861abed04b041a86b9d",
              "IPY_MODEL_71bd139fd63947f89ad9c7e53093e56b"
            ]
          }
        },
        "eae355ac5b064fabbdf1b4bf6e7ff2fd": {
          "model_module": "@jupyter-widgets/base",
          "model_name": "LayoutModel",
          "state": {
            "_view_name": "LayoutView",
            "grid_template_rows": null,
            "right": null,
            "justify_content": null,
            "_view_module": "@jupyter-widgets/base",
            "overflow": null,
            "_model_module_version": "1.2.0",
            "_view_count": null,
            "flex_flow": null,
            "width": null,
            "min_width": null,
            "border": null,
            "align_items": null,
            "bottom": null,
            "_model_module": "@jupyter-widgets/base",
            "top": null,
            "grid_column": null,
            "overflow_y": null,
            "overflow_x": null,
            "grid_auto_flow": null,
            "grid_area": null,
            "grid_template_columns": null,
            "flex": null,
            "_model_name": "LayoutModel",
            "justify_items": null,
            "grid_row": null,
            "max_height": null,
            "align_content": null,
            "visibility": null,
            "align_self": null,
            "height": null,
            "min_height": null,
            "padding": null,
            "grid_auto_rows": null,
            "grid_gap": null,
            "max_width": null,
            "order": null,
            "_view_module_version": "1.2.0",
            "grid_template_areas": null,
            "object_position": null,
            "object_fit": null,
            "grid_auto_columns": null,
            "margin": null,
            "display": null,
            "left": null
          }
        },
        "d30c6339a38b4861abed04b041a86b9d": {
          "model_module": "@jupyter-widgets/controls",
          "model_name": "IntProgressModel",
          "state": {
            "_view_name": "ProgressView",
            "style": "IPY_MODEL_6a0ee0720d454153934ebffa586332e3",
            "_dom_classes": [],
            "description": "",
            "_model_name": "IntProgressModel",
            "bar_style": "success",
            "max": 1,
            "_view_module": "@jupyter-widgets/controls",
            "_model_module_version": "1.5.0",
            "value": 1,
            "_view_count": null,
            "_view_module_version": "1.5.0",
            "orientation": "horizontal",
            "min": 0,
            "description_tooltip": null,
            "_model_module": "@jupyter-widgets/controls",
            "layout": "IPY_MODEL_0cb8e3c89b8f4f969183b0fa52c62998"
          }
        },
        "71bd139fd63947f89ad9c7e53093e56b": {
          "model_module": "@jupyter-widgets/controls",
          "model_name": "HTMLModel",
          "state": {
            "_view_name": "HTMLView",
            "style": "IPY_MODEL_6c0eee6b0e98491cb668e57df553040f",
            "_dom_classes": [],
            "description": "",
            "_model_name": "HTMLModel",
            "placeholder": "​",
            "_view_module": "@jupyter-widgets/controls",
            "_model_module_version": "1.5.0",
            "value": "9920512it [00:00, 10086110.37it/s]",
            "_view_count": null,
            "_view_module_version": "1.5.0",
            "description_tooltip": null,
            "_model_module": "@jupyter-widgets/controls",
            "layout": "IPY_MODEL_778151762ebb48c3b2a61bd51777d424"
          }
        },
        "6a0ee0720d454153934ebffa586332e3": {
          "model_module": "@jupyter-widgets/controls",
          "model_name": "ProgressStyleModel",
          "state": {
            "_view_name": "StyleView",
            "_model_name": "ProgressStyleModel",
            "description_width": "",
            "_view_module": "@jupyter-widgets/base",
            "_model_module_version": "1.5.0",
            "_view_count": null,
            "_view_module_version": "1.2.0",
            "bar_color": null,
            "_model_module": "@jupyter-widgets/controls"
          }
        },
        "0cb8e3c89b8f4f969183b0fa52c62998": {
          "model_module": "@jupyter-widgets/base",
          "model_name": "LayoutModel",
          "state": {
            "_view_name": "LayoutView",
            "grid_template_rows": null,
            "right": null,
            "justify_content": null,
            "_view_module": "@jupyter-widgets/base",
            "overflow": null,
            "_model_module_version": "1.2.0",
            "_view_count": null,
            "flex_flow": null,
            "width": null,
            "min_width": null,
            "border": null,
            "align_items": null,
            "bottom": null,
            "_model_module": "@jupyter-widgets/base",
            "top": null,
            "grid_column": null,
            "overflow_y": null,
            "overflow_x": null,
            "grid_auto_flow": null,
            "grid_area": null,
            "grid_template_columns": null,
            "flex": null,
            "_model_name": "LayoutModel",
            "justify_items": null,
            "grid_row": null,
            "max_height": null,
            "align_content": null,
            "visibility": null,
            "align_self": null,
            "height": null,
            "min_height": null,
            "padding": null,
            "grid_auto_rows": null,
            "grid_gap": null,
            "max_width": null,
            "order": null,
            "_view_module_version": "1.2.0",
            "grid_template_areas": null,
            "object_position": null,
            "object_fit": null,
            "grid_auto_columns": null,
            "margin": null,
            "display": null,
            "left": null
          }
        },
        "6c0eee6b0e98491cb668e57df553040f": {
          "model_module": "@jupyter-widgets/controls",
          "model_name": "DescriptionStyleModel",
          "state": {
            "_view_name": "StyleView",
            "_model_name": "DescriptionStyleModel",
            "description_width": "",
            "_view_module": "@jupyter-widgets/base",
            "_model_module_version": "1.5.0",
            "_view_count": null,
            "_view_module_version": "1.2.0",
            "_model_module": "@jupyter-widgets/controls"
          }
        },
        "778151762ebb48c3b2a61bd51777d424": {
          "model_module": "@jupyter-widgets/base",
          "model_name": "LayoutModel",
          "state": {
            "_view_name": "LayoutView",
            "grid_template_rows": null,
            "right": null,
            "justify_content": null,
            "_view_module": "@jupyter-widgets/base",
            "overflow": null,
            "_model_module_version": "1.2.0",
            "_view_count": null,
            "flex_flow": null,
            "width": null,
            "min_width": null,
            "border": null,
            "align_items": null,
            "bottom": null,
            "_model_module": "@jupyter-widgets/base",
            "top": null,
            "grid_column": null,
            "overflow_y": null,
            "overflow_x": null,
            "grid_auto_flow": null,
            "grid_area": null,
            "grid_template_columns": null,
            "flex": null,
            "_model_name": "LayoutModel",
            "justify_items": null,
            "grid_row": null,
            "max_height": null,
            "align_content": null,
            "visibility": null,
            "align_self": null,
            "height": null,
            "min_height": null,
            "padding": null,
            "grid_auto_rows": null,
            "grid_gap": null,
            "max_width": null,
            "order": null,
            "_view_module_version": "1.2.0",
            "grid_template_areas": null,
            "object_position": null,
            "object_fit": null,
            "grid_auto_columns": null,
            "margin": null,
            "display": null,
            "left": null
          }
        },
        "b55c2e3c9a2b4ccdb1513f2e14342ffa": {
          "model_module": "@jupyter-widgets/controls",
          "model_name": "HBoxModel",
          "state": {
            "_view_name": "HBoxView",
            "_dom_classes": [],
            "_model_name": "HBoxModel",
            "_view_module": "@jupyter-widgets/controls",
            "_model_module_version": "1.5.0",
            "_view_count": null,
            "_view_module_version": "1.5.0",
            "box_style": "",
            "layout": "IPY_MODEL_fdcca6b22c274cbfaae6d25cb913aa97",
            "_model_module": "@jupyter-widgets/controls",
            "children": [
              "IPY_MODEL_babff726ffa54b049d19d4bf091ef5e7",
              "IPY_MODEL_d38cf11cd7954edcb761e92ff93a9fdb"
            ]
          }
        },
        "fdcca6b22c274cbfaae6d25cb913aa97": {
          "model_module": "@jupyter-widgets/base",
          "model_name": "LayoutModel",
          "state": {
            "_view_name": "LayoutView",
            "grid_template_rows": null,
            "right": null,
            "justify_content": null,
            "_view_module": "@jupyter-widgets/base",
            "overflow": null,
            "_model_module_version": "1.2.0",
            "_view_count": null,
            "flex_flow": null,
            "width": null,
            "min_width": null,
            "border": null,
            "align_items": null,
            "bottom": null,
            "_model_module": "@jupyter-widgets/base",
            "top": null,
            "grid_column": null,
            "overflow_y": null,
            "overflow_x": null,
            "grid_auto_flow": null,
            "grid_area": null,
            "grid_template_columns": null,
            "flex": null,
            "_model_name": "LayoutModel",
            "justify_items": null,
            "grid_row": null,
            "max_height": null,
            "align_content": null,
            "visibility": null,
            "align_self": null,
            "height": null,
            "min_height": null,
            "padding": null,
            "grid_auto_rows": null,
            "grid_gap": null,
            "max_width": null,
            "order": null,
            "_view_module_version": "1.2.0",
            "grid_template_areas": null,
            "object_position": null,
            "object_fit": null,
            "grid_auto_columns": null,
            "margin": null,
            "display": null,
            "left": null
          }
        },
        "babff726ffa54b049d19d4bf091ef5e7": {
          "model_module": "@jupyter-widgets/controls",
          "model_name": "IntProgressModel",
          "state": {
            "_view_name": "ProgressView",
            "style": "IPY_MODEL_bbd91d33004d4b599e392c7367bbcb18",
            "_dom_classes": [],
            "description": "",
            "_model_name": "IntProgressModel",
            "bar_style": "success",
            "max": 1,
            "_view_module": "@jupyter-widgets/controls",
            "_model_module_version": "1.5.0",
            "value": 1,
            "_view_count": null,
            "_view_module_version": "1.5.0",
            "orientation": "horizontal",
            "min": 0,
            "description_tooltip": null,
            "_model_module": "@jupyter-widgets/controls",
            "layout": "IPY_MODEL_c7b22924bb894c558e56812b2d7146e6"
          }
        },
        "d38cf11cd7954edcb761e92ff93a9fdb": {
          "model_module": "@jupyter-widgets/controls",
          "model_name": "HTMLModel",
          "state": {
            "_view_name": "HTMLView",
            "style": "IPY_MODEL_5d73cb0be4224435b83f1a551d9113b5",
            "_dom_classes": [],
            "description": "",
            "_model_name": "HTMLModel",
            "placeholder": "​",
            "_view_module": "@jupyter-widgets/controls",
            "_model_module_version": "1.5.0",
            "value": "32768it [00:00, 144218.22it/s]",
            "_view_count": null,
            "_view_module_version": "1.5.0",
            "description_tooltip": null,
            "_model_module": "@jupyter-widgets/controls",
            "layout": "IPY_MODEL_26968aa55c5247d9a01f939efd88497e"
          }
        },
        "bbd91d33004d4b599e392c7367bbcb18": {
          "model_module": "@jupyter-widgets/controls",
          "model_name": "ProgressStyleModel",
          "state": {
            "_view_name": "StyleView",
            "_model_name": "ProgressStyleModel",
            "description_width": "",
            "_view_module": "@jupyter-widgets/base",
            "_model_module_version": "1.5.0",
            "_view_count": null,
            "_view_module_version": "1.2.0",
            "bar_color": null,
            "_model_module": "@jupyter-widgets/controls"
          }
        },
        "c7b22924bb894c558e56812b2d7146e6": {
          "model_module": "@jupyter-widgets/base",
          "model_name": "LayoutModel",
          "state": {
            "_view_name": "LayoutView",
            "grid_template_rows": null,
            "right": null,
            "justify_content": null,
            "_view_module": "@jupyter-widgets/base",
            "overflow": null,
            "_model_module_version": "1.2.0",
            "_view_count": null,
            "flex_flow": null,
            "width": null,
            "min_width": null,
            "border": null,
            "align_items": null,
            "bottom": null,
            "_model_module": "@jupyter-widgets/base",
            "top": null,
            "grid_column": null,
            "overflow_y": null,
            "overflow_x": null,
            "grid_auto_flow": null,
            "grid_area": null,
            "grid_template_columns": null,
            "flex": null,
            "_model_name": "LayoutModel",
            "justify_items": null,
            "grid_row": null,
            "max_height": null,
            "align_content": null,
            "visibility": null,
            "align_self": null,
            "height": null,
            "min_height": null,
            "padding": null,
            "grid_auto_rows": null,
            "grid_gap": null,
            "max_width": null,
            "order": null,
            "_view_module_version": "1.2.0",
            "grid_template_areas": null,
            "object_position": null,
            "object_fit": null,
            "grid_auto_columns": null,
            "margin": null,
            "display": null,
            "left": null
          }
        },
        "5d73cb0be4224435b83f1a551d9113b5": {
          "model_module": "@jupyter-widgets/controls",
          "model_name": "DescriptionStyleModel",
          "state": {
            "_view_name": "StyleView",
            "_model_name": "DescriptionStyleModel",
            "description_width": "",
            "_view_module": "@jupyter-widgets/base",
            "_model_module_version": "1.5.0",
            "_view_count": null,
            "_view_module_version": "1.2.0",
            "_model_module": "@jupyter-widgets/controls"
          }
        },
        "26968aa55c5247d9a01f939efd88497e": {
          "model_module": "@jupyter-widgets/base",
          "model_name": "LayoutModel",
          "state": {
            "_view_name": "LayoutView",
            "grid_template_rows": null,
            "right": null,
            "justify_content": null,
            "_view_module": "@jupyter-widgets/base",
            "overflow": null,
            "_model_module_version": "1.2.0",
            "_view_count": null,
            "flex_flow": null,
            "width": null,
            "min_width": null,
            "border": null,
            "align_items": null,
            "bottom": null,
            "_model_module": "@jupyter-widgets/base",
            "top": null,
            "grid_column": null,
            "overflow_y": null,
            "overflow_x": null,
            "grid_auto_flow": null,
            "grid_area": null,
            "grid_template_columns": null,
            "flex": null,
            "_model_name": "LayoutModel",
            "justify_items": null,
            "grid_row": null,
            "max_height": null,
            "align_content": null,
            "visibility": null,
            "align_self": null,
            "height": null,
            "min_height": null,
            "padding": null,
            "grid_auto_rows": null,
            "grid_gap": null,
            "max_width": null,
            "order": null,
            "_view_module_version": "1.2.0",
            "grid_template_areas": null,
            "object_position": null,
            "object_fit": null,
            "grid_auto_columns": null,
            "margin": null,
            "display": null,
            "left": null
          }
        },
        "71184ee565e0471283280d17c1d86ef0": {
          "model_module": "@jupyter-widgets/controls",
          "model_name": "HBoxModel",
          "state": {
            "_view_name": "HBoxView",
            "_dom_classes": [],
            "_model_name": "HBoxModel",
            "_view_module": "@jupyter-widgets/controls",
            "_model_module_version": "1.5.0",
            "_view_count": null,
            "_view_module_version": "1.5.0",
            "box_style": "",
            "layout": "IPY_MODEL_62ba643d4477459496064fd68bcdffdb",
            "_model_module": "@jupyter-widgets/controls",
            "children": [
              "IPY_MODEL_8d5b8c9ba6484cbe91e204174e16e34c",
              "IPY_MODEL_f7cdea82a89541248ae00cb43cedbfe8"
            ]
          }
        },
        "62ba643d4477459496064fd68bcdffdb": {
          "model_module": "@jupyter-widgets/base",
          "model_name": "LayoutModel",
          "state": {
            "_view_name": "LayoutView",
            "grid_template_rows": null,
            "right": null,
            "justify_content": null,
            "_view_module": "@jupyter-widgets/base",
            "overflow": null,
            "_model_module_version": "1.2.0",
            "_view_count": null,
            "flex_flow": null,
            "width": null,
            "min_width": null,
            "border": null,
            "align_items": null,
            "bottom": null,
            "_model_module": "@jupyter-widgets/base",
            "top": null,
            "grid_column": null,
            "overflow_y": null,
            "overflow_x": null,
            "grid_auto_flow": null,
            "grid_area": null,
            "grid_template_columns": null,
            "flex": null,
            "_model_name": "LayoutModel",
            "justify_items": null,
            "grid_row": null,
            "max_height": null,
            "align_content": null,
            "visibility": null,
            "align_self": null,
            "height": null,
            "min_height": null,
            "padding": null,
            "grid_auto_rows": null,
            "grid_gap": null,
            "max_width": null,
            "order": null,
            "_view_module_version": "1.2.0",
            "grid_template_areas": null,
            "object_position": null,
            "object_fit": null,
            "grid_auto_columns": null,
            "margin": null,
            "display": null,
            "left": null
          }
        },
        "8d5b8c9ba6484cbe91e204174e16e34c": {
          "model_module": "@jupyter-widgets/controls",
          "model_name": "IntProgressModel",
          "state": {
            "_view_name": "ProgressView",
            "style": "IPY_MODEL_b89a204228744737b6bb457b887b6b5b",
            "_dom_classes": [],
            "description": "",
            "_model_name": "IntProgressModel",
            "bar_style": "success",
            "max": 1,
            "_view_module": "@jupyter-widgets/controls",
            "_model_module_version": "1.5.0",
            "value": 1,
            "_view_count": null,
            "_view_module_version": "1.5.0",
            "orientation": "horizontal",
            "min": 0,
            "description_tooltip": null,
            "_model_module": "@jupyter-widgets/controls",
            "layout": "IPY_MODEL_c3e5b63515db4f5599bf2cb7c8acaaf0"
          }
        },
        "f7cdea82a89541248ae00cb43cedbfe8": {
          "model_module": "@jupyter-widgets/controls",
          "model_name": "HTMLModel",
          "state": {
            "_view_name": "HTMLView",
            "style": "IPY_MODEL_d7e915e6c19d4c5ebe6cb0c5f7db4974",
            "_dom_classes": [],
            "description": "",
            "_model_name": "HTMLModel",
            "placeholder": "​",
            "_view_module": "@jupyter-widgets/controls",
            "_model_module_version": "1.5.0",
            "value": "1654784it [00:00, 2464476.13it/s]",
            "_view_count": null,
            "_view_module_version": "1.5.0",
            "description_tooltip": null,
            "_model_module": "@jupyter-widgets/controls",
            "layout": "IPY_MODEL_480f93c920b944c7aeab03523b4d019e"
          }
        },
        "b89a204228744737b6bb457b887b6b5b": {
          "model_module": "@jupyter-widgets/controls",
          "model_name": "ProgressStyleModel",
          "state": {
            "_view_name": "StyleView",
            "_model_name": "ProgressStyleModel",
            "description_width": "",
            "_view_module": "@jupyter-widgets/base",
            "_model_module_version": "1.5.0",
            "_view_count": null,
            "_view_module_version": "1.2.0",
            "bar_color": null,
            "_model_module": "@jupyter-widgets/controls"
          }
        },
        "c3e5b63515db4f5599bf2cb7c8acaaf0": {
          "model_module": "@jupyter-widgets/base",
          "model_name": "LayoutModel",
          "state": {
            "_view_name": "LayoutView",
            "grid_template_rows": null,
            "right": null,
            "justify_content": null,
            "_view_module": "@jupyter-widgets/base",
            "overflow": null,
            "_model_module_version": "1.2.0",
            "_view_count": null,
            "flex_flow": null,
            "width": null,
            "min_width": null,
            "border": null,
            "align_items": null,
            "bottom": null,
            "_model_module": "@jupyter-widgets/base",
            "top": null,
            "grid_column": null,
            "overflow_y": null,
            "overflow_x": null,
            "grid_auto_flow": null,
            "grid_area": null,
            "grid_template_columns": null,
            "flex": null,
            "_model_name": "LayoutModel",
            "justify_items": null,
            "grid_row": null,
            "max_height": null,
            "align_content": null,
            "visibility": null,
            "align_self": null,
            "height": null,
            "min_height": null,
            "padding": null,
            "grid_auto_rows": null,
            "grid_gap": null,
            "max_width": null,
            "order": null,
            "_view_module_version": "1.2.0",
            "grid_template_areas": null,
            "object_position": null,
            "object_fit": null,
            "grid_auto_columns": null,
            "margin": null,
            "display": null,
            "left": null
          }
        },
        "d7e915e6c19d4c5ebe6cb0c5f7db4974": {
          "model_module": "@jupyter-widgets/controls",
          "model_name": "DescriptionStyleModel",
          "state": {
            "_view_name": "StyleView",
            "_model_name": "DescriptionStyleModel",
            "description_width": "",
            "_view_module": "@jupyter-widgets/base",
            "_model_module_version": "1.5.0",
            "_view_count": null,
            "_view_module_version": "1.2.0",
            "_model_module": "@jupyter-widgets/controls"
          }
        },
        "480f93c920b944c7aeab03523b4d019e": {
          "model_module": "@jupyter-widgets/base",
          "model_name": "LayoutModel",
          "state": {
            "_view_name": "LayoutView",
            "grid_template_rows": null,
            "right": null,
            "justify_content": null,
            "_view_module": "@jupyter-widgets/base",
            "overflow": null,
            "_model_module_version": "1.2.0",
            "_view_count": null,
            "flex_flow": null,
            "width": null,
            "min_width": null,
            "border": null,
            "align_items": null,
            "bottom": null,
            "_model_module": "@jupyter-widgets/base",
            "top": null,
            "grid_column": null,
            "overflow_y": null,
            "overflow_x": null,
            "grid_auto_flow": null,
            "grid_area": null,
            "grid_template_columns": null,
            "flex": null,
            "_model_name": "LayoutModel",
            "justify_items": null,
            "grid_row": null,
            "max_height": null,
            "align_content": null,
            "visibility": null,
            "align_self": null,
            "height": null,
            "min_height": null,
            "padding": null,
            "grid_auto_rows": null,
            "grid_gap": null,
            "max_width": null,
            "order": null,
            "_view_module_version": "1.2.0",
            "grid_template_areas": null,
            "object_position": null,
            "object_fit": null,
            "grid_auto_columns": null,
            "margin": null,
            "display": null,
            "left": null
          }
        },
        "9c98a0433a1442d8825bf1d970ad8b7c": {
          "model_module": "@jupyter-widgets/controls",
          "model_name": "HBoxModel",
          "state": {
            "_view_name": "HBoxView",
            "_dom_classes": [],
            "_model_name": "HBoxModel",
            "_view_module": "@jupyter-widgets/controls",
            "_model_module_version": "1.5.0",
            "_view_count": null,
            "_view_module_version": "1.5.0",
            "box_style": "",
            "layout": "IPY_MODEL_3591327c4fc94780ac103df6a5170eb1",
            "_model_module": "@jupyter-widgets/controls",
            "children": [
              "IPY_MODEL_d0b73c0918a444d2b2fa08cefa3e07bc",
              "IPY_MODEL_ce2178923b554236ab38a01dc28f005b"
            ]
          }
        },
        "3591327c4fc94780ac103df6a5170eb1": {
          "model_module": "@jupyter-widgets/base",
          "model_name": "LayoutModel",
          "state": {
            "_view_name": "LayoutView",
            "grid_template_rows": null,
            "right": null,
            "justify_content": null,
            "_view_module": "@jupyter-widgets/base",
            "overflow": null,
            "_model_module_version": "1.2.0",
            "_view_count": null,
            "flex_flow": null,
            "width": null,
            "min_width": null,
            "border": null,
            "align_items": null,
            "bottom": null,
            "_model_module": "@jupyter-widgets/base",
            "top": null,
            "grid_column": null,
            "overflow_y": null,
            "overflow_x": null,
            "grid_auto_flow": null,
            "grid_area": null,
            "grid_template_columns": null,
            "flex": null,
            "_model_name": "LayoutModel",
            "justify_items": null,
            "grid_row": null,
            "max_height": null,
            "align_content": null,
            "visibility": null,
            "align_self": null,
            "height": null,
            "min_height": null,
            "padding": null,
            "grid_auto_rows": null,
            "grid_gap": null,
            "max_width": null,
            "order": null,
            "_view_module_version": "1.2.0",
            "grid_template_areas": null,
            "object_position": null,
            "object_fit": null,
            "grid_auto_columns": null,
            "margin": null,
            "display": null,
            "left": null
          }
        },
        "d0b73c0918a444d2b2fa08cefa3e07bc": {
          "model_module": "@jupyter-widgets/controls",
          "model_name": "IntProgressModel",
          "state": {
            "_view_name": "ProgressView",
            "style": "IPY_MODEL_72e686a8269f4d869b3a8dd1f2beb295",
            "_dom_classes": [],
            "description": "",
            "_model_name": "IntProgressModel",
            "bar_style": "success",
            "max": 1,
            "_view_module": "@jupyter-widgets/controls",
            "_model_module_version": "1.5.0",
            "value": 1,
            "_view_count": null,
            "_view_module_version": "1.5.0",
            "orientation": "horizontal",
            "min": 0,
            "description_tooltip": null,
            "_model_module": "@jupyter-widgets/controls",
            "layout": "IPY_MODEL_0d9ea4acf793442a8861eb613a5220e7"
          }
        },
        "ce2178923b554236ab38a01dc28f005b": {
          "model_module": "@jupyter-widgets/controls",
          "model_name": "HTMLModel",
          "state": {
            "_view_name": "HTMLView",
            "style": "IPY_MODEL_46503ab95419447796fa4316dd29cd51",
            "_dom_classes": [],
            "description": "",
            "_model_name": "HTMLModel",
            "placeholder": "​",
            "_view_module": "@jupyter-widgets/controls",
            "_model_module_version": "1.5.0",
            "value": "8192it [00:00, 50318.72it/s]",
            "_view_count": null,
            "_view_module_version": "1.5.0",
            "description_tooltip": null,
            "_model_module": "@jupyter-widgets/controls",
            "layout": "IPY_MODEL_0e7aa3618d5545c597e9c88aeebcac38"
          }
        },
        "72e686a8269f4d869b3a8dd1f2beb295": {
          "model_module": "@jupyter-widgets/controls",
          "model_name": "ProgressStyleModel",
          "state": {
            "_view_name": "StyleView",
            "_model_name": "ProgressStyleModel",
            "description_width": "",
            "_view_module": "@jupyter-widgets/base",
            "_model_module_version": "1.5.0",
            "_view_count": null,
            "_view_module_version": "1.2.0",
            "bar_color": null,
            "_model_module": "@jupyter-widgets/controls"
          }
        },
        "0d9ea4acf793442a8861eb613a5220e7": {
          "model_module": "@jupyter-widgets/base",
          "model_name": "LayoutModel",
          "state": {
            "_view_name": "LayoutView",
            "grid_template_rows": null,
            "right": null,
            "justify_content": null,
            "_view_module": "@jupyter-widgets/base",
            "overflow": null,
            "_model_module_version": "1.2.0",
            "_view_count": null,
            "flex_flow": null,
            "width": null,
            "min_width": null,
            "border": null,
            "align_items": null,
            "bottom": null,
            "_model_module": "@jupyter-widgets/base",
            "top": null,
            "grid_column": null,
            "overflow_y": null,
            "overflow_x": null,
            "grid_auto_flow": null,
            "grid_area": null,
            "grid_template_columns": null,
            "flex": null,
            "_model_name": "LayoutModel",
            "justify_items": null,
            "grid_row": null,
            "max_height": null,
            "align_content": null,
            "visibility": null,
            "align_self": null,
            "height": null,
            "min_height": null,
            "padding": null,
            "grid_auto_rows": null,
            "grid_gap": null,
            "max_width": null,
            "order": null,
            "_view_module_version": "1.2.0",
            "grid_template_areas": null,
            "object_position": null,
            "object_fit": null,
            "grid_auto_columns": null,
            "margin": null,
            "display": null,
            "left": null
          }
        },
        "46503ab95419447796fa4316dd29cd51": {
          "model_module": "@jupyter-widgets/controls",
          "model_name": "DescriptionStyleModel",
          "state": {
            "_view_name": "StyleView",
            "_model_name": "DescriptionStyleModel",
            "description_width": "",
            "_view_module": "@jupyter-widgets/base",
            "_model_module_version": "1.5.0",
            "_view_count": null,
            "_view_module_version": "1.2.0",
            "_model_module": "@jupyter-widgets/controls"
          }
        },
        "0e7aa3618d5545c597e9c88aeebcac38": {
          "model_module": "@jupyter-widgets/base",
          "model_name": "LayoutModel",
          "state": {
            "_view_name": "LayoutView",
            "grid_template_rows": null,
            "right": null,
            "justify_content": null,
            "_view_module": "@jupyter-widgets/base",
            "overflow": null,
            "_model_module_version": "1.2.0",
            "_view_count": null,
            "flex_flow": null,
            "width": null,
            "min_width": null,
            "border": null,
            "align_items": null,
            "bottom": null,
            "_model_module": "@jupyter-widgets/base",
            "top": null,
            "grid_column": null,
            "overflow_y": null,
            "overflow_x": null,
            "grid_auto_flow": null,
            "grid_area": null,
            "grid_template_columns": null,
            "flex": null,
            "_model_name": "LayoutModel",
            "justify_items": null,
            "grid_row": null,
            "max_height": null,
            "align_content": null,
            "visibility": null,
            "align_self": null,
            "height": null,
            "min_height": null,
            "padding": null,
            "grid_auto_rows": null,
            "grid_gap": null,
            "max_width": null,
            "order": null,
            "_view_module_version": "1.2.0",
            "grid_template_areas": null,
            "object_position": null,
            "object_fit": null,
            "grid_auto_columns": null,
            "margin": null,
            "display": null,
            "left": null
          }
        }
      }
    }
  },
  "cells": [
    {
      "cell_type": "markdown",
      "metadata": {
        "id": "view-in-github",
        "colab_type": "text"
      },
      "source": [
        "<a href=\"https://colab.research.google.com/github/siva-sankar-a/eva/blob/master/S6/EVA4_Session_6_regularization.ipynb\" target=\"_parent\"><img src=\"https://colab.research.google.com/assets/colab-badge.svg\" alt=\"Open In Colab\"/></a>"
      ]
    },
    {
      "cell_type": "markdown",
      "metadata": {
        "id": "4NrW-L2PWwQg",
        "colab_type": "text"
      },
      "source": [
        "# S5 _Assignment 6_\n",
        "\n",
        "  | Summary of overall targets |  |\n",
        "  | - | - |\n",
        "  | _Dataset_| **MNIST** |\n",
        "  | _Max. number of epochs_| **40** |\n",
        "  | _Max. number of parameters_| **10K** |\n"
      ]
    },
    {
      "cell_type": "markdown",
      "metadata": {
        "id": "FQkGa6QJTsbN",
        "colab_type": "text"
      },
      "source": [
        "# Implementation"
      ]
    },
    {
      "cell_type": "markdown",
      "metadata": {
        "id": "kdw-uW6B_7fe",
        "colab_type": "text"
      },
      "source": [
        "## Initialization"
      ]
    },
    {
      "cell_type": "markdown",
      "metadata": {
        "id": "syKENGMM_cY8",
        "colab_type": "text"
      },
      "source": [
        "### Mounting google drive to save results"
      ]
    },
    {
      "cell_type": "code",
      "metadata": {
        "id": "w-ScTYBE1lnh",
        "colab_type": "code",
        "outputId": "26017c99-7ec1-4cd0-8ff8-82309aa18735",
        "colab": {
          "base_uri": "https://localhost:8080/",
          "height": 127
        }
      },
      "source": [
        "from google.colab import drive\n",
        "drive.mount('/content/drive')"
      ],
      "execution_count": 0,
      "outputs": [
        {
          "output_type": "stream",
          "text": [
            "Go to this URL in a browser: https://accounts.google.com/o/oauth2/auth?client_id=947318989803-6bn6qk8qdgf4n4g3pfee6491hc0brc4i.apps.googleusercontent.com&redirect_uri=urn%3aietf%3awg%3aoauth%3a2.0%3aoob&response_type=code&scope=email%20https%3a%2f%2fwww.googleapis.com%2fauth%2fdocs.test%20https%3a%2f%2fwww.googleapis.com%2fauth%2fdrive%20https%3a%2f%2fwww.googleapis.com%2fauth%2fdrive.photos.readonly%20https%3a%2f%2fwww.googleapis.com%2fauth%2fpeopleapi.readonly\n",
            "\n",
            "Enter your authorization code:\n",
            "··········\n",
            "Mounted at /content/drive\n"
          ],
          "name": "stdout"
        }
      ]
    },
    {
      "cell_type": "markdown",
      "metadata": {
        "id": "R3PLL8A6_pfy",
        "colab_type": "text"
      },
      "source": [
        "### Import and install all required libraries"
      ]
    },
    {
      "cell_type": "code",
      "metadata": {
        "id": "0m2JWFliFfKT",
        "colab_type": "code",
        "outputId": "5bec50ca-3559-486b-968e-12183706fd4a",
        "colab": {
          "base_uri": "https://localhost:8080/",
          "height": 298
        }
      },
      "source": [
        "!pip install torchsummary\n",
        "!pip install torchviz\n",
        "!pip install receptivefield>=0.5.0\n",
        "\n",
        "import datetime\n",
        "import glob\n",
        "\n",
        "import numpy as np\n",
        "import pandas as pd\n",
        "import cv2\n",
        "\n",
        "from __future__ import print_function        # Import for print statement\n",
        "import torch                                 # Import pytorch library\n",
        "import torch.nn as nn                        # Import neural net module from pytorch\n",
        "import torch.nn.functional as F              # Import functional interface from pytorch\n",
        "import torch.optim as optim                  # Import optimizer module from pytorch\n",
        "\n",
        "from torchvision import datasets, transforms # Import datasets and augmentation functionality from vision module within pytorch\n",
        "from torchsummary import summary             # Import summary with pytorch\n",
        "from torchviz import make_dot\n",
        "\n",
        "from torch.utils.tensorboard import SummaryWriter\n",
        "from torch.autograd import Variable\n",
        "\n",
        "import matplotlib.pyplot as plt\n",
        "import tensorflow as tf\n",
        "\n",
        "from tqdm import tqdm\n",
        "\n",
        "from torch.optim.lr_scheduler import StepLR"
      ],
      "execution_count": 0,
      "outputs": [
        {
          "output_type": "stream",
          "text": [
            "Requirement already satisfied: torchsummary in /usr/local/lib/python3.6/dist-packages (1.5.1)\n",
            "Collecting torchviz\n",
            "\u001b[?25l  Downloading https://files.pythonhosted.org/packages/8f/8e/a9630c7786b846d08b47714dd363a051f5e37b4ea0e534460d8cdfc1644b/torchviz-0.0.1.tar.gz (41kB)\n",
            "\u001b[K     |████████████████████████████████| 51kB 8.2MB/s \n",
            "\u001b[?25hRequirement already satisfied: torch in /usr/local/lib/python3.6/dist-packages (from torchviz) (1.4.0)\n",
            "Requirement already satisfied: graphviz in /usr/local/lib/python3.6/dist-packages (from torchviz) (0.10.1)\n",
            "Building wheels for collected packages: torchviz\n",
            "  Building wheel for torchviz (setup.py) ... \u001b[?25l\u001b[?25hdone\n",
            "  Created wheel for torchviz: filename=torchviz-0.0.1-cp36-none-any.whl size=3523 sha256=32767d2841df795c3d56c89ecfc8630221e48bb85a10f7dd2359318d0bdcebe2\n",
            "  Stored in directory: /root/.cache/pip/wheels/2a/c2/c5/b8b4d0f7992c735f6db5bfa3c5f354cf36502037ca2b585667\n",
            "Successfully built torchviz\n",
            "Installing collected packages: torchviz\n",
            "Successfully installed torchviz-0.0.1\n"
          ],
          "name": "stdout"
        },
        {
          "output_type": "display_data",
          "data": {
            "text/html": [
              "<p style=\"color: red;\">\n",
              "The default version of TensorFlow in Colab will soon switch to TensorFlow 2.x.<br>\n",
              "We recommend you <a href=\"https://www.tensorflow.org/guide/migrate\" target=\"_blank\">upgrade</a> now \n",
              "or ensure your notebook will continue to use TensorFlow 1.x via the <code>%tensorflow_version 1.x</code> magic:\n",
              "<a href=\"https://colab.research.google.com/notebooks/tensorflow_version.ipynb\" target=\"_blank\">more info</a>.</p>\n"
            ],
            "text/plain": [
              "<IPython.core.display.HTML object>"
            ]
          },
          "metadata": {
            "tags": []
          }
        }
      ]
    },
    {
      "cell_type": "code",
      "metadata": {
        "id": "-qWc2obvmCVM",
        "colab_type": "code",
        "colab": {}
      },
      "source": [
        "use_cuda = torch.cuda.is_available()                  # Check cuda avaliability"
      ],
      "execution_count": 0,
      "outputs": []
    },
    {
      "cell_type": "code",
      "metadata": {
        "id": "zmn33RC0PB2I",
        "colab_type": "code",
        "colab": {}
      },
      "source": [
        "SEED = 1\n",
        "\n",
        "# For reproducibility\n",
        "torch.manual_seed(SEED)\n",
        "\n",
        "if use_cuda:\n",
        "    torch.cuda.manual_seed(SEED)"
      ],
      "execution_count": 0,
      "outputs": []
    },
    {
      "cell_type": "markdown",
      "metadata": {
        "id": "LCPx5b8hZZu_",
        "colab_type": "text"
      },
      "source": [
        "## Load MNIST Dataset"
      ]
    },
    {
      "cell_type": "markdown",
      "metadata": {
        "id": "9wEEFPy6AE4C",
        "colab_type": "text"
      },
      "source": [
        "### Initialize _transforms_, _dataset_ & _dataloader_\n",
        "\n",
        "<img src=\"data:image/png;base64,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\" />"
      ]
    },
    {
      "cell_type": "code",
      "metadata": {
        "id": "G3VrzejlOvlD",
        "colab_type": "code",
        "colab": {}
      },
      "source": [
        "# Train Phase transformations\n",
        "train_transforms = transforms.Compose([\n",
        "                                       # transforms.Resize((28, 28)),\n",
        "                                       # transforms.ColorJitter(brightness=0.10, contrast=0.1, saturation=0.10, hue=0.1),\n",
        "                                       transforms.RandomRotation((-7.0, 7.0), fill=(1,)),\n",
        "                                       transforms.ToTensor(),\n",
        "                                       transforms.Normalize((0.1307,), (0.3081,)) # The mean and std have to be sequences (e.g., tuples), therefore you should add a comma after the values. \n",
        "                                       # Note the difference between (0.1307) and (0.1307,)\n",
        "                                       ])\n",
        "\n",
        "# Test Phase transformations\n",
        "test_transforms = transforms.Compose([\n",
        "                                       # transforms.Resize((28, 28)),\n",
        "                                       # transforms.ColorJitter(brightness=0.10, contrast=0.1, saturation=0.10, hue=0.1),\n",
        "                                       transforms.ToTensor(),\n",
        "                                       transforms.Normalize((0.1307,), (0.3081,))\n",
        "                                       ])"
      ],
      "execution_count": 0,
      "outputs": []
    },
    {
      "cell_type": "code",
      "metadata": {
        "id": "ank5oQVHOm_S",
        "colab_type": "code",
        "outputId": "8611c10f-2f09-4223-c2ab-6f1f1c6f2d19",
        "colab": {
          "base_uri": "https://localhost:8080/",
          "height": 397,
          "referenced_widgets": [
            "177e94f883794a8bbfb22c9d6f044535",
            "eae355ac5b064fabbdf1b4bf6e7ff2fd",
            "d30c6339a38b4861abed04b041a86b9d",
            "71bd139fd63947f89ad9c7e53093e56b",
            "6a0ee0720d454153934ebffa586332e3",
            "0cb8e3c89b8f4f969183b0fa52c62998",
            "6c0eee6b0e98491cb668e57df553040f",
            "778151762ebb48c3b2a61bd51777d424",
            "b55c2e3c9a2b4ccdb1513f2e14342ffa",
            "fdcca6b22c274cbfaae6d25cb913aa97",
            "babff726ffa54b049d19d4bf091ef5e7",
            "d38cf11cd7954edcb761e92ff93a9fdb",
            "bbd91d33004d4b599e392c7367bbcb18",
            "c7b22924bb894c558e56812b2d7146e6",
            "5d73cb0be4224435b83f1a551d9113b5",
            "26968aa55c5247d9a01f939efd88497e",
            "71184ee565e0471283280d17c1d86ef0",
            "62ba643d4477459496064fd68bcdffdb",
            "8d5b8c9ba6484cbe91e204174e16e34c",
            "f7cdea82a89541248ae00cb43cedbfe8",
            "b89a204228744737b6bb457b887b6b5b",
            "c3e5b63515db4f5599bf2cb7c8acaaf0",
            "d7e915e6c19d4c5ebe6cb0c5f7db4974",
            "480f93c920b944c7aeab03523b4d019e",
            "9c98a0433a1442d8825bf1d970ad8b7c",
            "3591327c4fc94780ac103df6a5170eb1",
            "d0b73c0918a444d2b2fa08cefa3e07bc",
            "ce2178923b554236ab38a01dc28f005b",
            "72e686a8269f4d869b3a8dd1f2beb295",
            "0d9ea4acf793442a8861eb613a5220e7",
            "46503ab95419447796fa4316dd29cd51",
            "0e7aa3618d5545c597e9c88aeebcac38"
          ]
        }
      },
      "source": [
        "train = datasets.MNIST('./data', train=True, download=True, transform=train_transforms)\n",
        "test = datasets.MNIST('./data', train=False, download=True, transform=test_transforms)"
      ],
      "execution_count": 0,
      "outputs": [
        {
          "output_type": "stream",
          "text": [
            "Downloading http://yann.lecun.com/exdb/mnist/train-images-idx3-ubyte.gz to ./data/MNIST/raw/train-images-idx3-ubyte.gz\n"
          ],
          "name": "stdout"
        },
        {
          "output_type": "display_data",
          "data": {
            "application/vnd.jupyter.widget-view+json": {
              "model_id": "177e94f883794a8bbfb22c9d6f044535",
              "version_minor": 0,
              "version_major": 2
            },
            "text/plain": [
              "HBox(children=(IntProgress(value=1, bar_style='info', max=1), HTML(value='')))"
            ]
          },
          "metadata": {
            "tags": []
          }
        },
        {
          "output_type": "stream",
          "text": [
            "\n",
            "Extracting ./data/MNIST/raw/train-images-idx3-ubyte.gz to ./data/MNIST/raw\n",
            "Downloading http://yann.lecun.com/exdb/mnist/train-labels-idx1-ubyte.gz to ./data/MNIST/raw/train-labels-idx1-ubyte.gz\n"
          ],
          "name": "stdout"
        },
        {
          "output_type": "display_data",
          "data": {
            "application/vnd.jupyter.widget-view+json": {
              "model_id": "b55c2e3c9a2b4ccdb1513f2e14342ffa",
              "version_minor": 0,
              "version_major": 2
            },
            "text/plain": [
              "HBox(children=(IntProgress(value=1, bar_style='info', max=1), HTML(value='')))"
            ]
          },
          "metadata": {
            "tags": []
          }
        },
        {
          "output_type": "stream",
          "text": [
            "\n",
            "Extracting ./data/MNIST/raw/train-labels-idx1-ubyte.gz to ./data/MNIST/raw\n",
            "Downloading http://yann.lecun.com/exdb/mnist/t10k-images-idx3-ubyte.gz to ./data/MNIST/raw/t10k-images-idx3-ubyte.gz\n"
          ],
          "name": "stdout"
        },
        {
          "output_type": "display_data",
          "data": {
            "application/vnd.jupyter.widget-view+json": {
              "model_id": "71184ee565e0471283280d17c1d86ef0",
              "version_minor": 0,
              "version_major": 2
            },
            "text/plain": [
              "HBox(children=(IntProgress(value=1, bar_style='info', max=1), HTML(value='')))"
            ]
          },
          "metadata": {
            "tags": []
          }
        },
        {
          "output_type": "stream",
          "text": [
            "\n",
            "Extracting ./data/MNIST/raw/t10k-images-idx3-ubyte.gz to ./data/MNIST/raw\n",
            "Downloading http://yann.lecun.com/exdb/mnist/t10k-labels-idx1-ubyte.gz to ./data/MNIST/raw/t10k-labels-idx1-ubyte.gz\n"
          ],
          "name": "stdout"
        },
        {
          "output_type": "display_data",
          "data": {
            "application/vnd.jupyter.widget-view+json": {
              "model_id": "9c98a0433a1442d8825bf1d970ad8b7c",
              "version_minor": 0,
              "version_major": 2
            },
            "text/plain": [
              "HBox(children=(IntProgress(value=1, bar_style='info', max=1), HTML(value='')))"
            ]
          },
          "metadata": {
            "tags": []
          }
        },
        {
          "output_type": "stream",
          "text": [
            "\n",
            "Extracting ./data/MNIST/raw/t10k-labels-idx1-ubyte.gz to ./data/MNIST/raw\n",
            "Processing...\n",
            "Done!\n"
          ],
          "name": "stdout"
        }
      ]
    },
    {
      "cell_type": "code",
      "metadata": {
        "id": "DKlv-kS9O6CE",
        "colab_type": "code",
        "colab": {}
      },
      "source": [
        "batch_size = 64\n",
        "\n",
        "# dataloader arguments - something you'll fetch these from cmdprmt\n",
        "dataloader_args = dict(shuffle=True, batch_size=batch_size, num_workers=4, pin_memory=True) if use_cuda else dict(shuffle=True, batch_size=batch_size)\n",
        "\n",
        "# train dataloader\n",
        "train_loader = torch.utils.data.DataLoader(train, **dataloader_args)\n",
        "\n",
        "# test dataloader\n",
        "test_loader = torch.utils.data.DataLoader(test, **dataloader_args)"
      ],
      "execution_count": 0,
      "outputs": []
    },
    {
      "cell_type": "markdown",
      "metadata": {
        "id": "XkmuvQZcuI8e",
        "colab_type": "text"
      },
      "source": [
        "## Experiment"
      ]
    },
    {
      "cell_type": "markdown",
      "metadata": {
        "id": "RkbnWyy8e-JP",
        "colab_type": "text"
      },
      "source": [
        "###Model"
      ]
    },
    {
      "cell_type": "code",
      "metadata": {
        "id": "h_Cx9q2QFgM7",
        "colab_type": "code",
        "colab": {}
      },
      "source": [
        "# Subclassing nn.Module for neural networks\n",
        "class Net(nn.Module):\n",
        "    def __init__(self):\n",
        "        super(Net, self).__init__()\n",
        "        #########################################################################################\n",
        "        # INPUT BLOCK\n",
        "        #########################################################################################\n",
        "        self.convblock1 = nn.Sequential(\n",
        "            nn.Conv2d(in_channels=1, out_channels=8, kernel_size=(3, 3), padding=0, bias=False),\n",
        "            nn.BatchNorm2d(8), \n",
        "            nn.ReLU(),\n",
        "            nn.Dropout(0.05)\n",
        "        )\n",
        "        #########################################################################################\n",
        "        # CONVOLUTION BLOCK 1\n",
        "        #########################################################################################\n",
        "        self.convblock2 = nn.Sequential(\n",
        "            nn.Conv2d(in_channels=8, out_channels=8, kernel_size=(3, 3), padding=0, bias=False),\n",
        "            nn.BatchNorm2d(8),\n",
        "            nn.ReLU(),\n",
        "            nn.Dropout(0.05)\n",
        "        )\n",
        "        self.convblock3 = nn.Sequential(\n",
        "            nn.Conv2d(in_channels=8, out_channels=16, kernel_size=(3, 3), padding=0, bias=False),\n",
        "            nn.BatchNorm2d(16),\n",
        "            nn.ReLU(),\n",
        "            nn.Dropout(0.05)\n",
        "        )\n",
        "        #########################################################################################\n",
        "        # TRANSITION BLOCK 1\n",
        "        #########################################################################################\n",
        "        self.pool1 = nn.MaxPool2d(2, 2) # output_size = 11\n",
        "        self.convblock4 = nn.Sequential(\n",
        "            nn.Conv2d(in_channels=16, out_channels=16, kernel_size=(1, 1), padding=0, bias=False),\n",
        "            nn.BatchNorm2d(16),\n",
        "            nn.ReLU(),\n",
        "            nn.Dropout(0.05)\n",
        "        )\n",
        "        #########################################################################################\n",
        "        # CONVOLUTION BLOCK 2\n",
        "        #########################################################################################\n",
        "        self.convblock5 = nn.Sequential(\n",
        "            nn.Conv2d(in_channels=16, out_channels=16, kernel_size=(3, 3), padding=0, bias=False),\n",
        "            nn.BatchNorm2d(16),\n",
        "            nn.ReLU(),\n",
        "            nn.Dropout(0.05)\n",
        "        )\n",
        "        self.convblock6 = nn.Sequential(\n",
        "            nn.Conv2d(in_channels=16, out_channels=16, kernel_size=(3, 3), padding=0, bias=False),\n",
        "            nn.BatchNorm2d(16),\n",
        "            nn.ReLU(),\n",
        "            nn.Dropout(0.05)\n",
        "        )\n",
        "        self.convblock7 = nn.Sequential(\n",
        "            nn.Conv2d(in_channels=16, out_channels=16, kernel_size=(3, 3), padding=0, bias=False),\n",
        "            nn.BatchNorm2d(16),\n",
        "            nn.ReLU(),\n",
        "            nn.Dropout(0.05)\n",
        "        )\n",
        "        #########################################################################################\n",
        "        # GAP BLOCK\n",
        "        #########################################################################################\n",
        "        self.convblock8 = nn.Sequential(\n",
        "            nn.Conv2d(in_channels=16, out_channels=16, kernel_size=(1, 1), padding=0, bias=False),\n",
        "            nn.BatchNorm2d(16),\n",
        "            nn.ReLU(),\n",
        "            nn.Dropout(0.05)\n",
        "        )\n",
        "        self.gap = nn.Sequential(\n",
        "            nn.AvgPool2d(kernel_size=5)\n",
        "        )\n",
        "        #########################################################################################\n",
        "        #----------------------------------------------------------------------------------------\n",
        "        # OUTPUT SIZE = 1\n",
        "        #----------------------------------------------------------------------------------------\n",
        "        #########################################################################################\n",
        "        # OUTPUT BLOCK\n",
        "        #########################################################################################\n",
        "        self.convblock9 = nn.Sequential(\n",
        "            nn.Conv2d(in_channels=16, out_channels=10, kernel_size=(1, 1), padding=0, bias=False),\n",
        "            # nn.BatchNorm2d(10),\n",
        "            # nn.ReLU(),\n",
        "            # nn.Dropout(dropout_value)\n",
        "        )\n",
        "        \n",
        "\n",
        "    def forward(self, x):\n",
        "        x = self.convblock1(x)\n",
        "        x = self.convblock2(x)\n",
        "        x = self.convblock3(x)\n",
        "        x = self.pool1(x)\n",
        "        x = self.convblock4(x)\n",
        "        x = self.convblock5(x)\n",
        "        x = self.convblock6(x)\n",
        "        x = self.convblock7(x)\n",
        "        x = self.convblock8(x)\n",
        "        x = self.gap(x)\n",
        "        x = self.convblock9(x)\n",
        "        x = x.view(-1, 10)\n",
        "        return F.log_softmax(x, dim=-1)"
      ],
      "execution_count": 0,
      "outputs": []
    },
    {
      "cell_type": "markdown",
      "metadata": {
        "id": "yhaXbcHNxtry",
        "colab_type": "text"
      },
      "source": [
        "###Summary"
      ]
    },
    {
      "cell_type": "markdown",
      "metadata": {
        "id": "7TqiYkzTfTBY",
        "colab_type": "text"
      },
      "source": [
        "####Textual summary"
      ]
    },
    {
      "cell_type": "code",
      "metadata": {
        "colab_type": "code",
        "id": "xdydjYTZFyi3",
        "outputId": "3130b6c0-975d-4525-a577-f6902feb23be",
        "colab": {
          "base_uri": "https://localhost:8080/",
          "height": 208
        }
      },
      "source": [
        "device = torch.device(\"cuda\" if use_cuda else \"cpu\") # Initializing GPU\n",
        "model = Net().to(device)                             # Initializing model and transfering to GPU\n",
        "summary(model, input_size=(1, 28, 28))"
      ],
      "execution_count": 0,
      "outputs": [
        {
          "output_type": "error",
          "ename": "TypeError",
          "evalue": "ignored",
          "traceback": [
            "\u001b[0;31m---------------------------------------------------------------------------\u001b[0m",
            "\u001b[0;31mTypeError\u001b[0m                                 Traceback (most recent call last)",
            "\u001b[0;32m<ipython-input-43-7786772b66d2>\u001b[0m in \u001b[0;36m<module>\u001b[0;34m()\u001b[0m\n\u001b[1;32m      1\u001b[0m \u001b[0mdevice\u001b[0m \u001b[0;34m=\u001b[0m \u001b[0mtorch\u001b[0m\u001b[0;34m.\u001b[0m\u001b[0mdevice\u001b[0m\u001b[0;34m(\u001b[0m\u001b[0;34m\"cuda\"\u001b[0m \u001b[0;32mif\u001b[0m \u001b[0muse_cuda\u001b[0m \u001b[0;32melse\u001b[0m \u001b[0;34m\"cpu\"\u001b[0m\u001b[0;34m)\u001b[0m \u001b[0;31m# Initializing GPU\u001b[0m\u001b[0;34m\u001b[0m\u001b[0;34m\u001b[0m\u001b[0m\n\u001b[1;32m      2\u001b[0m \u001b[0mmodel\u001b[0m \u001b[0;34m=\u001b[0m \u001b[0mNet\u001b[0m\u001b[0;34m(\u001b[0m\u001b[0;34m)\u001b[0m\u001b[0;34m.\u001b[0m\u001b[0mto\u001b[0m\u001b[0;34m(\u001b[0m\u001b[0mdevice\u001b[0m\u001b[0;34m)\u001b[0m                             \u001b[0;31m# Initializing model and transfering to GPU\u001b[0m\u001b[0;34m\u001b[0m\u001b[0;34m\u001b[0m\u001b[0m\n\u001b[0;32m----> 3\u001b[0;31m \u001b[0msummary\u001b[0m\u001b[0;34m(\u001b[0m\u001b[0mmodel\u001b[0m\u001b[0;34m,\u001b[0m \u001b[0minput_size\u001b[0m\u001b[0;34m=\u001b[0m\u001b[0;34m(\u001b[0m\u001b[0;36m1\u001b[0m\u001b[0;34m,\u001b[0m \u001b[0;36m28\u001b[0m\u001b[0;34m,\u001b[0m \u001b[0;36m28\u001b[0m\u001b[0;34m)\u001b[0m\u001b[0;34m)\u001b[0m\u001b[0;34m\u001b[0m\u001b[0;34m\u001b[0m\u001b[0m\n\u001b[0m",
            "\u001b[0;31mTypeError\u001b[0m: 'dict' object is not callable"
          ]
        }
      ]
    },
    {
      "cell_type": "markdown",
      "metadata": {
        "id": "YWoKPXFqxi78",
        "colab_type": "text"
      },
      "source": [
        "####Graphical summary"
      ]
    },
    {
      "cell_type": "code",
      "metadata": {
        "id": "tsnGwEe6wV0a",
        "colab_type": "code",
        "colab": {}
      },
      "source": [
        "random_input = torch.randn(1, 1, 28, 28).cuda() if use_cuda else torch.randn(1, 1, 28, 28) \n",
        "model.eval()\n",
        "y = model(Variable(random_input))\n",
        "dot_graph = make_dot(y)\n",
        "dot_graph.format = 'svg'\n",
        "dot_graph.render(f'model_architecture')\n",
        "dot_graph"
      ],
      "execution_count": 0,
      "outputs": []
    },
    {
      "cell_type": "markdown",
      "metadata": {
        "id": "Djmq0rZjhI6-",
        "colab_type": "text"
      },
      "source": [
        "### Training"
      ]
    },
    {
      "cell_type": "markdown",
      "metadata": {
        "id": "Ig_SL1TAWHwQ",
        "colab_type": "text"
      },
      "source": [
        "#### Training routine"
      ]
    },
    {
      "cell_type": "code",
      "metadata": {
        "id": "8fDefDhaFlwH",
        "colab_type": "code",
        "colab": {}
      },
      "source": [
        "def train(model, device, train_loader, optimizer, epoch, writer, regularization=None, weight_decay=0.01):\n",
        "    model.train()\n",
        "    train_loss = 0\n",
        "    correct = 0\n",
        "    pbar = tqdm(train_loader)\n",
        "    train_len = len(train_loader.dataset)\n",
        "\n",
        "    for batch_idx, (data, target) in enumerate(pbar):\n",
        "        \n",
        "        # Move data to cpu/gpu based on input\n",
        "        data, target = data.to(device), target.to(device)\n",
        "        optimizer.zero_grad()\n",
        "\n",
        "        # Forward pass\n",
        "        output = model(data)\n",
        "        \n",
        "        # Loss computation\n",
        "        batch_loss = F.nll_loss(output, target)\n",
        "        train_loss += batch_loss  # sum up batch loss\n",
        "        \n",
        "\n",
        "        # Regularization\n",
        "        if regularization == 'L1' or regularization == 'L1 and L2':\n",
        "          l1_loss = nn.L1Loss(reduction='sum')\n",
        "          regularization_loss = 0\n",
        "          for param in model.parameters():\n",
        "            regularization_loss += l1_loss(param, target=torch.zeros_like(param))\n",
        "          train_loss += weight_decay * regularization_loss # regularization loss\n",
        "        \n",
        "        # Predictions\n",
        "        pred = output.argmax(dim=1, keepdim=True)  # get the index of the max log-probability\n",
        "        correct += pred.eq(target.view_as(pred)).sum().item()\n",
        "        \n",
        "        # Backward pass\n",
        "        batch_loss.backward()\n",
        "        \n",
        "        # Gradient descent\n",
        "        optimizer.step()\n",
        "\n",
        "        # Logging - updating progress bar and summary writer\n",
        "        pbar.set_description(desc= f'TRAIN : epoch={epoch} train_loss={(train_loss / train_len):.5f} correct/total={correct}/{train_len} accuracy={(100. * correct / train_len):.2f}')\n",
        "        writer.add_scalar('train/batch_loss', batch_loss, epoch * train_len + batch_idx)\n",
        "    \n",
        "    train_loss /= train_len\n",
        "    train_accuracy = 100. * correct / train_len\n",
        "    writer.add_scalar('loss', train_loss, epoch)\n",
        "    writer.add_scalar('accuracy', train_accuracy, epoch)"
      ],
      "execution_count": 0,
      "outputs": []
    },
    {
      "cell_type": "markdown",
      "metadata": {
        "id": "t168STZVWA0e",
        "colab_type": "text"
      },
      "source": [
        "#### Testing routine"
      ]
    },
    {
      "cell_type": "code",
      "metadata": {
        "id": "Zgv3J2bnV92m",
        "colab_type": "code",
        "colab": {}
      },
      "source": [
        "def test(model, device, test_loader, epoch, writer, regularization=None, weight_decay=0.01):\n",
        "    model.eval()\n",
        "    test_loss = 0\n",
        "    correct = 0\n",
        "    pbar = tqdm(test_loader)\n",
        "    test_len = len(test_loader.dataset)\n",
        "    with torch.no_grad():\n",
        "        for batch_idx, (data, target) in enumerate(pbar):\n",
        "\n",
        "            # Move data to cpu/gpu based on input\n",
        "            data, target = data.to(device), target.to(device)\n",
        "            output = model(data)\n",
        "\n",
        "            # Loss computation\n",
        "            batch_loss = F.nll_loss(output, target, reduction='sum').item()\n",
        "            test_loss += batch_loss\n",
        "\n",
        "            # Predictions\n",
        "            pred = output.argmax(dim=1, keepdim=True)\n",
        "            correct += pred.eq(target.view_as(pred)).sum().item()\n",
        "\n",
        "            # Logging - updating progress bar and summary writer\n",
        "            pbar.set_description(desc= f'TEST :  epoch={epoch} test_loss={(test_loss / test_len):.5f} correct/total={correct}/{test_len} accuracy=\\033[1m{(100. * correct / test_len):.2f}\\033[0m')\n",
        "            writer.add_scalar('test/batch_loss', batch_loss, epoch * test_len + batch_idx)\n",
        "\n",
        "    test_loss /= test_len\n",
        "    test_accuracy = 100. * correct / test_len\n",
        "    writer.add_scalar('loss', test_loss, epoch)\n",
        "    writer.add_scalar('accuracy', test_accuracy, epoch)"
      ],
      "execution_count": 0,
      "outputs": []
    },
    {
      "cell_type": "markdown",
      "metadata": {
        "id": "QLarFuzhXj1I",
        "colab_type": "text"
      },
      "source": [
        "### Execution"
      ]
    },
    {
      "cell_type": "code",
      "metadata": {
        "id": "QMROs8XHP27r",
        "colab_type": "code",
        "colab": {}
      },
      "source": [
        "def optimize(model, epochs=40, momentum=0.9, lr=0.01, regularization=None, weight_decay=0.01, experiment_name='experiment_name_1'):\n",
        "  now = datetime.datetime.now()\n",
        "  prefix = now.strftime('%m-%d-%y %H:%M:%S')\n",
        "\n",
        "  train_dir_suffix = f'/content/drive/My Drive/log_mnist_s6/run_train_{experiment_name}'\n",
        "  test_dir_suffix = f'/content/drive/My Drive/log_mnist_s6/run_test_{experiment_name}'\n",
        "\n",
        "  train_dir = f'{train_dir_suffix}_{prefix}'\n",
        "  test_dir = f'{test_dir_suffix}_{prefix}'\n",
        "\n",
        "  train_writer = SummaryWriter(train_dir)\n",
        "  test_writer = SummaryWriter(test_dir)\n",
        "\n",
        "  if regularization == 'L2' or regularization == 'L1 and L2':\n",
        "    optimizer = optim.SGD(model.parameters(), lr=lr, momentum=momentum, weight_decay=weight_decay)\n",
        "  else:\n",
        "    optimizer = optim.SGD(model.parameters(), lr=lr, momentum=momentum)\n",
        "\n",
        "  scheduler = StepLR(optimizer, step_size=8, gamma=0.1)\n",
        "\n",
        "  for epoch in range(0, epochs):\n",
        "      train(model, device, train_loader, optimizer, epoch, train_writer, regularization, weight_decay)\n",
        "      test(model, device, test_loader, epoch, test_writer, regularization, weight_decay)\n",
        "      scheduler.step()"
      ],
      "execution_count": 0,
      "outputs": []
    },
    {
      "cell_type": "code",
      "metadata": {
        "id": "0TKL6qVXUN4y",
        "colab_type": "code",
        "colab": {}
      },
      "source": [
        "for regularization in [None, 'L1', 'L2', 'L1 and L2']:\n",
        "  for weight_decay in [1e-1, 1e-3, 1e-6]:"
      ],
      "execution_count": 0,
      "outputs": []
    },
    {
      "cell_type": "code",
      "metadata": {
        "id": "MMWbLWO6FuHb",
        "colab_type": "code",
        "outputId": "3383152b-b802-421d-95ee-8b175267150f",
        "colab": {
          "base_uri": "https://localhost:8080/",
          "height": 1000
        }
      },
      "source": [
        "models = {}\n",
        "experiments = []\n",
        "for regularization in ['L1', 'L2']:\n",
        "  for weight_decay in [1e-6]:\n",
        "    experiment = f's6_{regularization if regularization else \"no\"}_reg_{weight_decay:1.0e}'\n",
        "    model = Net().to(device)\n",
        "    lr = 0.01\n",
        "    epochs = 40\n",
        "    momentum = 0.9\n",
        "    weight_decay = weight_decay\n",
        "    optimize(model, epochs, momentum, lr, regularization, weight_decay, experiment)\n",
        "    experiments.append(experiment)\n",
        "    models[experiment] = model"
      ],
      "execution_count": 0,
      "outputs": [
        {
          "output_type": "stream",
          "text": [
            "TRAIN : epoch=0 train_loss=0.00726 correct/total=52605/60000 accuracy=87.67: 100%|██████████| 938/938 [00:22<00:00, 42.54it/s]\n",
            "TEST :  epoch=0 test_loss=0.05602 correct/total=9857/10000 accuracy=\u001b[1m98.57\u001b[0m: 100%|██████████| 157/157 [00:02<00:00, 68.77it/s]\n",
            "TRAIN : epoch=1 train_loss=0.00140 correct/total=58511/60000 accuracy=97.52: 100%|██████████| 938/938 [00:21<00:00, 43.98it/s]\n",
            "TEST :  epoch=1 test_loss=0.03809 correct/total=9895/10000 accuracy=\u001b[1m98.95\u001b[0m: 100%|██████████| 157/157 [00:02<00:00, 68.89it/s]\n",
            "TRAIN : epoch=2 train_loss=0.00105 correct/total=58855/60000 accuracy=98.09: 100%|██████████| 938/938 [00:21<00:00, 53.99it/s]\n",
            "TEST :  epoch=2 test_loss=0.03225 correct/total=9898/10000 accuracy=\u001b[1m98.98\u001b[0m: 100%|██████████| 157/157 [00:02<00:00, 67.79it/s]\n",
            "TRAIN : epoch=3 train_loss=0.00091 correct/total=58943/60000 accuracy=98.24: 100%|██████████| 938/938 [00:21<00:00, 41.33it/s]\n",
            "TEST :  epoch=3 test_loss=0.03153 correct/total=9901/10000 accuracy=\u001b[1m99.01\u001b[0m: 100%|██████████| 157/157 [00:02<00:00, 65.07it/s]\n",
            "TRAIN : epoch=4 train_loss=0.00082 correct/total=59058/60000 accuracy=98.43: 100%|██████████| 938/938 [00:20<00:00, 45.07it/s]\n",
            "TEST :  epoch=4 test_loss=0.02956 correct/total=9909/10000 accuracy=\u001b[1m99.09\u001b[0m: 100%|██████████| 157/157 [00:02<00:00, 67.59it/s]\n",
            "TRAIN : epoch=5 train_loss=0.00076 correct/total=59138/60000 accuracy=98.56: 100%|██████████| 938/938 [00:21<00:00, 43.58it/s]\n",
            "TEST :  epoch=5 test_loss=0.02554 correct/total=9915/10000 accuracy=\u001b[1m99.15\u001b[0m: 100%|██████████| 157/157 [00:02<00:00, 72.49it/s]\n",
            "TRAIN : epoch=6 train_loss=0.00071 correct/total=59167/60000 accuracy=98.61: 100%|██████████| 938/938 [00:21<00:00, 43.41it/s]\n",
            "TEST :  epoch=6 test_loss=0.02366 correct/total=9930/10000 accuracy=\u001b[1m99.30\u001b[0m: 100%|██████████| 157/157 [00:02<00:00, 66.75it/s]\n",
            "TRAIN : epoch=7 train_loss=0.00070 correct/total=59178/60000 accuracy=98.63: 100%|██████████| 938/938 [00:21<00:00, 43.87it/s]\n",
            "TEST :  epoch=7 test_loss=0.02989 correct/total=9901/10000 accuracy=\u001b[1m99.01\u001b[0m: 100%|██████████| 157/157 [00:02<00:00, 69.00it/s]\n",
            "TRAIN : epoch=8 train_loss=0.00054 correct/total=59363/60000 accuracy=98.94: 100%|██████████| 938/938 [00:21<00:00, 43.99it/s]\n",
            "TEST :  epoch=8 test_loss=0.01916 correct/total=9927/10000 accuracy=\u001b[1m99.27\u001b[0m: 100%|██████████| 157/157 [00:02<00:00, 63.11it/s]\n",
            "TRAIN : epoch=9 train_loss=0.00053 correct/total=59404/60000 accuracy=99.01: 100%|██████████| 938/938 [00:20<00:00, 44.71it/s]\n",
            "TEST :  epoch=9 test_loss=0.01820 correct/total=9932/10000 accuracy=\u001b[1m99.32\u001b[0m: 100%|██████████| 157/157 [00:02<00:00, 75.51it/s]\n",
            "TRAIN : epoch=10 train_loss=0.00052 correct/total=59396/60000 accuracy=98.99: 100%|██████████| 938/938 [00:21<00:00, 42.94it/s]\n",
            "TEST :  epoch=10 test_loss=0.01821 correct/total=9935/10000 accuracy=\u001b[1m99.35\u001b[0m: 100%|██████████| 157/157 [00:02<00:00, 67.70it/s]\n",
            "TRAIN : epoch=11 train_loss=0.00049 correct/total=59440/60000 accuracy=99.07: 100%|██████████| 938/938 [00:21<00:00, 43.76it/s]\n",
            "TEST :  epoch=11 test_loss=0.01779 correct/total=9933/10000 accuracy=\u001b[1m99.33\u001b[0m: 100%|██████████| 157/157 [00:02<00:00, 69.70it/s]\n",
            "TRAIN : epoch=12 train_loss=0.00051 correct/total=59410/60000 accuracy=99.02: 100%|██████████| 938/938 [00:22<00:00, 40.96it/s]\n",
            "TEST :  epoch=12 test_loss=0.01799 correct/total=9938/10000 accuracy=\u001b[1m99.38\u001b[0m: 100%|██████████| 157/157 [00:02<00:00, 63.70it/s]\n",
            "TRAIN : epoch=13 train_loss=0.00049 correct/total=59446/60000 accuracy=99.08: 100%|██████████| 938/938 [00:23<00:00, 39.46it/s]\n",
            "TEST :  epoch=13 test_loss=0.01739 correct/total=9940/10000 accuracy=\u001b[1m99.40\u001b[0m: 100%|██████████| 157/157 [00:02<00:00, 60.79it/s]\n",
            "TRAIN : epoch=14 train_loss=0.00050 correct/total=59429/60000 accuracy=99.05: 100%|██████████| 938/938 [00:22<00:00, 41.57it/s]\n",
            "TEST :  epoch=14 test_loss=0.01705 correct/total=9938/10000 accuracy=\u001b[1m99.38\u001b[0m: 100%|██████████| 157/157 [00:02<00:00, 61.85it/s]\n",
            "TRAIN : epoch=15 train_loss=0.00046 correct/total=59497/60000 accuracy=99.16: 100%|██████████| 938/938 [00:22<00:00, 42.42it/s]\n",
            "TEST :  epoch=15 test_loss=0.01769 correct/total=9939/10000 accuracy=\u001b[1m99.39\u001b[0m: 100%|██████████| 157/157 [00:02<00:00, 58.39it/s]\n",
            "TRAIN : epoch=16 train_loss=0.00044 correct/total=59501/60000 accuracy=99.17: 100%|██████████| 938/938 [00:22<00:00, 40.86it/s]\n",
            "TEST :  epoch=16 test_loss=0.01758 correct/total=9936/10000 accuracy=\u001b[1m99.36\u001b[0m: 100%|██████████| 157/157 [00:02<00:00, 64.34it/s]\n",
            "TRAIN : epoch=17 train_loss=0.00045 correct/total=59468/60000 accuracy=99.11: 100%|██████████| 938/938 [00:22<00:00, 42.26it/s]\n",
            "TEST :  epoch=17 test_loss=0.01686 correct/total=9940/10000 accuracy=\u001b[1m99.40\u001b[0m: 100%|██████████| 157/157 [00:02<00:00, 59.27it/s]\n",
            "TRAIN : epoch=18 train_loss=0.00045 correct/total=59476/60000 accuracy=99.13: 100%|██████████| 938/938 [00:22<00:00, 42.17it/s]\n",
            "TEST :  epoch=18 test_loss=0.01778 correct/total=9937/10000 accuracy=\u001b[1m99.37\u001b[0m: 100%|██████████| 157/157 [00:02<00:00, 66.41it/s]\n",
            "TRAIN : epoch=19 train_loss=0.00046 correct/total=59475/60000 accuracy=99.12: 100%|██████████| 938/938 [00:21<00:00, 43.52it/s]\n",
            "TEST :  epoch=19 test_loss=0.01655 correct/total=9940/10000 accuracy=\u001b[1m99.40\u001b[0m: 100%|██████████| 157/157 [00:02<00:00, 67.35it/s]\n",
            "TRAIN : epoch=20 train_loss=0.00049 correct/total=59434/60000 accuracy=99.06: 100%|██████████| 938/938 [00:21<00:00, 43.06it/s]\n",
            "TEST :  epoch=20 test_loss=0.01750 correct/total=9937/10000 accuracy=\u001b[1m99.37\u001b[0m: 100%|██████████| 157/157 [00:02<00:00, 69.15it/s]\n",
            "TRAIN : epoch=21 train_loss=0.00046 correct/total=59465/60000 accuracy=99.11: 100%|██████████| 938/938 [00:21<00:00, 51.07it/s]\n",
            "TEST :  epoch=21 test_loss=0.01655 correct/total=9940/10000 accuracy=\u001b[1m99.40\u001b[0m: 100%|██████████| 157/157 [00:02<00:00, 64.61it/s]\n",
            "TRAIN : epoch=22 train_loss=0.00046 correct/total=59491/60000 accuracy=99.15: 100%|██████████| 938/938 [00:21<00:00, 43.35it/s]\n",
            "TEST :  epoch=22 test_loss=0.01679 correct/total=9941/10000 accuracy=\u001b[1m99.41\u001b[0m: 100%|██████████| 157/157 [00:02<00:00, 65.81it/s]\n",
            "TRAIN : epoch=23 train_loss=0.00046 correct/total=59481/60000 accuracy=99.14: 100%|██████████| 938/938 [00:21<00:00, 43.52it/s]\n",
            "TEST :  epoch=23 test_loss=0.01803 correct/total=9940/10000 accuracy=\u001b[1m99.40\u001b[0m: 100%|██████████| 157/157 [00:02<00:00, 67.40it/s]\n",
            "TRAIN : epoch=24 train_loss=0.00045 correct/total=59509/60000 accuracy=99.18: 100%|██████████| 938/938 [00:20<00:00, 44.83it/s]\n",
            "TEST :  epoch=24 test_loss=0.01662 correct/total=9940/10000 accuracy=\u001b[1m99.40\u001b[0m: 100%|██████████| 157/157 [00:02<00:00, 65.06it/s]\n",
            "TRAIN : epoch=25 train_loss=0.00045 correct/total=59475/60000 accuracy=99.12: 100%|██████████| 938/938 [00:21<00:00, 43.60it/s]\n",
            "TEST :  epoch=25 test_loss=0.01793 correct/total=9940/10000 accuracy=\u001b[1m99.40\u001b[0m: 100%|██████████| 157/157 [00:02<00:00, 65.18it/s]\n",
            "TRAIN : epoch=26 train_loss=0.00047 correct/total=59451/60000 accuracy=99.08: 100%|██████████| 938/938 [00:21<00:00, 43.49it/s]\n",
            "TEST :  epoch=26 test_loss=0.01707 correct/total=9938/10000 accuracy=\u001b[1m99.38\u001b[0m: 100%|██████████| 157/157 [00:02<00:00, 66.59it/s]\n",
            "TRAIN : epoch=27 train_loss=0.00044 correct/total=59517/60000 accuracy=99.19: 100%|██████████| 938/938 [00:21<00:00, 44.05it/s]\n",
            "TEST :  epoch=27 test_loss=0.01670 correct/total=9942/10000 accuracy=\u001b[1m99.42\u001b[0m: 100%|██████████| 157/157 [00:02<00:00, 68.35it/s]\n",
            "TRAIN : epoch=28 train_loss=0.00045 correct/total=59479/60000 accuracy=99.13: 100%|██████████| 938/938 [00:22<00:00, 42.25it/s]\n",
            "TEST :  epoch=28 test_loss=0.01711 correct/total=9943/10000 accuracy=\u001b[1m99.43\u001b[0m: 100%|██████████| 157/157 [00:02<00:00, 62.44it/s]\n",
            "TRAIN : epoch=29 train_loss=0.00046 correct/total=59450/60000 accuracy=99.08: 100%|██████████| 938/938 [00:21<00:00, 49.47it/s]\n",
            "TEST :  epoch=29 test_loss=0.01744 correct/total=9937/10000 accuracy=\u001b[1m99.37\u001b[0m: 100%|██████████| 157/157 [00:02<00:00, 67.66it/s]\n",
            "TRAIN : epoch=30 train_loss=0.00044 correct/total=59519/60000 accuracy=99.20: 100%|██████████| 938/938 [00:21<00:00, 43.56it/s]\n",
            "TEST :  epoch=30 test_loss=0.01765 correct/total=9936/10000 accuracy=\u001b[1m99.36\u001b[0m: 100%|██████████| 157/157 [00:02<00:00, 64.76it/s]\n",
            "TRAIN : epoch=31 train_loss=0.00046 correct/total=59491/60000 accuracy=99.15: 100%|██████████| 938/938 [00:21<00:00, 44.20it/s]\n",
            "TEST :  epoch=31 test_loss=0.01686 correct/total=9939/10000 accuracy=\u001b[1m99.39\u001b[0m: 100%|██████████| 157/157 [00:02<00:00, 65.10it/s]\n",
            "TRAIN : epoch=32 train_loss=0.00045 correct/total=59490/60000 accuracy=99.15: 100%|██████████| 938/938 [00:21<00:00, 44.51it/s]\n",
            "TEST :  epoch=32 test_loss=0.01711 correct/total=9939/10000 accuracy=\u001b[1m99.39\u001b[0m: 100%|██████████| 157/157 [00:02<00:00, 85.33it/s]\n",
            "TRAIN : epoch=33 train_loss=0.00046 correct/total=59484/60000 accuracy=99.14: 100%|██████████| 938/938 [00:21<00:00, 43.78it/s]\n",
            "TEST :  epoch=33 test_loss=0.01700 correct/total=9938/10000 accuracy=\u001b[1m99.38\u001b[0m: 100%|██████████| 157/157 [00:02<00:00, 70.22it/s]\n",
            "TRAIN : epoch=34 train_loss=0.00044 correct/total=59506/60000 accuracy=99.18: 100%|██████████| 938/938 [00:21<00:00, 44.49it/s]\n",
            "TEST :  epoch=34 test_loss=0.01671 correct/total=9942/10000 accuracy=\u001b[1m99.42\u001b[0m: 100%|██████████| 157/157 [00:02<00:00, 67.90it/s]\n",
            "TRAIN : epoch=35 train_loss=0.00047 correct/total=59483/60000 accuracy=99.14: 100%|██████████| 938/938 [00:21<00:00, 50.32it/s]\n",
            "TEST :  epoch=35 test_loss=0.01710 correct/total=9944/10000 accuracy=\u001b[1m99.44\u001b[0m: 100%|██████████| 157/157 [00:02<00:00, 63.75it/s]\n",
            "TRAIN : epoch=36 train_loss=0.00045 correct/total=59491/60000 accuracy=99.15: 100%|██████████| 938/938 [00:21<00:00, 43.70it/s]\n",
            "TEST :  epoch=36 test_loss=0.01670 correct/total=9942/10000 accuracy=\u001b[1m99.42\u001b[0m: 100%|██████████| 157/157 [00:02<00:00, 66.68it/s]\n",
            "TRAIN : epoch=37 train_loss=0.00046 correct/total=59465/60000 accuracy=99.11: 100%|██████████| 938/938 [00:21<00:00, 44.52it/s]\n",
            "TEST :  epoch=37 test_loss=0.01664 correct/total=9940/10000 accuracy=\u001b[1m99.40\u001b[0m: 100%|██████████| 157/157 [00:02<00:00, 68.20it/s]\n",
            "TRAIN : epoch=38 train_loss=0.00046 correct/total=59483/60000 accuracy=99.14: 100%|██████████| 938/938 [00:21<00:00, 43.16it/s]\n",
            "TEST :  epoch=38 test_loss=0.01713 correct/total=9940/10000 accuracy=\u001b[1m99.40\u001b[0m: 100%|██████████| 157/157 [00:02<00:00, 68.13it/s]\n",
            "TRAIN : epoch=39 train_loss=0.00045 correct/total=59494/60000 accuracy=99.16: 100%|██████████| 938/938 [00:20<00:00, 44.91it/s]\n",
            "TEST :  epoch=39 test_loss=0.01738 correct/total=9938/10000 accuracy=\u001b[1m99.38\u001b[0m: 100%|██████████| 157/157 [00:02<00:00, 63.99it/s]\n",
            "TRAIN : epoch=0 train_loss=0.00674 correct/total=52849/60000 accuracy=88.08: 100%|██████████| 938/938 [00:19<00:00, 49.35it/s]\n",
            "TEST :  epoch=0 test_loss=0.06380 correct/total=9818/10000 accuracy=\u001b[1m98.18\u001b[0m: 100%|██████████| 157/157 [00:02<00:00, 69.17it/s]\n",
            "TRAIN : epoch=1 train_loss=0.00133 correct/total=58537/60000 accuracy=97.56: 100%|██████████| 938/938 [00:19<00:00, 47.62it/s]\n",
            "TEST :  epoch=1 test_loss=0.03892 correct/total=9880/10000 accuracy=\u001b[1m98.80\u001b[0m: 100%|██████████| 157/157 [00:02<00:00, 62.10it/s]\n",
            "TRAIN : epoch=2 train_loss=0.00101 correct/total=58836/60000 accuracy=98.06: 100%|██████████| 938/938 [00:19<00:00, 47.22it/s]\n",
            "TEST :  epoch=2 test_loss=0.03754 correct/total=9875/10000 accuracy=\u001b[1m98.75\u001b[0m: 100%|██████████| 157/157 [00:02<00:00, 67.01it/s]\n",
            "TRAIN : epoch=3 train_loss=0.00088 correct/total=58967/60000 accuracy=98.28: 100%|██████████| 938/938 [00:20<00:00, 46.47it/s]\n",
            "TEST :  epoch=3 test_loss=0.03386 correct/total=9904/10000 accuracy=\u001b[1m99.04\u001b[0m: 100%|██████████| 157/157 [00:02<00:00, 63.21it/s]\n",
            "TRAIN : epoch=4 train_loss=0.00081 correct/total=59068/60000 accuracy=98.45: 100%|██████████| 938/938 [00:20<00:00, 46.73it/s]\n",
            "TEST :  epoch=4 test_loss=0.02518 correct/total=9922/10000 accuracy=\u001b[1m99.22\u001b[0m: 100%|██████████| 157/157 [00:02<00:00, 63.76it/s]\n",
            "TRAIN : epoch=5 train_loss=0.00075 correct/total=59143/60000 accuracy=98.57: 100%|██████████| 938/938 [00:19<00:00, 47.30it/s]\n",
            "TEST :  epoch=5 test_loss=0.02154 correct/total=9931/10000 accuracy=\u001b[1m99.31\u001b[0m: 100%|██████████| 157/157 [00:02<00:00, 63.94it/s]\n",
            "TRAIN : epoch=6 train_loss=0.00070 correct/total=59178/60000 accuracy=98.63: 100%|██████████| 938/938 [00:20<00:00, 46.64it/s]\n",
            "TEST :  epoch=6 test_loss=0.02397 correct/total=9922/10000 accuracy=\u001b[1m99.22\u001b[0m: 100%|██████████| 157/157 [00:02<00:00, 65.01it/s]\n",
            "TRAIN : epoch=7 train_loss=0.00065 correct/total=59248/60000 accuracy=98.75: 100%|██████████| 938/938 [00:20<00:00, 46.24it/s]\n",
            "TEST :  epoch=7 test_loss=0.02132 correct/total=9944/10000 accuracy=\u001b[1m99.44\u001b[0m: 100%|██████████| 157/157 [00:02<00:00, 64.57it/s]\n",
            "TRAIN : epoch=8 train_loss=0.00051 correct/total=59400/60000 accuracy=99.00: 100%|██████████| 938/938 [00:19<00:00, 57.60it/s]\n",
            "TEST :  epoch=8 test_loss=0.01750 correct/total=9949/10000 accuracy=\u001b[1m99.49\u001b[0m: 100%|██████████| 157/157 [00:02<00:00, 67.25it/s]\n",
            "TRAIN : epoch=9 train_loss=0.00047 correct/total=59471/60000 accuracy=99.12: 100%|██████████| 938/938 [00:19<00:00, 47.88it/s]\n",
            "TEST :  epoch=9 test_loss=0.01752 correct/total=9947/10000 accuracy=\u001b[1m99.47\u001b[0m: 100%|██████████| 157/157 [00:02<00:00, 65.06it/s]\n",
            "TRAIN : epoch=10 train_loss=0.00049 correct/total=59415/60000 accuracy=99.03: 100%|██████████| 938/938 [00:19<00:00, 48.22it/s]\n",
            "TEST :  epoch=10 test_loss=0.01795 correct/total=9947/10000 accuracy=\u001b[1m99.47\u001b[0m: 100%|██████████| 157/157 [00:02<00:00, 70.33it/s]\n",
            "TRAIN : epoch=11 train_loss=0.00048 correct/total=59416/60000 accuracy=99.03: 100%|██████████| 938/938 [00:19<00:00, 48.03it/s]\n",
            "TEST :  epoch=11 test_loss=0.01688 correct/total=9944/10000 accuracy=\u001b[1m99.44\u001b[0m: 100%|██████████| 157/157 [00:02<00:00, 66.98it/s]\n",
            "TRAIN : epoch=12 train_loss=0.00046 correct/total=59470/60000 accuracy=99.12: 100%|██████████| 938/938 [00:19<00:00, 48.16it/s]\n",
            "TEST :  epoch=12 test_loss=0.01674 correct/total=9952/10000 accuracy=\u001b[1m99.52\u001b[0m: 100%|██████████| 157/157 [00:02<00:00, 61.10it/s]\n",
            "TRAIN : epoch=13 train_loss=0.00046 correct/total=59468/60000 accuracy=99.11: 100%|██████████| 938/938 [00:19<00:00, 49.29it/s]\n",
            "TEST :  epoch=13 test_loss=0.01620 correct/total=9948/10000 accuracy=\u001b[1m99.48\u001b[0m: 100%|██████████| 157/157 [00:02<00:00, 63.41it/s]\n",
            "TRAIN : epoch=14 train_loss=0.00046 correct/total=59464/60000 accuracy=99.11: 100%|██████████| 938/938 [00:19<00:00, 48.56it/s]\n",
            "TEST :  epoch=14 test_loss=0.01703 correct/total=9946/10000 accuracy=\u001b[1m99.46\u001b[0m: 100%|██████████| 157/157 [00:02<00:00, 66.55it/s]\n",
            "TRAIN : epoch=15 train_loss=0.00046 correct/total=59482/60000 accuracy=99.14: 100%|██████████| 938/938 [00:19<00:00, 49.14it/s]\n",
            "TEST :  epoch=15 test_loss=0.01691 correct/total=9944/10000 accuracy=\u001b[1m99.44\u001b[0m: 100%|██████████| 157/157 [00:02<00:00, 66.09it/s]\n",
            "TRAIN : epoch=16 train_loss=0.00044 correct/total=59478/60000 accuracy=99.13: 100%|██████████| 938/938 [00:20<00:00, 54.39it/s]\n",
            "TEST :  epoch=16 test_loss=0.01655 correct/total=9943/10000 accuracy=\u001b[1m99.43\u001b[0m: 100%|██████████| 157/157 [00:02<00:00, 65.54it/s]\n",
            "TRAIN : epoch=17 train_loss=0.00045 correct/total=59491/60000 accuracy=99.15: 100%|██████████| 938/938 [00:19<00:00, 48.28it/s]\n",
            "TEST :  epoch=17 test_loss=0.01637 correct/total=9948/10000 accuracy=\u001b[1m99.48\u001b[0m: 100%|██████████| 157/157 [00:02<00:00, 67.05it/s]\n",
            "TRAIN : epoch=18 train_loss=0.00042 correct/total=59504/60000 accuracy=99.17: 100%|██████████| 938/938 [00:19<00:00, 48.22it/s]\n",
            "TEST :  epoch=18 test_loss=0.01610 correct/total=9945/10000 accuracy=\u001b[1m99.45\u001b[0m: 100%|██████████| 157/157 [00:02<00:00, 63.69it/s]\n",
            "TRAIN : epoch=19 train_loss=0.00045 correct/total=59464/60000 accuracy=99.11: 100%|██████████| 938/938 [00:19<00:00, 48.32it/s]\n",
            "TEST :  epoch=19 test_loss=0.01638 correct/total=9947/10000 accuracy=\u001b[1m99.47\u001b[0m: 100%|██████████| 157/157 [00:02<00:00, 63.41it/s]\n",
            "TRAIN : epoch=20 train_loss=0.00045 correct/total=59473/60000 accuracy=99.12: 100%|██████████| 938/938 [00:18<00:00, 49.41it/s]\n",
            "TEST :  epoch=20 test_loss=0.01575 correct/total=9945/10000 accuracy=\u001b[1m99.45\u001b[0m: 100%|██████████| 157/157 [00:02<00:00, 64.75it/s]\n",
            "TRAIN : epoch=21 train_loss=0.00044 correct/total=59489/60000 accuracy=99.15: 100%|██████████| 938/938 [00:19<00:00, 58.88it/s]\n",
            "TEST :  epoch=21 test_loss=0.01617 correct/total=9947/10000 accuracy=\u001b[1m99.47\u001b[0m: 100%|██████████| 157/157 [00:02<00:00, 66.40it/s]\n",
            "TRAIN : epoch=22 train_loss=0.00043 correct/total=59487/60000 accuracy=99.14: 100%|██████████| 938/938 [00:19<00:00, 48.38it/s]\n",
            "TEST :  epoch=22 test_loss=0.01638 correct/total=9949/10000 accuracy=\u001b[1m99.49\u001b[0m: 100%|██████████| 157/157 [00:02<00:00, 64.07it/s]\n",
            "TRAIN : epoch=23 train_loss=0.00044 correct/total=59483/60000 accuracy=99.14: 100%|██████████| 938/938 [00:19<00:00, 48.16it/s]\n",
            "TEST :  epoch=23 test_loss=0.01647 correct/total=9946/10000 accuracy=\u001b[1m99.46\u001b[0m: 100%|██████████| 157/157 [00:02<00:00, 60.78it/s]\n",
            "TRAIN : epoch=24 train_loss=0.00044 correct/total=59476/60000 accuracy=99.13: 100%|██████████| 938/938 [00:19<00:00, 48.84it/s]\n",
            "TEST :  epoch=24 test_loss=0.01594 correct/total=9947/10000 accuracy=\u001b[1m99.47\u001b[0m: 100%|██████████| 157/157 [00:02<00:00, 67.25it/s]\n",
            "TRAIN : epoch=25 train_loss=0.00045 correct/total=59502/60000 accuracy=99.17: 100%|██████████| 938/938 [00:19<00:00, 47.79it/s]\n",
            "TEST :  epoch=25 test_loss=0.01612 correct/total=9948/10000 accuracy=\u001b[1m99.48\u001b[0m: 100%|██████████| 157/157 [00:02<00:00, 66.05it/s]\n",
            "TRAIN : epoch=26 train_loss=0.00044 correct/total=59475/60000 accuracy=99.12: 100%|██████████| 938/938 [00:19<00:00, 48.48it/s]\n",
            "TEST :  epoch=26 test_loss=0.01650 correct/total=9947/10000 accuracy=\u001b[1m99.47\u001b[0m: 100%|██████████| 157/157 [00:02<00:00, 62.03it/s]\n",
            "TRAIN : epoch=27 train_loss=0.00045 correct/total=59458/60000 accuracy=99.10: 100%|██████████| 938/938 [00:19<00:00, 48.62it/s]\n",
            "TEST :  epoch=27 test_loss=0.01618 correct/total=9946/10000 accuracy=\u001b[1m99.46\u001b[0m: 100%|██████████| 157/157 [00:02<00:00, 68.43it/s]\n",
            "TRAIN : epoch=28 train_loss=0.00044 correct/total=59461/60000 accuracy=99.10: 100%|██████████| 938/938 [00:19<00:00, 47.72it/s]\n",
            "TEST :  epoch=28 test_loss=0.01607 correct/total=9950/10000 accuracy=\u001b[1m99.50\u001b[0m: 100%|██████████| 157/157 [00:02<00:00, 65.41it/s]\n",
            "TRAIN : epoch=29 train_loss=0.00044 correct/total=59514/60000 accuracy=99.19: 100%|██████████| 938/938 [00:19<00:00, 49.16it/s]\n",
            "TEST :  epoch=29 test_loss=0.01591 correct/total=9947/10000 accuracy=\u001b[1m99.47\u001b[0m: 100%|██████████| 157/157 [00:02<00:00, 69.45it/s]\n",
            "TRAIN : epoch=30 train_loss=0.00042 correct/total=59518/60000 accuracy=99.20: 100%|██████████| 938/938 [00:19<00:00, 49.33it/s]\n",
            "TEST :  epoch=30 test_loss=0.01692 correct/total=9946/10000 accuracy=\u001b[1m99.46\u001b[0m: 100%|██████████| 157/157 [00:02<00:00, 73.48it/s]\n",
            "TRAIN : epoch=31 train_loss=0.00042 correct/total=59495/60000 accuracy=99.16: 100%|██████████| 938/938 [00:18<00:00, 49.76it/s]\n",
            "TEST :  epoch=31 test_loss=0.01635 correct/total=9946/10000 accuracy=\u001b[1m99.46\u001b[0m: 100%|██████████| 157/157 [00:02<00:00, 65.86it/s]\n",
            "TRAIN : epoch=32 train_loss=0.00043 correct/total=59493/60000 accuracy=99.16: 100%|██████████| 938/938 [00:19<00:00, 48.79it/s]\n",
            "TEST :  epoch=32 test_loss=0.01560 correct/total=9951/10000 accuracy=\u001b[1m99.51\u001b[0m: 100%|██████████| 157/157 [00:02<00:00, 67.54it/s]\n",
            "TRAIN : epoch=33 train_loss=0.00045 correct/total=59472/60000 accuracy=99.12: 100%|██████████| 938/938 [00:18<00:00, 49.70it/s]\n",
            "TEST :  epoch=33 test_loss=0.01621 correct/total=9950/10000 accuracy=\u001b[1m99.50\u001b[0m: 100%|██████████| 157/157 [00:02<00:00, 66.36it/s]\n",
            "TRAIN : epoch=34 train_loss=0.00043 correct/total=59494/60000 accuracy=99.16: 100%|██████████| 938/938 [00:18<00:00, 50.02it/s]\n",
            "TEST :  epoch=34 test_loss=0.01668 correct/total=9946/10000 accuracy=\u001b[1m99.46\u001b[0m: 100%|██████████| 157/157 [00:02<00:00, 65.29it/s]\n",
            "TRAIN : epoch=35 train_loss=0.00044 correct/total=59485/60000 accuracy=99.14: 100%|██████████| 938/938 [00:18<00:00, 49.80it/s]\n",
            "TEST :  epoch=35 test_loss=0.01651 correct/total=9948/10000 accuracy=\u001b[1m99.48\u001b[0m: 100%|██████████| 157/157 [00:02<00:00, 68.53it/s]\n",
            "TRAIN : epoch=36 train_loss=0.00044 correct/total=59520/60000 accuracy=99.20: 100%|██████████| 938/938 [00:19<00:00, 49.34it/s]\n",
            "TEST :  epoch=36 test_loss=0.01666 correct/total=9944/10000 accuracy=\u001b[1m99.44\u001b[0m: 100%|██████████| 157/157 [00:02<00:00, 65.57it/s]\n",
            "TRAIN : epoch=37 train_loss=0.00044 correct/total=59504/60000 accuracy=99.17: 100%|██████████| 938/938 [00:19<00:00, 49.28it/s]\n",
            "TEST :  epoch=37 test_loss=0.01596 correct/total=9947/10000 accuracy=\u001b[1m99.47\u001b[0m: 100%|██████████| 157/157 [00:02<00:00, 81.44it/s]\n",
            "TRAIN : epoch=38 train_loss=0.00044 correct/total=59464/60000 accuracy=99.11: 100%|██████████| 938/938 [00:18<00:00, 51.04it/s]\n",
            "TEST :  epoch=38 test_loss=0.01672 correct/total=9947/10000 accuracy=\u001b[1m99.47\u001b[0m: 100%|██████████| 157/157 [00:02<00:00, 67.60it/s]\n",
            "TRAIN : epoch=39 train_loss=0.00043 correct/total=59509/60000 accuracy=99.18: 100%|██████████| 938/938 [00:18<00:00, 49.54it/s]\n",
            "TEST :  epoch=39 test_loss=0.01621 correct/total=9948/10000 accuracy=\u001b[1m99.48\u001b[0m: 100%|██████████| 157/157 [00:02<00:00, 68.75it/s]\n"
          ],
          "name": "stderr"
        }
      ]
    },
    {
      "cell_type": "markdown",
      "metadata": {
        "id": "JWrQSdddh7yQ",
        "colab_type": "text"
      },
      "source": [
        "# Outputs"
      ]
    },
    {
      "cell_type": "markdown",
      "metadata": {
        "id": "dYAvN6OeUznV",
        "colab_type": "text"
      },
      "source": [
        "## Loss and accuracy"
      ]
    },
    {
      "cell_type": "code",
      "metadata": {
        "id": "qi94mFdK4xvy",
        "colab_type": "code",
        "colab": {}
      },
      "source": [
        "def get_test_train_logs(experiment_name):\n",
        "  train_dir_suffix = f'/content/drive/My Drive/log_mnist_s6/run_train_{experiment_name}'\n",
        "  test_dir_suffix = f'/content/drive/My Drive/log_mnist_s6/run_test_{experiment_name}'\n",
        "\n",
        "  train_1 = glob.glob(f'{train_dir_suffix}_*/events.out.tfevents.*')[-1]\n",
        "  test_1 = glob.glob(f'{test_dir_suffix}_*/events.out.tfevents.*')[-1]\n",
        "\n",
        "  experiment_data = {experiment_name: (train_1, test_1)}\n",
        "\n",
        "  for experiment, (train, test) in experiment_data.items():\n",
        "    train_data = {}\n",
        "    test_data = {}\n",
        "    for e in tf.compat.v1.train.summary_iterator(train):\n",
        "        for v in e.summary.value:\n",
        "            if v.tag not in train_data:\n",
        "                train_data[v.tag] = []\n",
        "            train_data[v.tag].append(v.simple_value)\n",
        "    for e in tf.compat.v1.train.summary_iterator(test):\n",
        "          for v in e.summary.value:\n",
        "              if v.tag not in test_data:\n",
        "                  test_data[v.tag] = []\n",
        "              test_data[v.tag].append(v.simple_value)\n",
        "  \n",
        "  return train_data, test_data"
      ],
      "execution_count": 0,
      "outputs": []
    },
    {
      "cell_type": "code",
      "metadata": {
        "id": "Vzak9HbGQTAd",
        "colab_type": "code",
        "colab": {}
      },
      "source": [
        "experiments = []\n",
        "for regularization in [None, 'L1', 'L2', 'L1 and L2']:\n",
        "  for weight_decay in [1e-6]:\n",
        "    experiment = f's6_{regularization if regularization else \"no\"}_reg_{weight_decay:1.0e}'\n",
        "    experiments.append(experiment)"
      ],
      "execution_count": 0,
      "outputs": []
    },
    {
      "cell_type": "code",
      "metadata": {
        "id": "EONLRDWxoJBz",
        "colab_type": "code",
        "colab": {}
      },
      "source": [
        "summary = {}\n",
        "for experiment in experiments:\n",
        "  summary[experiment] = {}\n",
        "  train_data, test_data = get_test_train_logs(experiment)\n",
        "  summary[experiment]['train'] = train_data\n",
        "  summary[experiment]['test'] = test_data"
      ],
      "execution_count": 0,
      "outputs": []
    },
    {
      "cell_type": "code",
      "metadata": {
        "id": "JgJZ91W_zqfN",
        "colab_type": "code",
        "outputId": "16b6fe7a-fd46-4e1a-b55b-7077afb57f8c",
        "colab": {
          "base_uri": "https://localhost:8080/",
          "height": 458
        }
      },
      "source": [
        "fig, axs = plt.subplots(1, 1, figsize=(10, 7))\n",
        "\n",
        "legends = []\n",
        "\n",
        "axs.set_title(f'Train loss plot')\n",
        "\n",
        "for experiment in experiments:\n",
        "  axs.plot(summary[experiment]['test']['loss'])\n",
        "  axs.set_ylabel('Loss')\n",
        "  axs.set_xlabel('Epoch')\n",
        "  legends.append(experiment.replace('s6', '').replace('_', ' ').upper())\n",
        "\n",
        "axs.legend(legends, loc='best')\n",
        "\n",
        "plt.savefig('/content/drive/My Drive/log_mnist_s6/test-loss-curve.jpg')\n",
        "plt.show()"
      ],
      "execution_count": 0,
      "outputs": [
        {
          "output_type": "display_data",
          "data": {
            "image/png": "[encoded data removed]",
            "text/plain": [
              "<Figure size 720x504 with 1 Axes>"
            ]
          },
          "metadata": {
            "tags": []
          }
        }
      ]
    },
    {
      "cell_type": "code",
      "metadata": {
        "id": "quA7ve6QBVf8",
        "colab_type": "code",
        "outputId": "51e9ddfd-27cb-41aa-db69-fa8c8713539c",
        "colab": {
          "base_uri": "https://localhost:8080/",
          "height": 350
        }
      },
      "source": [
        "fig, axs = plt.subplots(1, 1, figsize=(10, 5))\n",
        "\n",
        "axs.set_title(f'Validation accuracy plot')\n",
        "\n",
        "legends = []\n",
        "\n",
        "for experiment in experiments:\n",
        "  axs.plot(summary[experiment]['test']['accuracy'])\n",
        "  axs.set_ylabel('Accuracy')\n",
        "  axs.set_xlabel('Epoch')\n",
        "  legends.append(experiment.replace('s6', '').replace('_', ' ').upper())\n",
        "\n",
        "axs.legend(legends, loc='best')\n",
        "\n",
        "plt.savefig('/content/drive/My Drive/log_mnist_s6/validation-accuracy-curve.jpg')\n",
        "plt.show()"
      ],
      "execution_count": 0,
      "outputs": [
        {
          "output_type": "display_data",
          "data": {
            "image/png": "[encoded data removed]",
            "text/plain": [
              "<Figure size 720x360 with 1 Axes>"
            ]
          },
          "metadata": {
            "tags": []
          }
        }
      ]
    },
    {
      "cell_type": "markdown",
      "metadata": {
        "id": "afOzhcTW-SeE",
        "colab_type": "text"
      },
      "source": [
        "## Get mis-classified"
      ]
    },
    {
      "cell_type": "code",
      "metadata": {
        "id": "h9KMDCQL-aNc",
        "colab_type": "code",
        "colab": {}
      },
      "source": [
        "def get_mis_classified(model, no_of_images=25):\n",
        "  train_loader_iterator = iter(train_loader)\n",
        "  fail_count = 0\n",
        "  failed_samples = []\n",
        "  while fail_count < no_of_images:\n",
        "    data, target = train_loader_iterator.next()\n",
        "    data, target = data.to(device), target.to(device)\n",
        "\n",
        "    output = model(data)\n",
        "\n",
        "    pred = output.argmax(dim=1, keepdim=True)\n",
        "    failed_index = ~pred.eq(target.view_as(pred)).squeeze()\n",
        "\n",
        "    failed_data = data[failed_index]\n",
        "    failed_target = target[failed_index]\n",
        "    failed_prediction = pred[failed_index]\n",
        "    \n",
        "    batch_fail_count = failed_data.size(dim=0)\n",
        "    fail_count += batch_fail_count\n",
        "\n",
        "    for count in range(batch_fail_count):\n",
        "      failed_sample = {\n",
        "          'data': failed_data[count].view(28, 28).cpu().numpy(),\n",
        "          'target': failed_target[count],\n",
        "          'prediction': failed_prediction[count].item()\n",
        "      }\n",
        "\n",
        "      failed_samples.append(failed_sample)\n",
        "\n",
        "  return failed_samples"
      ],
      "execution_count": 0,
      "outputs": []
    },
    {
      "cell_type": "markdown",
      "metadata": {
        "id": "DKIESY0GiNjd",
        "colab_type": "text"
      },
      "source": [
        "### L1 mis-classified"
      ]
    },
    {
      "cell_type": "code",
      "metadata": {
        "id": "YunGrx-tHP1Q",
        "colab_type": "code",
        "outputId": "92cfc5e8-9a3f-4fc2-af9c-7f72234d11fc",
        "colab": {
          "base_uri": "https://localhost:8080/",
          "height": 877
        }
      },
      "source": [
        "figure = plt.figure(figsize=(15, 15))\n",
        "num_of_images = 25\n",
        "failed_samples = get_mis_classified(models['s6_L1_reg_1e-06'], num_of_images)\n",
        "for index in range(1, num_of_images + 1):\n",
        "    ax = plt.subplot(5, 5, index)\n",
        "    plt.axis('off')\n",
        "    plt.imshow(failed_samples[index - 1]['data'], cmap='gray_r')\n",
        "    ax.set_title(f\"target: {failed_samples[index - 1]['target']} \\n prediction: {failed_samples[index - 1]['prediction']}\")\n",
        "plt.savefig('/content/drive/My Drive/log_mnist_s6/failed-l1.jpg')"
      ],
      "execution_count": 0,
      "outputs": [
        {
          "output_type": "display_data",
          "data": {
            "image/png": "[encoded data removed]",
            "text/plain": [
              "<Figure size 1080x1080 with 25 Axes>"
            ]
          },
          "metadata": {
            "tags": []
          }
        }
      ]
    },
    {
      "cell_type": "markdown",
      "metadata": {
        "id": "uYpJ_EM2iZIa",
        "colab_type": "text"
      },
      "source": [
        "### L2-misclassified"
      ]
    },
    {
      "cell_type": "code",
      "metadata": {
        "id": "a-jCYimaicCL",
        "colab_type": "code",
        "outputId": "dfe2f029-ba89-4224-fcc9-4fa833e2c6ee",
        "colab": {
          "base_uri": "https://localhost:8080/",
          "height": 877
        }
      },
      "source": [
        "figure = plt.figure(figsize=(15, 15))\n",
        "num_of_images = 25\n",
        "failed_samples = get_mis_classified(models['s6_L2_reg_1e-06'], num_of_images)\n",
        "for index in range(1, num_of_images + 1):\n",
        "    ax = plt.subplot(5, 5, index)\n",
        "    plt.axis('off')\n",
        "    plt.imshow(failed_samples[index - 1]['data'], cmap='gray_r')\n",
        "    ax.set_title(f\"target: {failed_samples[index - 1]['target']} \\n prediction: {failed_samples[index - 1]['prediction']}\")\n",
        "plt.savefig('/content/drive/My Drive/log_mnist_s6/failed-l2.jpg')"
      ],
      "execution_count": 0,
      "outputs": [
        {
          "output_type": "display_data",
          "data": {
            "image/png": "[encoded data removed]",
            "text/plain": [
              "<Figure size 1080x1080 with 25 Axes>"
            ]
          },
          "metadata": {
            "tags": []
          }
        }
      ]
    },
    {
      "cell_type": "markdown",
      "metadata": {
        "id": "4-HpmKh_UQIq",
        "colab_type": "text"
      },
      "source": [
        "# Target\n",
        " - Introduced LR - scheduler and image augmentation\n",
        "  - LR scheduled to switch after 8th epoch"
      ]
    },
    {
      "cell_type": "markdown",
      "metadata": {
        "id": "JRFbxwQbURmv",
        "colab_type": "text"
      },
      "source": [
        "# Result\n",
        "| Metric | Value |\n",
        "| - | - |\n",
        "| _Best train accuracy_| **99.05** |\n",
        "| _Best test accuracy_| **99.46** |\n",
        "| _Best epoch number_| **14** |\n",
        "| _Parameter count_ | **9,608** |"
      ]
    },
    {
      "cell_type": "markdown",
      "metadata": {
        "id": "Pwkm2-s9UUbr",
        "colab_type": "text"
      },
      "source": [
        "# Analysis\n",
        " - Best network till now with consistent 99.4+ from epoch 10\n",
        " - LR scheduler working due to very high accuracy change after 8th epoch\n",
        " - No overfitting both train and test accuracies stay close to each other"
      ]
    }
  ]
}