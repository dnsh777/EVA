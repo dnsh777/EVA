{
  "nbformat": 4,
  "nbformat_minor": 0,
  "metadata": {
    "colab": {
      "name": "EVA4 - Session 5_MNIST_Step 2.ipynb",
      "provenance": [],
      "collapsed_sections": [],
      "toc_visible": true,
      "include_colab_link": true
    },
    "kernelspec": {
      "name": "python3",
      "display_name": "Python 3"
    },
    "accelerator": "GPU",
    "widgets": {
      "application/vnd.jupyter.widget-state+json": {
        "07690471e4b64588a46004e9c012aa9a": {
          "model_module": "@jupyter-widgets/controls",
          "model_name": "HBoxModel",
          "state": {
            "_view_name": "HBoxView",
            "_dom_classes": [],
            "_model_name": "HBoxModel",
            "_view_module": "@jupyter-widgets/controls",
            "_model_module_version": "1.5.0",
            "_view_count": null,
            "_view_module_version": "1.5.0",
            "box_style": "",
            "layout": "IPY_MODEL_2611e0e420694d7f989d3e03376aa28a",
            "_model_module": "@jupyter-widgets/controls",
            "children": [
              "IPY_MODEL_34e57ef6a1404a16b415fc47d7be4119",
              "IPY_MODEL_fa1d5d33eb934c0ca19c6cc3a1a810c9"
            ]
          }
        },
        "2611e0e420694d7f989d3e03376aa28a": {
          "model_module": "@jupyter-widgets/base",
          "model_name": "LayoutModel",
          "state": {
            "_view_name": "LayoutView",
            "grid_template_rows": null,
            "right": null,
            "justify_content": null,
            "_view_module": "@jupyter-widgets/base",
            "overflow": null,
            "_model_module_version": "1.2.0",
            "_view_count": null,
            "flex_flow": null,
            "width": null,
            "min_width": null,
            "border": null,
            "align_items": null,
            "bottom": null,
            "_model_module": "@jupyter-widgets/base",
            "top": null,
            "grid_column": null,
            "overflow_y": null,
            "overflow_x": null,
            "grid_auto_flow": null,
            "grid_area": null,
            "grid_template_columns": null,
            "flex": null,
            "_model_name": "LayoutModel",
            "justify_items": null,
            "grid_row": null,
            "max_height": null,
            "align_content": null,
            "visibility": null,
            "align_self": null,
            "height": null,
            "min_height": null,
            "padding": null,
            "grid_auto_rows": null,
            "grid_gap": null,
            "max_width": null,
            "order": null,
            "_view_module_version": "1.2.0",
            "grid_template_areas": null,
            "object_position": null,
            "object_fit": null,
            "grid_auto_columns": null,
            "margin": null,
            "display": null,
            "left": null
          }
        },
        "34e57ef6a1404a16b415fc47d7be4119": {
          "model_module": "@jupyter-widgets/controls",
          "model_name": "IntProgressModel",
          "state": {
            "_view_name": "ProgressView",
            "style": "IPY_MODEL_f9ff2fdf0d1c4ec7b62838ca5bdc7395",
            "_dom_classes": [],
            "description": "",
            "_model_name": "IntProgressModel",
            "bar_style": "success",
            "max": 1,
            "_view_module": "@jupyter-widgets/controls",
            "_model_module_version": "1.5.0",
            "value": 1,
            "_view_count": null,
            "_view_module_version": "1.5.0",
            "orientation": "horizontal",
            "min": 0,
            "description_tooltip": null,
            "_model_module": "@jupyter-widgets/controls",
            "layout": "IPY_MODEL_72e840863d014aefb68dfbf15e969fc9"
          }
        },
        "fa1d5d33eb934c0ca19c6cc3a1a810c9": {
          "model_module": "@jupyter-widgets/controls",
          "model_name": "HTMLModel",
          "state": {
            "_view_name": "HTMLView",
            "style": "IPY_MODEL_aefb500efb8c4b028c8b630aa00767d4",
            "_dom_classes": [],
            "description": "",
            "_model_name": "HTMLModel",
            "placeholder": "​",
            "_view_module": "@jupyter-widgets/controls",
            "_model_module_version": "1.5.0",
            "value": "9920512it [00:00, 25621575.24it/s]",
            "_view_count": null,
            "_view_module_version": "1.5.0",
            "description_tooltip": null,
            "_model_module": "@jupyter-widgets/controls",
            "layout": "IPY_MODEL_87188e3354f343c7b80df2b23d158b53"
          }
        },
        "f9ff2fdf0d1c4ec7b62838ca5bdc7395": {
          "model_module": "@jupyter-widgets/controls",
          "model_name": "ProgressStyleModel",
          "state": {
            "_view_name": "StyleView",
            "_model_name": "ProgressStyleModel",
            "description_width": "",
            "_view_module": "@jupyter-widgets/base",
            "_model_module_version": "1.5.0",
            "_view_count": null,
            "_view_module_version": "1.2.0",
            "bar_color": null,
            "_model_module": "@jupyter-widgets/controls"
          }
        },
        "72e840863d014aefb68dfbf15e969fc9": {
          "model_module": "@jupyter-widgets/base",
          "model_name": "LayoutModel",
          "state": {
            "_view_name": "LayoutView",
            "grid_template_rows": null,
            "right": null,
            "justify_content": null,
            "_view_module": "@jupyter-widgets/base",
            "overflow": null,
            "_model_module_version": "1.2.0",
            "_view_count": null,
            "flex_flow": null,
            "width": null,
            "min_width": null,
            "border": null,
            "align_items": null,
            "bottom": null,
            "_model_module": "@jupyter-widgets/base",
            "top": null,
            "grid_column": null,
            "overflow_y": null,
            "overflow_x": null,
            "grid_auto_flow": null,
            "grid_area": null,
            "grid_template_columns": null,
            "flex": null,
            "_model_name": "LayoutModel",
            "justify_items": null,
            "grid_row": null,
            "max_height": null,
            "align_content": null,
            "visibility": null,
            "align_self": null,
            "height": null,
            "min_height": null,
            "padding": null,
            "grid_auto_rows": null,
            "grid_gap": null,
            "max_width": null,
            "order": null,
            "_view_module_version": "1.2.0",
            "grid_template_areas": null,
            "object_position": null,
            "object_fit": null,
            "grid_auto_columns": null,
            "margin": null,
            "display": null,
            "left": null
          }
        },
        "aefb500efb8c4b028c8b630aa00767d4": {
          "model_module": "@jupyter-widgets/controls",
          "model_name": "DescriptionStyleModel",
          "state": {
            "_view_name": "StyleView",
            "_model_name": "DescriptionStyleModel",
            "description_width": "",
            "_view_module": "@jupyter-widgets/base",
            "_model_module_version": "1.5.0",
            "_view_count": null,
            "_view_module_version": "1.2.0",
            "_model_module": "@jupyter-widgets/controls"
          }
        },
        "87188e3354f343c7b80df2b23d158b53": {
          "model_module": "@jupyter-widgets/base",
          "model_name": "LayoutModel",
          "state": {
            "_view_name": "LayoutView",
            "grid_template_rows": null,
            "right": null,
            "justify_content": null,
            "_view_module": "@jupyter-widgets/base",
            "overflow": null,
            "_model_module_version": "1.2.0",
            "_view_count": null,
            "flex_flow": null,
            "width": null,
            "min_width": null,
            "border": null,
            "align_items": null,
            "bottom": null,
            "_model_module": "@jupyter-widgets/base",
            "top": null,
            "grid_column": null,
            "overflow_y": null,
            "overflow_x": null,
            "grid_auto_flow": null,
            "grid_area": null,
            "grid_template_columns": null,
            "flex": null,
            "_model_name": "LayoutModel",
            "justify_items": null,
            "grid_row": null,
            "max_height": null,
            "align_content": null,
            "visibility": null,
            "align_self": null,
            "height": null,
            "min_height": null,
            "padding": null,
            "grid_auto_rows": null,
            "grid_gap": null,
            "max_width": null,
            "order": null,
            "_view_module_version": "1.2.0",
            "grid_template_areas": null,
            "object_position": null,
            "object_fit": null,
            "grid_auto_columns": null,
            "margin": null,
            "display": null,
            "left": null
          }
        },
        "fb7dba68f50040f4bd0e3e7807cf9618": {
          "model_module": "@jupyter-widgets/controls",
          "model_name": "HBoxModel",
          "state": {
            "_view_name": "HBoxView",
            "_dom_classes": [],
            "_model_name": "HBoxModel",
            "_view_module": "@jupyter-widgets/controls",
            "_model_module_version": "1.5.0",
            "_view_count": null,
            "_view_module_version": "1.5.0",
            "box_style": "",
            "layout": "IPY_MODEL_db01be9ab39141838b4b2b878131fb03",
            "_model_module": "@jupyter-widgets/controls",
            "children": [
              "IPY_MODEL_45465d724755493892dad785d1b1c656",
              "IPY_MODEL_afbe336a69cc47a9bfb016072eb92b6a"
            ]
          }
        },
        "db01be9ab39141838b4b2b878131fb03": {
          "model_module": "@jupyter-widgets/base",
          "model_name": "LayoutModel",
          "state": {
            "_view_name": "LayoutView",
            "grid_template_rows": null,
            "right": null,
            "justify_content": null,
            "_view_module": "@jupyter-widgets/base",
            "overflow": null,
            "_model_module_version": "1.2.0",
            "_view_count": null,
            "flex_flow": null,
            "width": null,
            "min_width": null,
            "border": null,
            "align_items": null,
            "bottom": null,
            "_model_module": "@jupyter-widgets/base",
            "top": null,
            "grid_column": null,
            "overflow_y": null,
            "overflow_x": null,
            "grid_auto_flow": null,
            "grid_area": null,
            "grid_template_columns": null,
            "flex": null,
            "_model_name": "LayoutModel",
            "justify_items": null,
            "grid_row": null,
            "max_height": null,
            "align_content": null,
            "visibility": null,
            "align_self": null,
            "height": null,
            "min_height": null,
            "padding": null,
            "grid_auto_rows": null,
            "grid_gap": null,
            "max_width": null,
            "order": null,
            "_view_module_version": "1.2.0",
            "grid_template_areas": null,
            "object_position": null,
            "object_fit": null,
            "grid_auto_columns": null,
            "margin": null,
            "display": null,
            "left": null
          }
        },
        "45465d724755493892dad785d1b1c656": {
          "model_module": "@jupyter-widgets/controls",
          "model_name": "IntProgressModel",
          "state": {
            "_view_name": "ProgressView",
            "style": "IPY_MODEL_ecf06cdcd32243bba05af8c878a06a1d",
            "_dom_classes": [],
            "description": "",
            "_model_name": "IntProgressModel",
            "bar_style": "success",
            "max": 1,
            "_view_module": "@jupyter-widgets/controls",
            "_model_module_version": "1.5.0",
            "value": 1,
            "_view_count": null,
            "_view_module_version": "1.5.0",
            "orientation": "horizontal",
            "min": 0,
            "description_tooltip": null,
            "_model_module": "@jupyter-widgets/controls",
            "layout": "IPY_MODEL_9689e97ee87046c5a4d64182cdf6ee92"
          }
        },
        "afbe336a69cc47a9bfb016072eb92b6a": {
          "model_module": "@jupyter-widgets/controls",
          "model_name": "HTMLModel",
          "state": {
            "_view_name": "HTMLView",
            "style": "IPY_MODEL_e9709c3cbbf24ebfa8eef24f218f65e8",
            "_dom_classes": [],
            "description": "",
            "_model_name": "HTMLModel",
            "placeholder": "​",
            "_view_module": "@jupyter-widgets/controls",
            "_model_module_version": "1.5.0",
            "value": "32768it [00:00, 338769.08it/s]",
            "_view_count": null,
            "_view_module_version": "1.5.0",
            "description_tooltip": null,
            "_model_module": "@jupyter-widgets/controls",
            "layout": "IPY_MODEL_374dc3d31bc14c70b768c90595afabe6"
          }
        },
        "ecf06cdcd32243bba05af8c878a06a1d": {
          "model_module": "@jupyter-widgets/controls",
          "model_name": "ProgressStyleModel",
          "state": {
            "_view_name": "StyleView",
            "_model_name": "ProgressStyleModel",
            "description_width": "",
            "_view_module": "@jupyter-widgets/base",
            "_model_module_version": "1.5.0",
            "_view_count": null,
            "_view_module_version": "1.2.0",
            "bar_color": null,
            "_model_module": "@jupyter-widgets/controls"
          }
        },
        "9689e97ee87046c5a4d64182cdf6ee92": {
          "model_module": "@jupyter-widgets/base",
          "model_name": "LayoutModel",
          "state": {
            "_view_name": "LayoutView",
            "grid_template_rows": null,
            "right": null,
            "justify_content": null,
            "_view_module": "@jupyter-widgets/base",
            "overflow": null,
            "_model_module_version": "1.2.0",
            "_view_count": null,
            "flex_flow": null,
            "width": null,
            "min_width": null,
            "border": null,
            "align_items": null,
            "bottom": null,
            "_model_module": "@jupyter-widgets/base",
            "top": null,
            "grid_column": null,
            "overflow_y": null,
            "overflow_x": null,
            "grid_auto_flow": null,
            "grid_area": null,
            "grid_template_columns": null,
            "flex": null,
            "_model_name": "LayoutModel",
            "justify_items": null,
            "grid_row": null,
            "max_height": null,
            "align_content": null,
            "visibility": null,
            "align_self": null,
            "height": null,
            "min_height": null,
            "padding": null,
            "grid_auto_rows": null,
            "grid_gap": null,
            "max_width": null,
            "order": null,
            "_view_module_version": "1.2.0",
            "grid_template_areas": null,
            "object_position": null,
            "object_fit": null,
            "grid_auto_columns": null,
            "margin": null,
            "display": null,
            "left": null
          }
        },
        "e9709c3cbbf24ebfa8eef24f218f65e8": {
          "model_module": "@jupyter-widgets/controls",
          "model_name": "DescriptionStyleModel",
          "state": {
            "_view_name": "StyleView",
            "_model_name": "DescriptionStyleModel",
            "description_width": "",
            "_view_module": "@jupyter-widgets/base",
            "_model_module_version": "1.5.0",
            "_view_count": null,
            "_view_module_version": "1.2.0",
            "_model_module": "@jupyter-widgets/controls"
          }
        },
        "374dc3d31bc14c70b768c90595afabe6": {
          "model_module": "@jupyter-widgets/base",
          "model_name": "LayoutModel",
          "state": {
            "_view_name": "LayoutView",
            "grid_template_rows": null,
            "right": null,
            "justify_content": null,
            "_view_module": "@jupyter-widgets/base",
            "overflow": null,
            "_model_module_version": "1.2.0",
            "_view_count": null,
            "flex_flow": null,
            "width": null,
            "min_width": null,
            "border": null,
            "align_items": null,
            "bottom": null,
            "_model_module": "@jupyter-widgets/base",
            "top": null,
            "grid_column": null,
            "overflow_y": null,
            "overflow_x": null,
            "grid_auto_flow": null,
            "grid_area": null,
            "grid_template_columns": null,
            "flex": null,
            "_model_name": "LayoutModel",
            "justify_items": null,
            "grid_row": null,
            "max_height": null,
            "align_content": null,
            "visibility": null,
            "align_self": null,
            "height": null,
            "min_height": null,
            "padding": null,
            "grid_auto_rows": null,
            "grid_gap": null,
            "max_width": null,
            "order": null,
            "_view_module_version": "1.2.0",
            "grid_template_areas": null,
            "object_position": null,
            "object_fit": null,
            "grid_auto_columns": null,
            "margin": null,
            "display": null,
            "left": null
          }
        },
        "bcf3dffa07d84e6eb40dcb9ef5c147b2": {
          "model_module": "@jupyter-widgets/controls",
          "model_name": "HBoxModel",
          "state": {
            "_view_name": "HBoxView",
            "_dom_classes": [],
            "_model_name": "HBoxModel",
            "_view_module": "@jupyter-widgets/controls",
            "_model_module_version": "1.5.0",
            "_view_count": null,
            "_view_module_version": "1.5.0",
            "box_style": "",
            "layout": "IPY_MODEL_b0d4756204a3403a9fec5b1031cd9a43",
            "_model_module": "@jupyter-widgets/controls",
            "children": [
              "IPY_MODEL_7d2eefe3356c40c2bf787e56a97a3ae1",
              "IPY_MODEL_94ffb6a8e78f4e53810d185fd86f4cc5"
            ]
          }
        },
        "b0d4756204a3403a9fec5b1031cd9a43": {
          "model_module": "@jupyter-widgets/base",
          "model_name": "LayoutModel",
          "state": {
            "_view_name": "LayoutView",
            "grid_template_rows": null,
            "right": null,
            "justify_content": null,
            "_view_module": "@jupyter-widgets/base",
            "overflow": null,
            "_model_module_version": "1.2.0",
            "_view_count": null,
            "flex_flow": null,
            "width": null,
            "min_width": null,
            "border": null,
            "align_items": null,
            "bottom": null,
            "_model_module": "@jupyter-widgets/base",
            "top": null,
            "grid_column": null,
            "overflow_y": null,
            "overflow_x": null,
            "grid_auto_flow": null,
            "grid_area": null,
            "grid_template_columns": null,
            "flex": null,
            "_model_name": "LayoutModel",
            "justify_items": null,
            "grid_row": null,
            "max_height": null,
            "align_content": null,
            "visibility": null,
            "align_self": null,
            "height": null,
            "min_height": null,
            "padding": null,
            "grid_auto_rows": null,
            "grid_gap": null,
            "max_width": null,
            "order": null,
            "_view_module_version": "1.2.0",
            "grid_template_areas": null,
            "object_position": null,
            "object_fit": null,
            "grid_auto_columns": null,
            "margin": null,
            "display": null,
            "left": null
          }
        },
        "7d2eefe3356c40c2bf787e56a97a3ae1": {
          "model_module": "@jupyter-widgets/controls",
          "model_name": "IntProgressModel",
          "state": {
            "_view_name": "ProgressView",
            "style": "IPY_MODEL_fdce2b7cc109473cb7159d077dd5c4a6",
            "_dom_classes": [],
            "description": "",
            "_model_name": "IntProgressModel",
            "bar_style": "success",
            "max": 1,
            "_view_module": "@jupyter-widgets/controls",
            "_model_module_version": "1.5.0",
            "value": 1,
            "_view_count": null,
            "_view_module_version": "1.5.0",
            "orientation": "horizontal",
            "min": 0,
            "description_tooltip": null,
            "_model_module": "@jupyter-widgets/controls",
            "layout": "IPY_MODEL_6c88334f80e541b48b515c61cab35780"
          }
        },
        "94ffb6a8e78f4e53810d185fd86f4cc5": {
          "model_module": "@jupyter-widgets/controls",
          "model_name": "HTMLModel",
          "state": {
            "_view_name": "HTMLView",
            "style": "IPY_MODEL_cc4a12ad8733493f99edd102c6f0bad7",
            "_dom_classes": [],
            "description": "",
            "_model_name": "HTMLModel",
            "placeholder": "​",
            "_view_module": "@jupyter-widgets/controls",
            "_model_module_version": "1.5.0",
            "value": "1654784it [00:00, 6243650.93it/s]",
            "_view_count": null,
            "_view_module_version": "1.5.0",
            "description_tooltip": null,
            "_model_module": "@jupyter-widgets/controls",
            "layout": "IPY_MODEL_a5ca32aa67a34cfcb0f687711934861b"
          }
        },
        "fdce2b7cc109473cb7159d077dd5c4a6": {
          "model_module": "@jupyter-widgets/controls",
          "model_name": "ProgressStyleModel",
          "state": {
            "_view_name": "StyleView",
            "_model_name": "ProgressStyleModel",
            "description_width": "",
            "_view_module": "@jupyter-widgets/base",
            "_model_module_version": "1.5.0",
            "_view_count": null,
            "_view_module_version": "1.2.0",
            "bar_color": null,
            "_model_module": "@jupyter-widgets/controls"
          }
        },
        "6c88334f80e541b48b515c61cab35780": {
          "model_module": "@jupyter-widgets/base",
          "model_name": "LayoutModel",
          "state": {
            "_view_name": "LayoutView",
            "grid_template_rows": null,
            "right": null,
            "justify_content": null,
            "_view_module": "@jupyter-widgets/base",
            "overflow": null,
            "_model_module_version": "1.2.0",
            "_view_count": null,
            "flex_flow": null,
            "width": null,
            "min_width": null,
            "border": null,
            "align_items": null,
            "bottom": null,
            "_model_module": "@jupyter-widgets/base",
            "top": null,
            "grid_column": null,
            "overflow_y": null,
            "overflow_x": null,
            "grid_auto_flow": null,
            "grid_area": null,
            "grid_template_columns": null,
            "flex": null,
            "_model_name": "LayoutModel",
            "justify_items": null,
            "grid_row": null,
            "max_height": null,
            "align_content": null,
            "visibility": null,
            "align_self": null,
            "height": null,
            "min_height": null,
            "padding": null,
            "grid_auto_rows": null,
            "grid_gap": null,
            "max_width": null,
            "order": null,
            "_view_module_version": "1.2.0",
            "grid_template_areas": null,
            "object_position": null,
            "object_fit": null,
            "grid_auto_columns": null,
            "margin": null,
            "display": null,
            "left": null
          }
        },
        "cc4a12ad8733493f99edd102c6f0bad7": {
          "model_module": "@jupyter-widgets/controls",
          "model_name": "DescriptionStyleModel",
          "state": {
            "_view_name": "StyleView",
            "_model_name": "DescriptionStyleModel",
            "description_width": "",
            "_view_module": "@jupyter-widgets/base",
            "_model_module_version": "1.5.0",
            "_view_count": null,
            "_view_module_version": "1.2.0",
            "_model_module": "@jupyter-widgets/controls"
          }
        },
        "a5ca32aa67a34cfcb0f687711934861b": {
          "model_module": "@jupyter-widgets/base",
          "model_name": "LayoutModel",
          "state": {
            "_view_name": "LayoutView",
            "grid_template_rows": null,
            "right": null,
            "justify_content": null,
            "_view_module": "@jupyter-widgets/base",
            "overflow": null,
            "_model_module_version": "1.2.0",
            "_view_count": null,
            "flex_flow": null,
            "width": null,
            "min_width": null,
            "border": null,
            "align_items": null,
            "bottom": null,
            "_model_module": "@jupyter-widgets/base",
            "top": null,
            "grid_column": null,
            "overflow_y": null,
            "overflow_x": null,
            "grid_auto_flow": null,
            "grid_area": null,
            "grid_template_columns": null,
            "flex": null,
            "_model_name": "LayoutModel",
            "justify_items": null,
            "grid_row": null,
            "max_height": null,
            "align_content": null,
            "visibility": null,
            "align_self": null,
            "height": null,
            "min_height": null,
            "padding": null,
            "grid_auto_rows": null,
            "grid_gap": null,
            "max_width": null,
            "order": null,
            "_view_module_version": "1.2.0",
            "grid_template_areas": null,
            "object_position": null,
            "object_fit": null,
            "grid_auto_columns": null,
            "margin": null,
            "display": null,
            "left": null
          }
        },
        "ce23847c9a024648a6e6359c74aeeb7d": {
          "model_module": "@jupyter-widgets/controls",
          "model_name": "HBoxModel",
          "state": {
            "_view_name": "HBoxView",
            "_dom_classes": [],
            "_model_name": "HBoxModel",
            "_view_module": "@jupyter-widgets/controls",
            "_model_module_version": "1.5.0",
            "_view_count": null,
            "_view_module_version": "1.5.0",
            "box_style": "",
            "layout": "IPY_MODEL_3a6500f93e2b4cd78e799bcd3498f042",
            "_model_module": "@jupyter-widgets/controls",
            "children": [
              "IPY_MODEL_a8f7e00eae2d4a3a8c6f4f08d36aa8f1",
              "IPY_MODEL_3bbc72b5b9e34e3486264c11cd684e27"
            ]
          }
        },
        "3a6500f93e2b4cd78e799bcd3498f042": {
          "model_module": "@jupyter-widgets/base",
          "model_name": "LayoutModel",
          "state": {
            "_view_name": "LayoutView",
            "grid_template_rows": null,
            "right": null,
            "justify_content": null,
            "_view_module": "@jupyter-widgets/base",
            "overflow": null,
            "_model_module_version": "1.2.0",
            "_view_count": null,
            "flex_flow": null,
            "width": null,
            "min_width": null,
            "border": null,
            "align_items": null,
            "bottom": null,
            "_model_module": "@jupyter-widgets/base",
            "top": null,
            "grid_column": null,
            "overflow_y": null,
            "overflow_x": null,
            "grid_auto_flow": null,
            "grid_area": null,
            "grid_template_columns": null,
            "flex": null,
            "_model_name": "LayoutModel",
            "justify_items": null,
            "grid_row": null,
            "max_height": null,
            "align_content": null,
            "visibility": null,
            "align_self": null,
            "height": null,
            "min_height": null,
            "padding": null,
            "grid_auto_rows": null,
            "grid_gap": null,
            "max_width": null,
            "order": null,
            "_view_module_version": "1.2.0",
            "grid_template_areas": null,
            "object_position": null,
            "object_fit": null,
            "grid_auto_columns": null,
            "margin": null,
            "display": null,
            "left": null
          }
        },
        "a8f7e00eae2d4a3a8c6f4f08d36aa8f1": {
          "model_module": "@jupyter-widgets/controls",
          "model_name": "IntProgressModel",
          "state": {
            "_view_name": "ProgressView",
            "style": "IPY_MODEL_97497be476384c9eb47efe73b08ccbf8",
            "_dom_classes": [],
            "description": "",
            "_model_name": "IntProgressModel",
            "bar_style": "success",
            "max": 1,
            "_view_module": "@jupyter-widgets/controls",
            "_model_module_version": "1.5.0",
            "value": 1,
            "_view_count": null,
            "_view_module_version": "1.5.0",
            "orientation": "horizontal",
            "min": 0,
            "description_tooltip": null,
            "_model_module": "@jupyter-widgets/controls",
            "layout": "IPY_MODEL_e858b1ba39fd452cb143b3287036d713"
          }
        },
        "3bbc72b5b9e34e3486264c11cd684e27": {
          "model_module": "@jupyter-widgets/controls",
          "model_name": "HTMLModel",
          "state": {
            "_view_name": "HTMLView",
            "style": "IPY_MODEL_7a0c6346b05940c0b01904b1fe713515",
            "_dom_classes": [],
            "description": "",
            "_model_name": "HTMLModel",
            "placeholder": "​",
            "_view_module": "@jupyter-widgets/controls",
            "_model_module_version": "1.5.0",
            "value": "8192it [00:00, 124221.76it/s]",
            "_view_count": null,
            "_view_module_version": "1.5.0",
            "description_tooltip": null,
            "_model_module": "@jupyter-widgets/controls",
            "layout": "IPY_MODEL_396e0793cf0c48328c61579911b03956"
          }
        },
        "97497be476384c9eb47efe73b08ccbf8": {
          "model_module": "@jupyter-widgets/controls",
          "model_name": "ProgressStyleModel",
          "state": {
            "_view_name": "StyleView",
            "_model_name": "ProgressStyleModel",
            "description_width": "",
            "_view_module": "@jupyter-widgets/base",
            "_model_module_version": "1.5.0",
            "_view_count": null,
            "_view_module_version": "1.2.0",
            "bar_color": null,
            "_model_module": "@jupyter-widgets/controls"
          }
        },
        "e858b1ba39fd452cb143b3287036d713": {
          "model_module": "@jupyter-widgets/base",
          "model_name": "LayoutModel",
          "state": {
            "_view_name": "LayoutView",
            "grid_template_rows": null,
            "right": null,
            "justify_content": null,
            "_view_module": "@jupyter-widgets/base",
            "overflow": null,
            "_model_module_version": "1.2.0",
            "_view_count": null,
            "flex_flow": null,
            "width": null,
            "min_width": null,
            "border": null,
            "align_items": null,
            "bottom": null,
            "_model_module": "@jupyter-widgets/base",
            "top": null,
            "grid_column": null,
            "overflow_y": null,
            "overflow_x": null,
            "grid_auto_flow": null,
            "grid_area": null,
            "grid_template_columns": null,
            "flex": null,
            "_model_name": "LayoutModel",
            "justify_items": null,
            "grid_row": null,
            "max_height": null,
            "align_content": null,
            "visibility": null,
            "align_self": null,
            "height": null,
            "min_height": null,
            "padding": null,
            "grid_auto_rows": null,
            "grid_gap": null,
            "max_width": null,
            "order": null,
            "_view_module_version": "1.2.0",
            "grid_template_areas": null,
            "object_position": null,
            "object_fit": null,
            "grid_auto_columns": null,
            "margin": null,
            "display": null,
            "left": null
          }
        },
        "7a0c6346b05940c0b01904b1fe713515": {
          "model_module": "@jupyter-widgets/controls",
          "model_name": "DescriptionStyleModel",
          "state": {
            "_view_name": "StyleView",
            "_model_name": "DescriptionStyleModel",
            "description_width": "",
            "_view_module": "@jupyter-widgets/base",
            "_model_module_version": "1.5.0",
            "_view_count": null,
            "_view_module_version": "1.2.0",
            "_model_module": "@jupyter-widgets/controls"
          }
        },
        "396e0793cf0c48328c61579911b03956": {
          "model_module": "@jupyter-widgets/base",
          "model_name": "LayoutModel",
          "state": {
            "_view_name": "LayoutView",
            "grid_template_rows": null,
            "right": null,
            "justify_content": null,
            "_view_module": "@jupyter-widgets/base",
            "overflow": null,
            "_model_module_version": "1.2.0",
            "_view_count": null,
            "flex_flow": null,
            "width": null,
            "min_width": null,
            "border": null,
            "align_items": null,
            "bottom": null,
            "_model_module": "@jupyter-widgets/base",
            "top": null,
            "grid_column": null,
            "overflow_y": null,
            "overflow_x": null,
            "grid_auto_flow": null,
            "grid_area": null,
            "grid_template_columns": null,
            "flex": null,
            "_model_name": "LayoutModel",
            "justify_items": null,
            "grid_row": null,
            "max_height": null,
            "align_content": null,
            "visibility": null,
            "align_self": null,
            "height": null,
            "min_height": null,
            "padding": null,
            "grid_auto_rows": null,
            "grid_gap": null,
            "max_width": null,
            "order": null,
            "_view_module_version": "1.2.0",
            "grid_template_areas": null,
            "object_position": null,
            "object_fit": null,
            "grid_auto_columns": null,
            "margin": null,
            "display": null,
            "left": null
          }
        }
      }
    }
  },
  "cells": [
    {
      "cell_type": "markdown",
      "metadata": {
        "id": "view-in-github",
        "colab_type": "text"
      },
      "source": [
        "<a href=\"https://colab.research.google.com/github/siva-sankar-a/eva/blob/master/S5/EVA4_Session_5_MNIST_Step_2.ipynb\" target=\"_parent\"><img src=\"https://colab.research.google.com/assets/colab-badge.svg\" alt=\"Open In Colab\"/></a>"
      ]
    },
    {
      "cell_type": "markdown",
      "metadata": {
        "id": "4NrW-L2PWwQg",
        "colab_type": "text"
      },
      "source": [
        "# S5 _Step - 2_\n",
        "\n",
        "  | Summary of overall targets |  |\n",
        "  | - | - |\n",
        "  | _Dataset_| **MNIST** |\n",
        "  | _Max. number of epochs_| **15** |\n",
        "  | _Max. number of parameters_| **10K** |\n",
        "  | _Consistent_ _**99.4**_ _for last epochs_| |\n"
      ]
    },
    {
      "cell_type": "markdown",
      "metadata": {
        "id": "FQkGa6QJTsbN",
        "colab_type": "text"
      },
      "source": [
        "# Implementation"
      ]
    },
    {
      "cell_type": "markdown",
      "metadata": {
        "id": "kdw-uW6B_7fe",
        "colab_type": "text"
      },
      "source": [
        "## Initialization"
      ]
    },
    {
      "cell_type": "markdown",
      "metadata": {
        "id": "syKENGMM_cY8",
        "colab_type": "text"
      },
      "source": [
        "### Mounting google drive to save results"
      ]
    },
    {
      "cell_type": "code",
      "metadata": {
        "id": "w-ScTYBE1lnh",
        "colab_type": "code",
        "outputId": "a9ce2194-9e14-4355-8558-44cd0baf0161",
        "colab": {
          "base_uri": "https://localhost:8080/",
          "height": 127
        }
      },
      "source": [
        "from google.colab import drive\n",
        "drive.mount('/content/drive')"
      ],
      "execution_count": 0,
      "outputs": [
        {
          "output_type": "stream",
          "text": [
            "Go to this URL in a browser: https://accounts.google.com/o/oauth2/auth?client_id=947318989803-6bn6qk8qdgf4n4g3pfee6491hc0brc4i.apps.googleusercontent.com&redirect_uri=urn%3aietf%3awg%3aoauth%3a2.0%3aoob&response_type=code&scope=email%20https%3a%2f%2fwww.googleapis.com%2fauth%2fdocs.test%20https%3a%2f%2fwww.googleapis.com%2fauth%2fdrive%20https%3a%2f%2fwww.googleapis.com%2fauth%2fdrive.photos.readonly%20https%3a%2f%2fwww.googleapis.com%2fauth%2fpeopleapi.readonly\n",
            "\n",
            "Enter your authorization code:\n",
            "··········\n",
            "Mounted at /content/drive\n"
          ],
          "name": "stdout"
        }
      ]
    },
    {
      "cell_type": "markdown",
      "metadata": {
        "id": "R3PLL8A6_pfy",
        "colab_type": "text"
      },
      "source": [
        "### Import and install all required libraries"
      ]
    },
    {
      "cell_type": "code",
      "metadata": {
        "id": "0m2JWFliFfKT",
        "colab_type": "code",
        "outputId": "e376bb46-3dcb-44f2-a6d9-f0a288de14ff",
        "colab": {
          "base_uri": "https://localhost:8080/",
          "height": 298
        }
      },
      "source": [
        "!pip install torchsummary\n",
        "!pip install torchviz\n",
        "!pip install receptivefield>=0.5.0\n",
        "\n",
        "import datetime\n",
        "import glob\n",
        "\n",
        "import numpy as np\n",
        "import pandas as pd\n",
        "import cv2\n",
        "\n",
        "from __future__ import print_function        # Import for print statement\n",
        "import torch                                 # Import pytorch library\n",
        "import torch.nn as nn                        # Import neural net module from pytorch\n",
        "import torch.nn.functional as F              # Import functional interface from pytorch\n",
        "import torch.optim as optim                  # Import optimizer module from pytorch\n",
        "\n",
        "from torchvision import datasets, transforms # Import datasets and augmentation functionality from vision module within pytorch\n",
        "from torchsummary import summary             # Import summary with pytorch\n",
        "from torchviz import make_dot\n",
        "\n",
        "from torch.utils.tensorboard import SummaryWriter\n",
        "from torch.autograd import Variable\n",
        "\n",
        "import matplotlib.pyplot as plt\n",
        "import tensorflow as tf\n",
        "\n",
        "from tqdm import tqdm"
      ],
      "execution_count": 0,
      "outputs": [
        {
          "output_type": "stream",
          "text": [
            "Requirement already satisfied: torchsummary in /usr/local/lib/python3.6/dist-packages (1.5.1)\n",
            "Collecting torchviz\n",
            "\u001b[?25l  Downloading https://files.pythonhosted.org/packages/8f/8e/a9630c7786b846d08b47714dd363a051f5e37b4ea0e534460d8cdfc1644b/torchviz-0.0.1.tar.gz (41kB)\n",
            "\u001b[K     |████████████████████████████████| 51kB 2.1MB/s \n",
            "\u001b[?25hRequirement already satisfied: torch in /usr/local/lib/python3.6/dist-packages (from torchviz) (1.4.0)\n",
            "Requirement already satisfied: graphviz in /usr/local/lib/python3.6/dist-packages (from torchviz) (0.10.1)\n",
            "Building wheels for collected packages: torchviz\n",
            "  Building wheel for torchviz (setup.py) ... \u001b[?25l\u001b[?25hdone\n",
            "  Created wheel for torchviz: filename=torchviz-0.0.1-cp36-none-any.whl size=3523 sha256=bbeb81456cad12e5bbbbaad36bab077c703fea0d2044ab7191d2ecf83b2d8364\n",
            "  Stored in directory: /root/.cache/pip/wheels/2a/c2/c5/b8b4d0f7992c735f6db5bfa3c5f354cf36502037ca2b585667\n",
            "Successfully built torchviz\n",
            "Installing collected packages: torchviz\n",
            "Successfully installed torchviz-0.0.1\n"
          ],
          "name": "stdout"
        },
        {
          "output_type": "display_data",
          "data": {
            "text/html": [
              "<p style=\"color: red;\">\n",
              "The default version of TensorFlow in Colab will soon switch to TensorFlow 2.x.<br>\n",
              "We recommend you <a href=\"https://www.tensorflow.org/guide/migrate\" target=\"_blank\">upgrade</a> now \n",
              "or ensure your notebook will continue to use TensorFlow 1.x via the <code>%tensorflow_version 1.x</code> magic:\n",
              "<a href=\"https://colab.research.google.com/notebooks/tensorflow_version.ipynb\" target=\"_blank\">more info</a>.</p>\n"
            ],
            "text/plain": [
              "<IPython.core.display.HTML object>"
            ]
          },
          "metadata": {
            "tags": []
          }
        }
      ]
    },
    {
      "cell_type": "code",
      "metadata": {
        "id": "-qWc2obvmCVM",
        "colab_type": "code",
        "colab": {}
      },
      "source": [
        "use_cuda = torch.cuda.is_available()                  # Check cuda avaliability"
      ],
      "execution_count": 0,
      "outputs": []
    },
    {
      "cell_type": "code",
      "metadata": {
        "id": "zmn33RC0PB2I",
        "colab_type": "code",
        "colab": {}
      },
      "source": [
        "SEED = 1\n",
        "\n",
        "# For reproducibility\n",
        "torch.manual_seed(SEED)\n",
        "\n",
        "if use_cuda:\n",
        "    torch.cuda.manual_seed(SEED)"
      ],
      "execution_count": 0,
      "outputs": []
    },
    {
      "cell_type": "markdown",
      "metadata": {
        "id": "LCPx5b8hZZu_",
        "colab_type": "text"
      },
      "source": [
        "## Load MNIST Dataset"
      ]
    },
    {
      "cell_type": "markdown",
      "metadata": {
        "id": "9wEEFPy6AE4C",
        "colab_type": "text"
      },
      "source": [
        "### Initialize _transforms_, _dataset_ & _dataloader_\n",
        "\n",
        "<img src=\"data:image/png;base64,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\" />"
      ]
    },
    {
      "cell_type": "code",
      "metadata": {
        "id": "G3VrzejlOvlD",
        "colab_type": "code",
        "colab": {}
      },
      "source": [
        "# Train Phase transformations\n",
        "train_transforms = transforms.Compose([\n",
        "                                      #  transforms.Resize((28, 28)),\n",
        "                                      #  transforms.ColorJitter(brightness=0.10, contrast=0.1, saturation=0.10, hue=0.1),\n",
        "                                       transforms.ToTensor(),\n",
        "                                       transforms.Normalize((0.1307,), (0.3081,)) # The mean and std have to be sequences (e.g., tuples), therefore you should add a comma after the values. \n",
        "                                       # Note the difference between (0.1307) and (0.1307,)\n",
        "                                       ])\n",
        "\n",
        "# Test Phase transformations\n",
        "test_transforms = transforms.Compose([\n",
        "                                      #  transforms.Resize((28, 28)),\n",
        "                                      #  transforms.ColorJitter(brightness=0.10, contrast=0.1, saturation=0.10, hue=0.1),\n",
        "                                       transforms.ToTensor(),\n",
        "                                       transforms.Normalize((0.1307,), (0.3081,))\n",
        "                                       ])"
      ],
      "execution_count": 0,
      "outputs": []
    },
    {
      "cell_type": "code",
      "metadata": {
        "id": "ank5oQVHOm_S",
        "colab_type": "code",
        "outputId": "2acfb6dc-ad85-4664-c310-b3ea8ecadb0b",
        "colab": {
          "base_uri": "https://localhost:8080/",
          "height": 397,
          "referenced_widgets": [
            "07690471e4b64588a46004e9c012aa9a",
            "2611e0e420694d7f989d3e03376aa28a",
            "34e57ef6a1404a16b415fc47d7be4119",
            "fa1d5d33eb934c0ca19c6cc3a1a810c9",
            "f9ff2fdf0d1c4ec7b62838ca5bdc7395",
            "72e840863d014aefb68dfbf15e969fc9",
            "aefb500efb8c4b028c8b630aa00767d4",
            "87188e3354f343c7b80df2b23d158b53",
            "fb7dba68f50040f4bd0e3e7807cf9618",
            "db01be9ab39141838b4b2b878131fb03",
            "45465d724755493892dad785d1b1c656",
            "afbe336a69cc47a9bfb016072eb92b6a",
            "ecf06cdcd32243bba05af8c878a06a1d",
            "9689e97ee87046c5a4d64182cdf6ee92",
            "e9709c3cbbf24ebfa8eef24f218f65e8",
            "374dc3d31bc14c70b768c90595afabe6",
            "bcf3dffa07d84e6eb40dcb9ef5c147b2",
            "b0d4756204a3403a9fec5b1031cd9a43",
            "7d2eefe3356c40c2bf787e56a97a3ae1",
            "94ffb6a8e78f4e53810d185fd86f4cc5",
            "fdce2b7cc109473cb7159d077dd5c4a6",
            "6c88334f80e541b48b515c61cab35780",
            "cc4a12ad8733493f99edd102c6f0bad7",
            "a5ca32aa67a34cfcb0f687711934861b",
            "ce23847c9a024648a6e6359c74aeeb7d",
            "3a6500f93e2b4cd78e799bcd3498f042",
            "a8f7e00eae2d4a3a8c6f4f08d36aa8f1",
            "3bbc72b5b9e34e3486264c11cd684e27",
            "97497be476384c9eb47efe73b08ccbf8",
            "e858b1ba39fd452cb143b3287036d713",
            "7a0c6346b05940c0b01904b1fe713515",
            "396e0793cf0c48328c61579911b03956"
          ]
        }
      },
      "source": [
        "train = datasets.MNIST('./data', train=True, download=True, transform=train_transforms)\n",
        "test = datasets.MNIST('./data', train=False, download=True, transform=test_transforms)"
      ],
      "execution_count": 0,
      "outputs": [
        {
          "output_type": "stream",
          "text": [
            "Downloading http://yann.lecun.com/exdb/mnist/train-images-idx3-ubyte.gz to ./data/MNIST/raw/train-images-idx3-ubyte.gz\n"
          ],
          "name": "stdout"
        },
        {
          "output_type": "display_data",
          "data": {
            "application/vnd.jupyter.widget-view+json": {
              "model_id": "07690471e4b64588a46004e9c012aa9a",
              "version_minor": 0,
              "version_major": 2
            },
            "text/plain": [
              "HBox(children=(IntProgress(value=1, bar_style='info', max=1), HTML(value='')))"
            ]
          },
          "metadata": {
            "tags": []
          }
        },
        {
          "output_type": "stream",
          "text": [
            "\n",
            "Extracting ./data/MNIST/raw/train-images-idx3-ubyte.gz to ./data/MNIST/raw\n",
            "Downloading http://yann.lecun.com/exdb/mnist/train-labels-idx1-ubyte.gz to ./data/MNIST/raw/train-labels-idx1-ubyte.gz\n"
          ],
          "name": "stdout"
        },
        {
          "output_type": "display_data",
          "data": {
            "application/vnd.jupyter.widget-view+json": {
              "model_id": "fb7dba68f50040f4bd0e3e7807cf9618",
              "version_minor": 0,
              "version_major": 2
            },
            "text/plain": [
              "HBox(children=(IntProgress(value=1, bar_style='info', max=1), HTML(value='')))"
            ]
          },
          "metadata": {
            "tags": []
          }
        },
        {
          "output_type": "stream",
          "text": [
            "\n",
            "Extracting ./data/MNIST/raw/train-labels-idx1-ubyte.gz to ./data/MNIST/raw\n",
            "Downloading http://yann.lecun.com/exdb/mnist/t10k-images-idx3-ubyte.gz to ./data/MNIST/raw/t10k-images-idx3-ubyte.gz\n"
          ],
          "name": "stdout"
        },
        {
          "output_type": "display_data",
          "data": {
            "application/vnd.jupyter.widget-view+json": {
              "model_id": "bcf3dffa07d84e6eb40dcb9ef5c147b2",
              "version_minor": 0,
              "version_major": 2
            },
            "text/plain": [
              "HBox(children=(IntProgress(value=1, bar_style='info', max=1), HTML(value='')))"
            ]
          },
          "metadata": {
            "tags": []
          }
        },
        {
          "output_type": "stream",
          "text": [
            "\n",
            "Extracting ./data/MNIST/raw/t10k-images-idx3-ubyte.gz to ./data/MNIST/raw\n",
            "Downloading http://yann.lecun.com/exdb/mnist/t10k-labels-idx1-ubyte.gz to ./data/MNIST/raw/t10k-labels-idx1-ubyte.gz\n"
          ],
          "name": "stdout"
        },
        {
          "output_type": "display_data",
          "data": {
            "application/vnd.jupyter.widget-view+json": {
              "model_id": "ce23847c9a024648a6e6359c74aeeb7d",
              "version_minor": 0,
              "version_major": 2
            },
            "text/plain": [
              "HBox(children=(IntProgress(value=1, bar_style='info', max=1), HTML(value='')))"
            ]
          },
          "metadata": {
            "tags": []
          }
        },
        {
          "output_type": "stream",
          "text": [
            "\n",
            "Extracting ./data/MNIST/raw/t10k-labels-idx1-ubyte.gz to ./data/MNIST/raw\n",
            "Processing...\n",
            "Done!\n"
          ],
          "name": "stdout"
        }
      ]
    },
    {
      "cell_type": "code",
      "metadata": {
        "id": "DKlv-kS9O6CE",
        "colab_type": "code",
        "colab": {}
      },
      "source": [
        "batch_size = 64\n",
        "\n",
        "# dataloader arguments - something you'll fetch these from cmdprmt\n",
        "dataloader_args = dict(shuffle=True, batch_size=batch_size, num_workers=4, pin_memory=True) if use_cuda else dict(shuffle=True, batch_size=batch_size)\n",
        "\n",
        "# train dataloader\n",
        "train_loader = torch.utils.data.DataLoader(train, **dataloader_args)\n",
        "\n",
        "# test dataloader\n",
        "test_loader = torch.utils.data.DataLoader(test, **dataloader_args)"
      ],
      "execution_count": 0,
      "outputs": []
    },
    {
      "cell_type": "markdown",
      "metadata": {
        "id": "FJkcVdVHPyGa",
        "colab_type": "text"
      },
      "source": [
        "## Preliminary exploratory analysis"
      ]
    },
    {
      "cell_type": "markdown",
      "metadata": {
        "id": "m0SzuG9iXZ4v",
        "colab_type": "text"
      },
      "source": [
        "#### Useful stats"
      ]
    },
    {
      "cell_type": "code",
      "metadata": {
        "id": "jud_20RPPfj7",
        "colab_type": "code",
        "outputId": "8d7177be-2d4c-49cf-d1f3-8b69aba3e4a8",
        "colab": {
          "base_uri": "https://localhost:8080/",
          "height": 445
        }
      },
      "source": [
        "train_data = train.data\n",
        "train_data = train.transform(train_data.numpy())\n",
        "\n",
        "print('[Train]')\n",
        "print(' - Numpy Shape:', train.data.cpu().numpy().shape)\n",
        "print(' - Tensor Shape:', train.data.size())\n",
        "print(' - min:', torch.min(train_data))\n",
        "print(' - max:', torch.max(train_data))\n",
        "print(' - mean:', torch.mean(train_data))\n",
        "print(' - std:', torch.std(train_data))\n",
        "print(' - var:', torch.var(train_data))\n",
        "\n",
        "dataiter = iter(train_loader)\n",
        "images, labels = dataiter.next()\n",
        "\n",
        "print(images.shape)\n",
        "print(labels.shape)\n",
        "\n",
        "# Let's visualize some of the images\n",
        "\n",
        "plt.imshow(images[0].numpy().squeeze(), cmap='gray_r')\n",
        "plt.show()"
      ],
      "execution_count": 0,
      "outputs": [
        {
          "output_type": "stream",
          "text": [
            "[Train]\n",
            " - Numpy Shape: (60000, 28, 28)\n",
            " - Tensor Shape: torch.Size([60000, 28, 28])\n",
            " - min: tensor(-0.4242)\n",
            " - max: tensor(2.8215)\n",
            " - mean: tensor(0.0009)\n",
            " - std: tensor(1.0000)\n",
            " - var: tensor(1.0001)\n",
            "torch.Size([64, 1, 28, 28])\n",
            "torch.Size([64])\n"
          ],
          "name": "stdout"
        },
        {
          "output_type": "display_data",
          "data": {
            "image/png": "[encoded data removed]",
            "text/plain": [
              "<Figure size 432x288 with 1 Axes>"
            ]
          },
          "metadata": {
            "tags": []
          }
        }
      ]
    },
    {
      "cell_type": "markdown",
      "metadata": {
        "id": "7S5FWOxfXUVF",
        "colab_type": "text"
      },
      "source": [
        "#### Batch visualization"
      ]
    },
    {
      "cell_type": "code",
      "metadata": {
        "id": "g4RVEoALP6oN",
        "colab_type": "code",
        "outputId": "2f309b82-70bd-450c-96f6-1c2e4f664362",
        "colab": {
          "base_uri": "https://localhost:8080/",
          "height": 246
        }
      },
      "source": [
        "figure = plt.figure()\n",
        "num_of_images = 60\n",
        "for index in range(1, num_of_images + 1):\n",
        "    plt.subplot(6, 10, index)\n",
        "    plt.axis('off')\n",
        "    plt.imshow(images[index].numpy().squeeze(), cmap='gray_r')"
      ],
      "execution_count": 0,
      "outputs": [
        {
          "output_type": "display_data",
          "data": {
            "image/png": "[encoded data removed]",
            "text/plain": [
              "<Figure size 432x288 with 60 Axes>"
            ]
          },
          "metadata": {
            "tags": []
          }
        }
      ]
    },
    {
      "cell_type": "markdown",
      "metadata": {
        "id": "XkmuvQZcuI8e",
        "colab_type": "text"
      },
      "source": [
        "## Experiment"
      ]
    },
    {
      "cell_type": "code",
      "metadata": {
        "id": "rfrF8cPpido2",
        "colab_type": "code",
        "colab": {}
      },
      "source": [
        "experiment_name = 's5-step-2-strip-down-network'"
      ],
      "execution_count": 0,
      "outputs": []
    },
    {
      "cell_type": "markdown",
      "metadata": {
        "id": "RkbnWyy8e-JP",
        "colab_type": "text"
      },
      "source": [
        "###Model"
      ]
    },
    {
      "cell_type": "code",
      "metadata": {
        "id": "h_Cx9q2QFgM7",
        "colab_type": "code",
        "colab": {}
      },
      "source": [
        "# Subclassing nn.Module for neural networks\n",
        "class Net(nn.Module):\n",
        "    def __init__(self):\n",
        "        super(Net, self).__init__()\n",
        "        \n",
        "        #########################################################################################\n",
        "        # INPUT BLOCK\n",
        "        #########################################################################################\n",
        "        self.convblock1 = nn.Sequential(\n",
        "            nn.Conv2d(in_channels=1, out_channels=4, kernel_size=(3, 3), padding=0, bias=False),\n",
        "            nn.ReLU()\n",
        "        )\n",
        "        #----------------------------------------------------------------------------------------\n",
        "        # OUTPUT SIZE = 26\n",
        "        #----------------------------------------------------------------------------------------\n",
        "        #########################################################################################\n",
        "        # CONVOLUTION BLOCK 1\n",
        "        #########################################################################################\n",
        "        self.convblock2 = nn.Sequential(\n",
        "            nn.Conv2d(in_channels=4, out_channels=8, kernel_size=(3, 3), padding=0, bias=False),\n",
        "            nn.ReLU()\n",
        "        )\n",
        "        #----------------------------------------------------------------------------------------\n",
        "        # OUTPUT SIZE = 24\n",
        "        #----------------------------------------------------------------------------------------\n",
        "        self.convblock3 = nn.Sequential(\n",
        "            nn.Conv2d(in_channels=8, out_channels=16, kernel_size=(3, 3), padding=0, bias=False),\n",
        "            nn.ReLU()\n",
        "        )\n",
        "        #----------------------------------------------------------------------------------------\n",
        "        # OUTPUT SIZE = 22\n",
        "        #----------------------------------------------------------------------------------------\n",
        "        #########################################################################################\n",
        "        # TRANSITION BLOCK 1\n",
        "        #########################################################################################\n",
        "        self.pool1 = nn.MaxPool2d(2, 2) # output_size = 11\n",
        "        self.convblock4 = nn.Sequential(\n",
        "            nn.Conv2d(in_channels=16, out_channels=4, kernel_size=(1, 1), padding=0, bias=False),\n",
        "            nn.ReLU()\n",
        "        )\n",
        "        #----------------------------------------------------------------------------------------\n",
        "        # OUTPUT SIZE = 11\n",
        "        #----------------------------------------------------------------------------------------\n",
        "        #########################################################################################\n",
        "        # CONVOLUTION BLOCK 2\n",
        "        #########################################################################################\n",
        "        self.convblock5 = nn.Sequential(\n",
        "            nn.Conv2d(in_channels=4, out_channels=8, kernel_size=(3, 3), padding=0, bias=False),\n",
        "            nn.ReLU()\n",
        "        )\n",
        "        #----------------------------------------------------------------------------------------\n",
        "        # OUTPUT SIZE = 9\n",
        "        #----------------------------------------------------------------------------------------\n",
        "        self.convblock6 = nn.Sequential(\n",
        "            nn.Conv2d(in_channels=8, out_channels=16, kernel_size=(3, 3), padding=0, bias=False),\n",
        "            nn.ReLU()\n",
        "        )\n",
        "        #----------------------------------------------------------------------------------------\n",
        "        # OUTPUT SIZE = 7\n",
        "        #----------------------------------------------------------------------------------------\n",
        "        #########################################################################################\n",
        "        # OUTPUT BLOCK\n",
        "        #########################################################################################\n",
        "        self.convblock7 = nn.Sequential(\n",
        "            nn.Conv2d(in_channels=16, out_channels=10, kernel_size=(1, 1), padding=0, bias=False),\n",
        "            nn.ReLU()\n",
        "        )\n",
        "        #----------------------------------------------------------------------------------------\n",
        "        # OUTPUT SIZE = 7\n",
        "        #----------------------------------------------------------------------------------------\n",
        "        self.convblock8 = nn.Sequential(\n",
        "            nn.Conv2d(in_channels=10, out_channels=10, kernel_size=(7, 7), padding=0, bias=False),\n",
        "            # nn.ReLU() NEVER!\n",
        "        )\n",
        "        #########################################################################################\n",
        "        #----------------------------------------------------------------------------------------\n",
        "        # OUTPUT SIZE = 1\n",
        "        #----------------------------------------------------------------------------------------\n",
        "\n",
        "    def forward(self, x):\n",
        "        x = self.convblock1(x)\n",
        "        x = self.convblock2(x)\n",
        "        x = self.convblock3(x)\n",
        "        x = self.pool1(x)\n",
        "        x = self.convblock4(x)\n",
        "        x = self.convblock5(x)\n",
        "        x = self.convblock6(x)\n",
        "        x = self.convblock7(x)\n",
        "        x = self.convblock8(x)\n",
        "        x = x.view(-1, 10)\n",
        "        return F.log_softmax(x, dim=-1)"
      ],
      "execution_count": 0,
      "outputs": []
    },
    {
      "cell_type": "markdown",
      "metadata": {
        "id": "yhaXbcHNxtry",
        "colab_type": "text"
      },
      "source": [
        "###Summary"
      ]
    },
    {
      "cell_type": "markdown",
      "metadata": {
        "id": "7TqiYkzTfTBY",
        "colab_type": "text"
      },
      "source": [
        "####Textual summary"
      ]
    },
    {
      "cell_type": "code",
      "metadata": {
        "colab_type": "code",
        "id": "xdydjYTZFyi3",
        "outputId": "c5fe682b-2d88-41ad-f4e4-aae6f7ae5f6f",
        "colab": {
          "base_uri": "https://localhost:8080/",
          "height": 539
        }
      },
      "source": [
        "device = torch.device(\"cuda\" if use_cuda else \"cpu\") # Initializing GPU\n",
        "model = Net().to(device)                             # Initializing model and transfering to GPU\n",
        "summary(model, input_size=(1, 28, 28))"
      ],
      "execution_count": 0,
      "outputs": [
        {
          "output_type": "stream",
          "text": [
            "----------------------------------------------------------------\n",
            "        Layer (type)               Output Shape         Param #\n",
            "================================================================\n",
            "            Conv2d-1            [-1, 4, 26, 26]              36\n",
            "              ReLU-2            [-1, 4, 26, 26]               0\n",
            "            Conv2d-3            [-1, 8, 24, 24]             288\n",
            "              ReLU-4            [-1, 8, 24, 24]               0\n",
            "            Conv2d-5           [-1, 16, 22, 22]           1,152\n",
            "              ReLU-6           [-1, 16, 22, 22]               0\n",
            "         MaxPool2d-7           [-1, 16, 11, 11]               0\n",
            "            Conv2d-8            [-1, 4, 11, 11]              64\n",
            "              ReLU-9            [-1, 4, 11, 11]               0\n",
            "           Conv2d-10              [-1, 8, 9, 9]             288\n",
            "             ReLU-11              [-1, 8, 9, 9]               0\n",
            "           Conv2d-12             [-1, 16, 7, 7]           1,152\n",
            "             ReLU-13             [-1, 16, 7, 7]               0\n",
            "           Conv2d-14             [-1, 10, 7, 7]             160\n",
            "             ReLU-15             [-1, 10, 7, 7]               0\n",
            "           Conv2d-16             [-1, 10, 1, 1]           4,900\n",
            "================================================================\n",
            "Total params: 8,040\n",
            "Trainable params: 8,040\n",
            "Non-trainable params: 0\n",
            "----------------------------------------------------------------\n",
            "Input size (MB): 0.00\n",
            "Forward/backward pass size (MB): 0.28\n",
            "Params size (MB): 0.03\n",
            "Estimated Total Size (MB): 0.31\n",
            "----------------------------------------------------------------\n"
          ],
          "name": "stdout"
        }
      ]
    },
    {
      "cell_type": "markdown",
      "metadata": {
        "id": "YWoKPXFqxi78",
        "colab_type": "text"
      },
      "source": [
        "####Graphical summary"
      ]
    },
    {
      "cell_type": "code",
      "metadata": {
        "id": "tsnGwEe6wV0a",
        "colab_type": "code",
        "outputId": "eb836cc3-9023-4832-c1c4-e7225f1c0187",
        "colab": {
          "base_uri": "https://localhost:8080/",
          "height": 1000
        }
      },
      "source": [
        "random_input = torch.randn(1, 1, 28, 28).cuda() if use_cuda else torch.randn(1, 1, 28, 28) \n",
        "model.eval()\n",
        "y = model(Variable(random_input))\n",
        "dot_graph = make_dot(y)\n",
        "dot_graph.format = 'svg'\n",
        "dot_graph.render(f'{experiment_name}')\n",
        "dot_graph"
      ],
      "execution_count": 0,
      "outputs": [
        {
          "output_type": "execute_result",
          "data": {
            "text/plain": [
              "<graphviz.dot.Digraph at 0x7f68b41fb278>"
            ],
            "image/svg+xml": "<?xml version=\"1.0\" encoding=\"UTF-8\" standalone=\"no\"?>\n<!DOCTYPE svg PUBLIC \"-//W3C//DTD SVG 1.1//EN\"\n \"http://www.w3.org/Graphics/SVG/1.1/DTD/svg11.dtd\">\n<!-- Generated by graphviz version 2.40.1 (20161225.0304)\n -->\n<!-- Title: %3 Pages: 1 -->\n<svg width=\"415pt\" height=\"864pt\"\n viewBox=\"0.00 0.00 415.34 864.00\" xmlns=\"http://www.w3.org/2000/svg\" xmlns:xlink=\"http://www.w3.org/1999/xlink\">\n<g id=\"graph0\" class=\"graph\" transform=\"scale(.7404 .7404) rotate(0) translate(4 1163)\">\n<title>%3</title>\n<polygon fill=\"#ffffff\" stroke=\"transparent\" points=\"-4,4 -4,-1163 557,-1163 557,4 -4,4\"/>\n<!-- 140086943568000 -->\n<g id=\"node1\" class=\"node\">\n<title>140086943568000</title>\n<polygon fill=\"#caff70\" stroke=\"#000000\" points=\"522,-21 397,-21 397,0 522,0 522,-21\"/>\n<text text-anchor=\"middle\" x=\"459.5\" y=\"-7.4\" font-family=\"Times,serif\" font-size=\"12.00\" fill=\"#000000\">LogSoftmaxBackward</text>\n</g>\n<!-- 140087338087704 -->\n<g id=\"node2\" class=\"node\">\n<title>140087338087704</title>\n<polygon fill=\"#d3d3d3\" stroke=\"#000000\" points=\"505,-78 414,-78 414,-57 505,-57 505,-78\"/>\n<text text-anchor=\"middle\" x=\"459.5\" y=\"-64.4\" font-family=\"Times,serif\" font-size=\"12.00\" fill=\"#000000\">ViewBackward</text>\n</g>\n<!-- 140087338087704&#45;&gt;140086943568000 -->\n<g id=\"edge1\" class=\"edge\">\n<title>140087338087704&#45;&gt;140086943568000</title>\n<path fill=\"none\" stroke=\"#000000\" d=\"M459.5,-56.7787C459.5,-49.6134 459.5,-39.9517 459.5,-31.3097\"/>\n<polygon fill=\"#000000\" stroke=\"#000000\" points=\"463.0001,-31.1732 459.5,-21.1732 456.0001,-31.1732 463.0001,-31.1732\"/>\n</g>\n<!-- 140087338087368 -->\n<g id=\"node3\" class=\"node\">\n<title>140087338087368</title>\n<polygon fill=\"#d3d3d3\" stroke=\"#000000\" points=\"538,-135 381,-135 381,-114 538,-114 538,-135\"/>\n<text text-anchor=\"middle\" x=\"459.5\" y=\"-121.4\" font-family=\"Times,serif\" font-size=\"12.00\" fill=\"#000000\">CudnnConvolutionBackward</text>\n</g>\n<!-- 140087338087368&#45;&gt;140087338087704 -->\n<g id=\"edge2\" class=\"edge\">\n<title>140087338087368&#45;&gt;140087338087704</title>\n<path fill=\"none\" stroke=\"#000000\" d=\"M459.5,-113.7787C459.5,-106.6134 459.5,-96.9517 459.5,-88.3097\"/>\n<polygon fill=\"#000000\" stroke=\"#000000\" points=\"463.0001,-88.1732 459.5,-78.1732 456.0001,-88.1732 463.0001,-88.1732\"/>\n</g>\n<!-- 140087338087536 -->\n<g id=\"node4\" class=\"node\">\n<title>140087338087536</title>\n<polygon fill=\"#d3d3d3\" stroke=\"#000000\" points=\"453.5,-199 359.5,-199 359.5,-178 453.5,-178 453.5,-199\"/>\n<text text-anchor=\"middle\" x=\"406.5\" y=\"-185.4\" font-family=\"Times,serif\" font-size=\"12.00\" fill=\"#000000\">ReluBackward0</text>\n</g>\n<!-- 140087338087536&#45;&gt;140087338087368 -->\n<g id=\"edge3\" class=\"edge\">\n<title>140087338087536&#45;&gt;140087338087368</title>\n<path fill=\"none\" stroke=\"#000000\" d=\"M415.2519,-177.9317C423.0304,-168.5388 434.5846,-154.5865 443.9356,-143.2947\"/>\n<polygon fill=\"#000000\" stroke=\"#000000\" points=\"446.8755,-145.2322 450.558,-135.2979 441.4841,-140.7675 446.8755,-145.2322\"/>\n</g>\n<!-- 140087338087032 -->\n<g id=\"node5\" class=\"node\">\n<title>140087338087032</title>\n<polygon fill=\"#d3d3d3\" stroke=\"#000000\" points=\"485,-263 328,-263 328,-242 485,-242 485,-263\"/>\n<text text-anchor=\"middle\" x=\"406.5\" y=\"-249.4\" font-family=\"Times,serif\" font-size=\"12.00\" fill=\"#000000\">CudnnConvolutionBackward</text>\n</g>\n<!-- 140087338087032&#45;&gt;140087338087536 -->\n<g id=\"edge4\" class=\"edge\">\n<title>140087338087032&#45;&gt;140087338087536</title>\n<path fill=\"none\" stroke=\"#000000\" d=\"M406.5,-241.9317C406.5,-233.0913 406.5,-220.2122 406.5,-209.3135\"/>\n<polygon fill=\"#000000\" stroke=\"#000000\" points=\"410.0001,-209.2979 406.5,-199.2979 403.0001,-209.2979 410.0001,-209.2979\"/>\n</g>\n<!-- 140087338088376 -->\n<g id=\"node6\" class=\"node\">\n<title>140087338088376</title>\n<polygon fill=\"#d3d3d3\" stroke=\"#000000\" points=\"400.5,-327 306.5,-327 306.5,-306 400.5,-306 400.5,-327\"/>\n<text text-anchor=\"middle\" x=\"353.5\" y=\"-313.4\" font-family=\"Times,serif\" font-size=\"12.00\" fill=\"#000000\">ReluBackward0</text>\n</g>\n<!-- 140087338088376&#45;&gt;140087338087032 -->\n<g id=\"edge5\" class=\"edge\">\n<title>140087338088376&#45;&gt;140087338087032</title>\n<path fill=\"none\" stroke=\"#000000\" d=\"M362.2519,-305.9317C370.0304,-296.5388 381.5846,-282.5865 390.9356,-271.2947\"/>\n<polygon fill=\"#000000\" stroke=\"#000000\" points=\"393.8755,-273.2322 397.558,-263.2979 388.4841,-268.7675 393.8755,-273.2322\"/>\n</g>\n<!-- 140086943496624 -->\n<g id=\"node7\" class=\"node\">\n<title>140086943496624</title>\n<polygon fill=\"#d3d3d3\" stroke=\"#000000\" points=\"432,-391 275,-391 275,-370 432,-370 432,-391\"/>\n<text text-anchor=\"middle\" x=\"353.5\" y=\"-377.4\" font-family=\"Times,serif\" font-size=\"12.00\" fill=\"#000000\">CudnnConvolutionBackward</text>\n</g>\n<!-- 140086943496624&#45;&gt;140087338088376 -->\n<g id=\"edge6\" class=\"edge\">\n<title>140086943496624&#45;&gt;140087338088376</title>\n<path fill=\"none\" stroke=\"#000000\" d=\"M353.5,-369.9317C353.5,-361.0913 353.5,-348.2122 353.5,-337.3135\"/>\n<polygon fill=\"#000000\" stroke=\"#000000\" points=\"357.0001,-337.2979 353.5,-327.2979 350.0001,-337.2979 357.0001,-337.2979\"/>\n</g>\n<!-- 140086943496064 -->\n<g id=\"node8\" class=\"node\">\n<title>140086943496064</title>\n<polygon fill=\"#d3d3d3\" stroke=\"#000000\" points=\"349.5,-455 255.5,-455 255.5,-434 349.5,-434 349.5,-455\"/>\n<text text-anchor=\"middle\" x=\"302.5\" y=\"-441.4\" font-family=\"Times,serif\" font-size=\"12.00\" fill=\"#000000\">ReluBackward0</text>\n</g>\n<!-- 140086943496064&#45;&gt;140086943496624 -->\n<g id=\"edge7\" class=\"edge\">\n<title>140086943496064&#45;&gt;140086943496624</title>\n<path fill=\"none\" stroke=\"#000000\" d=\"M310.9216,-433.9317C318.4066,-424.5388 329.5248,-410.5865 338.523,-399.2947\"/>\n<polygon fill=\"#000000\" stroke=\"#000000\" points=\"341.4006,-401.2998 344.8954,-391.2979 335.9261,-396.9373 341.4006,-401.2998\"/>\n</g>\n<!-- 140086943494776 -->\n<g id=\"node9\" class=\"node\">\n<title>140086943494776</title>\n<polygon fill=\"#d3d3d3\" stroke=\"#000000\" points=\"381,-519 224,-519 224,-498 381,-498 381,-519\"/>\n<text text-anchor=\"middle\" x=\"302.5\" y=\"-505.4\" font-family=\"Times,serif\" font-size=\"12.00\" fill=\"#000000\">CudnnConvolutionBackward</text>\n</g>\n<!-- 140086943494776&#45;&gt;140086943496064 -->\n<g id=\"edge8\" class=\"edge\">\n<title>140086943494776&#45;&gt;140086943496064</title>\n<path fill=\"none\" stroke=\"#000000\" d=\"M302.5,-497.9317C302.5,-489.0913 302.5,-476.2122 302.5,-465.3135\"/>\n<polygon fill=\"#000000\" stroke=\"#000000\" points=\"306.0001,-465.2979 302.5,-455.2979 299.0001,-465.2979 306.0001,-465.2979\"/>\n</g>\n<!-- 140086943494552 -->\n<g id=\"node10\" class=\"node\">\n<title>140086943494552</title>\n<polygon fill=\"#d3d3d3\" stroke=\"#000000\" points=\"299.5,-583 205.5,-583 205.5,-562 299.5,-562 299.5,-583\"/>\n<text text-anchor=\"middle\" x=\"252.5\" y=\"-569.4\" font-family=\"Times,serif\" font-size=\"12.00\" fill=\"#000000\">ReluBackward0</text>\n</g>\n<!-- 140086943494552&#45;&gt;140086943494776 -->\n<g id=\"edge9\" class=\"edge\">\n<title>140086943494552&#45;&gt;140086943494776</title>\n<path fill=\"none\" stroke=\"#000000\" d=\"M260.7565,-561.9317C268.0947,-552.5388 278.9949,-538.5865 287.8166,-527.2947\"/>\n<polygon fill=\"#000000\" stroke=\"#000000\" points=\"290.6657,-529.3329 294.0641,-519.2979 285.1496,-525.0234 290.6657,-529.3329\"/>\n</g>\n<!-- 140086943497968 -->\n<g id=\"node11\" class=\"node\">\n<title>140086943497968</title>\n<polygon fill=\"#d3d3d3\" stroke=\"#000000\" points=\"331,-647 174,-647 174,-626 331,-626 331,-647\"/>\n<text text-anchor=\"middle\" x=\"252.5\" y=\"-633.4\" font-family=\"Times,serif\" font-size=\"12.00\" fill=\"#000000\">CudnnConvolutionBackward</text>\n</g>\n<!-- 140086943497968&#45;&gt;140086943494552 -->\n<g id=\"edge10\" class=\"edge\">\n<title>140086943497968&#45;&gt;140086943494552</title>\n<path fill=\"none\" stroke=\"#000000\" d=\"M252.5,-625.9317C252.5,-617.0913 252.5,-604.2122 252.5,-593.3135\"/>\n<polygon fill=\"#000000\" stroke=\"#000000\" points=\"256.0001,-593.2979 252.5,-583.2979 249.0001,-593.2979 256.0001,-593.2979\"/>\n</g>\n<!-- 140086943497408 -->\n<g id=\"node12\" class=\"node\">\n<title>140086943497408</title>\n<polygon fill=\"#d3d3d3\" stroke=\"#000000\" points=\"269.5,-711 89.5,-711 89.5,-690 269.5,-690 269.5,-711\"/>\n<text text-anchor=\"middle\" x=\"179.5\" y=\"-697.4\" font-family=\"Times,serif\" font-size=\"12.00\" fill=\"#000000\">MaxPool2DWithIndicesBackward</text>\n</g>\n<!-- 140086943497408&#45;&gt;140086943497968 -->\n<g id=\"edge11\" class=\"edge\">\n<title>140086943497408&#45;&gt;140086943497968</title>\n<path fill=\"none\" stroke=\"#000000\" d=\"M191.5545,-689.9317C202.6884,-680.1705 219.4387,-665.4852 232.5631,-653.9789\"/>\n<polygon fill=\"#000000\" stroke=\"#000000\" points=\"234.9716,-656.5221 240.1836,-647.2979 230.3569,-651.2585 234.9716,-656.5221\"/>\n</g>\n<!-- 140086943496568 -->\n<g id=\"node13\" class=\"node\">\n<title>140086943496568</title>\n<polygon fill=\"#d3d3d3\" stroke=\"#000000\" points=\"226.5,-775 132.5,-775 132.5,-754 226.5,-754 226.5,-775\"/>\n<text text-anchor=\"middle\" x=\"179.5\" y=\"-761.4\" font-family=\"Times,serif\" font-size=\"12.00\" fill=\"#000000\">ReluBackward0</text>\n</g>\n<!-- 140086943496568&#45;&gt;140086943497408 -->\n<g id=\"edge12\" class=\"edge\">\n<title>140086943496568&#45;&gt;140086943497408</title>\n<path fill=\"none\" stroke=\"#000000\" d=\"M179.5,-753.9317C179.5,-745.0913 179.5,-732.2122 179.5,-721.3135\"/>\n<polygon fill=\"#000000\" stroke=\"#000000\" points=\"183.0001,-721.2979 179.5,-711.2979 176.0001,-721.2979 183.0001,-721.2979\"/>\n</g>\n<!-- 140086943496008 -->\n<g id=\"node14\" class=\"node\">\n<title>140086943496008</title>\n<polygon fill=\"#d3d3d3\" stroke=\"#000000\" points=\"258,-832 101,-832 101,-811 258,-811 258,-832\"/>\n<text text-anchor=\"middle\" x=\"179.5\" y=\"-818.4\" font-family=\"Times,serif\" font-size=\"12.00\" fill=\"#000000\">CudnnConvolutionBackward</text>\n</g>\n<!-- 140086943496008&#45;&gt;140086943496568 -->\n<g id=\"edge13\" class=\"edge\">\n<title>140086943496008&#45;&gt;140086943496568</title>\n<path fill=\"none\" stroke=\"#000000\" d=\"M179.5,-810.7787C179.5,-803.6134 179.5,-793.9517 179.5,-785.3097\"/>\n<polygon fill=\"#000000\" stroke=\"#000000\" points=\"183.0001,-785.1732 179.5,-775.1732 176.0001,-785.1732 183.0001,-785.1732\"/>\n</g>\n<!-- 140086943497464 -->\n<g id=\"node15\" class=\"node\">\n<title>140086943497464</title>\n<polygon fill=\"#d3d3d3\" stroke=\"#000000\" points=\"175.5,-896 81.5,-896 81.5,-875 175.5,-875 175.5,-896\"/>\n<text text-anchor=\"middle\" x=\"128.5\" y=\"-882.4\" font-family=\"Times,serif\" font-size=\"12.00\" fill=\"#000000\">ReluBackward0</text>\n</g>\n<!-- 140086943497464&#45;&gt;140086943496008 -->\n<g id=\"edge14\" class=\"edge\">\n<title>140086943497464&#45;&gt;140086943496008</title>\n<path fill=\"none\" stroke=\"#000000\" d=\"M136.9216,-874.9317C144.4066,-865.5388 155.5248,-851.5865 164.523,-840.2947\"/>\n<polygon fill=\"#000000\" stroke=\"#000000\" points=\"167.4006,-842.2998 170.8954,-832.2979 161.9261,-837.9373 167.4006,-842.2998\"/>\n</g>\n<!-- 140086943496736 -->\n<g id=\"node16\" class=\"node\">\n<title>140086943496736</title>\n<polygon fill=\"#d3d3d3\" stroke=\"#000000\" points=\"207,-960 50,-960 50,-939 207,-939 207,-960\"/>\n<text text-anchor=\"middle\" x=\"128.5\" y=\"-946.4\" font-family=\"Times,serif\" font-size=\"12.00\" fill=\"#000000\">CudnnConvolutionBackward</text>\n</g>\n<!-- 140086943496736&#45;&gt;140086943497464 -->\n<g id=\"edge15\" class=\"edge\">\n<title>140086943496736&#45;&gt;140086943497464</title>\n<path fill=\"none\" stroke=\"#000000\" d=\"M128.5,-938.9317C128.5,-930.0913 128.5,-917.2122 128.5,-906.3135\"/>\n<polygon fill=\"#000000\" stroke=\"#000000\" points=\"132.0001,-906.2979 128.5,-896.2979 125.0001,-906.2979 132.0001,-906.2979\"/>\n</g>\n<!-- 140086943495224 -->\n<g id=\"node17\" class=\"node\">\n<title>140086943495224</title>\n<polygon fill=\"#d3d3d3\" stroke=\"#000000\" points=\"125.5,-1024 31.5,-1024 31.5,-1003 125.5,-1003 125.5,-1024\"/>\n<text text-anchor=\"middle\" x=\"78.5\" y=\"-1010.4\" font-family=\"Times,serif\" font-size=\"12.00\" fill=\"#000000\">ReluBackward0</text>\n</g>\n<!-- 140086943495224&#45;&gt;140086943496736 -->\n<g id=\"edge16\" class=\"edge\">\n<title>140086943495224&#45;&gt;140086943496736</title>\n<path fill=\"none\" stroke=\"#000000\" d=\"M86.7565,-1002.9317C94.0947,-993.5388 104.9949,-979.5865 113.8166,-968.2947\"/>\n<polygon fill=\"#000000\" stroke=\"#000000\" points=\"116.6657,-970.3329 120.0641,-960.2979 111.1496,-966.0234 116.6657,-970.3329\"/>\n</g>\n<!-- 140086943497744 -->\n<g id=\"node18\" class=\"node\">\n<title>140086943497744</title>\n<polygon fill=\"#d3d3d3\" stroke=\"#000000\" points=\"157,-1088 0,-1088 0,-1067 157,-1067 157,-1088\"/>\n<text text-anchor=\"middle\" x=\"78.5\" y=\"-1074.4\" font-family=\"Times,serif\" font-size=\"12.00\" fill=\"#000000\">CudnnConvolutionBackward</text>\n</g>\n<!-- 140086943497744&#45;&gt;140086943495224 -->\n<g id=\"edge17\" class=\"edge\">\n<title>140086943497744&#45;&gt;140086943495224</title>\n<path fill=\"none\" stroke=\"#000000\" d=\"M78.5,-1066.9317C78.5,-1058.0913 78.5,-1045.2122 78.5,-1034.3135\"/>\n<polygon fill=\"#000000\" stroke=\"#000000\" points=\"82.0001,-1034.2979 78.5,-1024.2979 75.0001,-1034.2979 82.0001,-1034.2979\"/>\n</g>\n<!-- 140086943498024 -->\n<g id=\"node19\" class=\"node\">\n<title>140086943498024</title>\n<polygon fill=\"#add8e6\" stroke=\"#000000\" points=\"113,-1159 44,-1159 44,-1124 113,-1124 113,-1159\"/>\n<text text-anchor=\"middle\" x=\"78.5\" y=\"-1131.4\" font-family=\"Times,serif\" font-size=\"12.00\" fill=\"#000000\"> (4, 1, 3, 3)</text>\n</g>\n<!-- 140086943498024&#45;&gt;140086943497744 -->\n<g id=\"edge18\" class=\"edge\">\n<title>140086943498024&#45;&gt;140086943497744</title>\n<path fill=\"none\" stroke=\"#000000\" d=\"M78.5,-1123.6724C78.5,-1115.8405 78.5,-1106.5893 78.5,-1098.4323\"/>\n<polygon fill=\"#000000\" stroke=\"#000000\" points=\"82.0001,-1098.2234 78.5,-1088.2234 75.0001,-1098.2235 82.0001,-1098.2234\"/>\n</g>\n<!-- 140086943496456 -->\n<g id=\"node20\" class=\"node\">\n<title>140086943496456</title>\n<polygon fill=\"#add8e6\" stroke=\"#000000\" points=\"213,-1031 144,-1031 144,-996 213,-996 213,-1031\"/>\n<text text-anchor=\"middle\" x=\"178.5\" y=\"-1003.4\" font-family=\"Times,serif\" font-size=\"12.00\" fill=\"#000000\"> (8, 4, 3, 3)</text>\n</g>\n<!-- 140086943496456&#45;&gt;140086943496736 -->\n<g id=\"edge19\" class=\"edge\">\n<title>140086943496456&#45;&gt;140086943496736</title>\n<path fill=\"none\" stroke=\"#000000\" d=\"M164.5722,-995.6724C157.8973,-987.1286 149.9027,-976.8955 143.138,-968.2367\"/>\n<polygon fill=\"#000000\" stroke=\"#000000\" points=\"145.7923,-965.9489 136.8777,-960.2234 140.2761,-970.2585 145.7923,-965.9489\"/>\n</g>\n<!-- 140086943497016 -->\n<g id=\"node21\" class=\"node\">\n<title>140086943497016</title>\n<polygon fill=\"#add8e6\" stroke=\"#000000\" points=\"269,-903 194,-903 194,-868 269,-868 269,-903\"/>\n<text text-anchor=\"middle\" x=\"231.5\" y=\"-875.4\" font-family=\"Times,serif\" font-size=\"12.00\" fill=\"#000000\"> (16, 8, 3, 3)</text>\n</g>\n<!-- 140086943497016&#45;&gt;140086943496008 -->\n<g id=\"edge20\" class=\"edge\">\n<title>140086943497016&#45;&gt;140086943496008</title>\n<path fill=\"none\" stroke=\"#000000\" d=\"M217.0151,-867.6724C210.0732,-859.1286 201.7589,-848.8955 194.7235,-840.2367\"/>\n<polygon fill=\"#000000\" stroke=\"#000000\" points=\"197.2352,-837.7775 188.2128,-832.2234 191.8023,-842.1917 197.2352,-837.7775\"/>\n</g>\n<!-- 140086943497128 -->\n<g id=\"node22\" class=\"node\">\n<title>140086943497128</title>\n<polygon fill=\"#add8e6\" stroke=\"#000000\" points=\"363,-718 288,-718 288,-683 363,-683 363,-718\"/>\n<text text-anchor=\"middle\" x=\"325.5\" y=\"-690.4\" font-family=\"Times,serif\" font-size=\"12.00\" fill=\"#000000\"> (4, 16, 1, 1)</text>\n</g>\n<!-- 140086943497128&#45;&gt;140086943497968 -->\n<g id=\"edge21\" class=\"edge\">\n<title>140086943497128&#45;&gt;140086943497968</title>\n<path fill=\"none\" stroke=\"#000000\" d=\"M305.1654,-682.6724C294.9125,-673.6836 282.5269,-662.825 272.3435,-653.897\"/>\n<polygon fill=\"#000000\" stroke=\"#000000\" points=\"274.5581,-651.184 264.7314,-647.2234 269.9435,-656.4476 274.5581,-651.184\"/>\n</g>\n<!-- 140086943494664 -->\n<g id=\"node23\" class=\"node\">\n<title>140086943494664</title>\n<polygon fill=\"#add8e6\" stroke=\"#000000\" points=\"387,-590 318,-590 318,-555 387,-555 387,-590\"/>\n<text text-anchor=\"middle\" x=\"352.5\" y=\"-562.4\" font-family=\"Times,serif\" font-size=\"12.00\" fill=\"#000000\"> (8, 4, 3, 3)</text>\n</g>\n<!-- 140086943494664&#45;&gt;140086943494776 -->\n<g id=\"edge22\" class=\"edge\">\n<title>140086943494664&#45;&gt;140086943494776</title>\n<path fill=\"none\" stroke=\"#000000\" d=\"M338.5722,-554.6724C331.8973,-546.1286 323.9027,-535.8955 317.138,-527.2367\"/>\n<polygon fill=\"#000000\" stroke=\"#000000\" points=\"319.7923,-524.9489 310.8777,-519.2234 314.2761,-529.2585 319.7923,-524.9489\"/>\n</g>\n<!-- 140086943495336 -->\n<g id=\"node24\" class=\"node\">\n<title>140086943495336</title>\n<polygon fill=\"#add8e6\" stroke=\"#000000\" points=\"443,-462 368,-462 368,-427 443,-427 443,-462\"/>\n<text text-anchor=\"middle\" x=\"405.5\" y=\"-434.4\" font-family=\"Times,serif\" font-size=\"12.00\" fill=\"#000000\"> (16, 8, 3, 3)</text>\n</g>\n<!-- 140086943495336&#45;&gt;140086943496624 -->\n<g id=\"edge23\" class=\"edge\">\n<title>140086943495336&#45;&gt;140086943496624</title>\n<path fill=\"none\" stroke=\"#000000\" d=\"M391.0151,-426.6724C384.0732,-418.1286 375.7589,-407.8955 368.7235,-399.2367\"/>\n<polygon fill=\"#000000\" stroke=\"#000000\" points=\"371.2352,-396.7775 362.2128,-391.2234 365.8023,-401.1917 371.2352,-396.7775\"/>\n</g>\n<!-- 140087338087984 -->\n<g id=\"node25\" class=\"node\">\n<title>140087338087984</title>\n<polygon fill=\"#add8e6\" stroke=\"#000000\" points=\"500,-334 419,-334 419,-299 500,-299 500,-334\"/>\n<text text-anchor=\"middle\" x=\"459.5\" y=\"-306.4\" font-family=\"Times,serif\" font-size=\"12.00\" fill=\"#000000\"> (10, 16, 1, 1)</text>\n</g>\n<!-- 140087338087984&#45;&gt;140087338087032 -->\n<g id=\"edge24\" class=\"edge\">\n<title>140087338087984&#45;&gt;140087338087032</title>\n<path fill=\"none\" stroke=\"#000000\" d=\"M444.7365,-298.6724C437.5874,-290.0396 429.0102,-279.6821 421.7927,-270.9666\"/>\n<polygon fill=\"#000000\" stroke=\"#000000\" points=\"424.4542,-268.693 415.3803,-263.2234 419.0628,-273.1577 424.4542,-268.693\"/>\n</g>\n<!-- 140087338087144 -->\n<g id=\"node26\" class=\"node\">\n<title>140087338087144</title>\n<polygon fill=\"#add8e6\" stroke=\"#000000\" points=\"553,-206 472,-206 472,-171 553,-171 553,-206\"/>\n<text text-anchor=\"middle\" x=\"512.5\" y=\"-178.4\" font-family=\"Times,serif\" font-size=\"12.00\" fill=\"#000000\"> (10, 10, 7, 7)</text>\n</g>\n<!-- 140087338087144&#45;&gt;140087338087368 -->\n<g id=\"edge25\" class=\"edge\">\n<title>140087338087144&#45;&gt;140087338087368</title>\n<path fill=\"none\" stroke=\"#000000\" d=\"M497.7365,-170.6724C490.5874,-162.0396 482.0102,-151.6821 474.7927,-142.9666\"/>\n<polygon fill=\"#000000\" stroke=\"#000000\" points=\"477.4542,-140.693 468.3803,-135.2234 472.0628,-145.1577 477.4542,-140.693\"/>\n</g>\n</g>\n</svg>\n"
          },
          "metadata": {
            "tags": []
          },
          "execution_count": 14
        }
      ]
    },
    {
      "cell_type": "markdown",
      "metadata": {
        "id": "Djmq0rZjhI6-",
        "colab_type": "text"
      },
      "source": [
        "### Training"
      ]
    },
    {
      "cell_type": "markdown",
      "metadata": {
        "id": "Ig_SL1TAWHwQ",
        "colab_type": "text"
      },
      "source": [
        "#### Training routine"
      ]
    },
    {
      "cell_type": "code",
      "metadata": {
        "id": "8fDefDhaFlwH",
        "colab_type": "code",
        "colab": {}
      },
      "source": [
        "def train(model, device, train_loader, optimizer, epoch, writer):\n",
        "    model.train()\n",
        "    train_loss = 0\n",
        "    correct = 0\n",
        "    pbar = tqdm(train_loader)\n",
        "    train_len = len(train_loader.dataset)\n",
        "\n",
        "    for batch_idx, (data, target) in enumerate(pbar):\n",
        "        \n",
        "        # Move data to cpu/gpu based on input\n",
        "        data, target = data.to(device), target.to(device)\n",
        "        optimizer.zero_grad()\n",
        "\n",
        "        # Forward pass\n",
        "        output = model(data)\n",
        "        \n",
        "        # Loss computation\n",
        "        batch_loss = F.nll_loss(output, target)\n",
        "        train_loss += batch_loss  # sum up batch loss\n",
        "        \n",
        "        # Predictions\n",
        "        pred = output.argmax(dim=1, keepdim=True)  # get the index of the max log-probability\n",
        "        correct += pred.eq(target.view_as(pred)).sum().item()\n",
        "        \n",
        "        # Backward pass\n",
        "        batch_loss.backward()\n",
        "        \n",
        "        # Gradient descent\n",
        "        optimizer.step()\n",
        "\n",
        "        # Logging - updating progress bar and summary writer\n",
        "        pbar.set_description(desc= f'TRAIN : epoch={epoch} train_loss={(train_loss / train_len):.5f} correct/total={correct}/{train_len} accuracy={(100. * correct / train_len):.1f}')\n",
        "        writer.add_scalar('train/batch_loss', batch_loss, epoch * train_len + batch_idx)\n",
        "    \n",
        "    train_loss /= train_len\n",
        "    train_accuracy = 100. * correct / train_len\n",
        "    writer.add_scalar('loss', train_loss, epoch)\n",
        "    writer.add_scalar('accuracy', train_accuracy, epoch)"
      ],
      "execution_count": 0,
      "outputs": []
    },
    {
      "cell_type": "markdown",
      "metadata": {
        "id": "t168STZVWA0e",
        "colab_type": "text"
      },
      "source": [
        "#### Testing routine"
      ]
    },
    {
      "cell_type": "code",
      "metadata": {
        "id": "Zgv3J2bnV92m",
        "colab_type": "code",
        "colab": {}
      },
      "source": [
        "def test(model, device, test_loader, epoch, writer):\n",
        "    model.eval()\n",
        "    test_loss = 0\n",
        "    correct = 0\n",
        "    pbar = tqdm(test_loader)\n",
        "    test_len = len(test_loader.dataset)\n",
        "    with torch.no_grad():\n",
        "        for batch_idx, (data, target) in enumerate(pbar):\n",
        "\n",
        "            # Move data to cpu/gpu based on input\n",
        "            data, target = data.to(device), target.to(device)\n",
        "            output = model(data)\n",
        "\n",
        "            # Loss computation\n",
        "            batch_loss = F.nll_loss(output, target, reduction='sum').item()\n",
        "            test_loss += batch_loss\n",
        "\n",
        "            # Predictions\n",
        "            pred = output.argmax(dim=1, keepdim=True)\n",
        "            correct += pred.eq(target.view_as(pred)).sum().item()\n",
        "\n",
        "            # Logging - updating progress bar and summary writer\n",
        "            pbar.set_description(desc= f'TEST :  epoch={epoch} test_loss={(test_loss / test_len):.5f} correct/total={correct}/{test_len} accuracy=\\033[1m{(100. * correct / test_len):.1f}\\033[0m')\n",
        "            writer.add_scalar('test/batch_loss', batch_loss, epoch * test_len + batch_idx)\n",
        "\n",
        "    test_loss /= test_len\n",
        "    test_accuracy = 100. * correct / test_len\n",
        "    writer.add_scalar('loss', test_loss, epoch)\n",
        "    writer.add_scalar('accuracy', test_accuracy, epoch)"
      ],
      "execution_count": 0,
      "outputs": []
    },
    {
      "cell_type": "markdown",
      "metadata": {
        "id": "QLarFuzhXj1I",
        "colab_type": "text"
      },
      "source": [
        "### Execution"
      ]
    },
    {
      "cell_type": "code",
      "metadata": {
        "id": "MMWbLWO6FuHb",
        "colab_type": "code",
        "outputId": "ad372ad3-6b24-4ed9-fb7c-5e16b26bb25a",
        "colab": {
          "base_uri": "https://localhost:8080/",
          "height": 557
        }
      },
      "source": [
        "now = datetime.datetime.now()\n",
        "prefix = now.strftime('%m-%d-%y %H:%M:%S')\n",
        "\n",
        "train_dir_suffix = f'/content/drive/My Drive/log_mnist_s5/run_train_{experiment_name}'\n",
        "test_dir_suffix = f'/content/drive/My Drive/log_mnist_s5/run_test_{experiment_name}'\n",
        "\n",
        "train_dir = f'{train_dir_suffix}_{prefix}'\n",
        "test_dir = f'{test_dir_suffix}_{prefix}'\n",
        "\n",
        "train_writer = SummaryWriter(train_dir)\n",
        "test_writer = SummaryWriter(test_dir)\n",
        "\n",
        "model = Net().to(device)\n",
        "lr = 0.01\n",
        "epochs = 15\n",
        "momentum = 0.9\n",
        "optimizer = optim.SGD(model.parameters(), lr=lr, momentum=momentum)\n",
        "\n",
        "for epoch in range(0, epochs):\n",
        "    train(model, device, train_loader, optimizer, epoch, train_writer)\n",
        "    test(model, device, test_loader, epoch, test_writer)"
      ],
      "execution_count": 0,
      "outputs": [
        {
          "output_type": "stream",
          "text": [
            "TRAIN : epoch=0 train_loss=0.03590 correct/total=8589/60000 accuracy=14.3: 100%|██████████| 938/938 [00:16<00:00, 58.15it/s]\n",
            "TEST :  epoch=0 test_loss=2.30253 correct/total=1132/10000 accuracy=\u001b[1m11.3\u001b[0m: 100%|██████████| 157/157 [00:02<00:00, 68.38it/s]\n",
            "TRAIN : epoch=1 train_loss=0.02030 correct/total=32382/60000 accuracy=54.0: 100%|██████████| 938/938 [00:15<00:00, 59.54it/s]\n",
            "TEST :  epoch=1 test_loss=0.19904 correct/total=9412/10000 accuracy=\u001b[1m94.1\u001b[0m: 100%|██████████| 157/157 [00:02<00:00, 60.90it/s]\n",
            "TRAIN : epoch=2 train_loss=0.00232 correct/total=57329/60000 accuracy=95.5: 100%|██████████| 938/938 [00:15<00:00, 59.22it/s]\n",
            "TEST :  epoch=2 test_loss=0.10571 correct/total=9667/10000 accuracy=\u001b[1m96.7\u001b[0m: 100%|██████████| 157/157 [00:02<00:00, 71.06it/s]\n",
            "TRAIN : epoch=3 train_loss=0.00160 correct/total=58144/60000 accuracy=96.9: 100%|██████████| 938/938 [00:16<00:00, 57.84it/s]\n",
            "TEST :  epoch=3 test_loss=0.07573 correct/total=9764/10000 accuracy=\u001b[1m97.6\u001b[0m: 100%|██████████| 157/157 [00:02<00:00, 62.65it/s]\n",
            "TRAIN : epoch=4 train_loss=0.00134 correct/total=58434/60000 accuracy=97.4: 100%|██████████| 938/938 [00:15<00:00, 58.96it/s]\n",
            "TEST :  epoch=4 test_loss=0.07234 correct/total=9761/10000 accuracy=\u001b[1m97.6\u001b[0m: 100%|██████████| 157/157 [00:02<00:00, 67.46it/s]\n",
            "TRAIN : epoch=5 train_loss=0.00116 correct/total=58626/60000 accuracy=97.7: 100%|██████████| 938/938 [00:16<00:00, 57.55it/s]\n",
            "TEST :  epoch=5 test_loss=0.06703 correct/total=9790/10000 accuracy=\u001b[1m97.9\u001b[0m: 100%|██████████| 157/157 [00:02<00:00, 62.44it/s]\n",
            "TRAIN : epoch=6 train_loss=0.00104 correct/total=58822/60000 accuracy=98.0: 100%|██████████| 938/938 [00:16<00:00, 57.21it/s]\n",
            "TEST :  epoch=6 test_loss=0.07351 correct/total=9777/10000 accuracy=\u001b[1m97.8\u001b[0m: 100%|██████████| 157/157 [00:02<00:00, 59.44it/s]\n",
            "TRAIN : epoch=7 train_loss=0.00095 correct/total=58908/60000 accuracy=98.2: 100%|██████████| 938/938 [00:16<00:00, 57.10it/s]\n",
            "TEST :  epoch=7 test_loss=0.05829 correct/total=9813/10000 accuracy=\u001b[1m98.1\u001b[0m: 100%|██████████| 157/157 [00:02<00:00, 62.72it/s]\n",
            "TRAIN : epoch=8 train_loss=0.00089 correct/total=58947/60000 accuracy=98.2: 100%|██████████| 938/938 [00:15<00:00, 59.30it/s]\n",
            "TEST :  epoch=8 test_loss=0.04927 correct/total=9841/10000 accuracy=\u001b[1m98.4\u001b[0m: 100%|██████████| 157/157 [00:02<00:00, 56.38it/s]\n",
            "TRAIN : epoch=9 train_loss=0.00080 correct/total=59039/60000 accuracy=98.4: 100%|██████████| 938/938 [00:16<00:00, 58.45it/s]\n",
            "TEST :  epoch=9 test_loss=0.05142 correct/total=9825/10000 accuracy=\u001b[1m98.2\u001b[0m: 100%|██████████| 157/157 [00:02<00:00, 63.51it/s]\n",
            "TRAIN : epoch=10 train_loss=0.00077 correct/total=59121/60000 accuracy=98.5: 100%|██████████| 938/938 [00:15<00:00, 59.98it/s]\n",
            "TEST :  epoch=10 test_loss=0.05390 correct/total=9828/10000 accuracy=\u001b[1m98.3\u001b[0m: 100%|██████████| 157/157 [00:02<00:00, 63.94it/s]\n",
            "TRAIN : epoch=11 train_loss=0.00073 correct/total=59136/60000 accuracy=98.6: 100%|██████████| 938/938 [00:16<00:00, 57.74it/s]\n",
            "TEST :  epoch=11 test_loss=0.05326 correct/total=9834/10000 accuracy=\u001b[1m98.3\u001b[0m: 100%|██████████| 157/157 [00:02<00:00, 60.45it/s]\n",
            "TRAIN : epoch=12 train_loss=0.00069 correct/total=59196/60000 accuracy=98.7: 100%|██████████| 938/938 [00:17<00:00, 54.95it/s]\n",
            "TEST :  epoch=12 test_loss=0.05098 correct/total=9833/10000 accuracy=\u001b[1m98.3\u001b[0m: 100%|██████████| 157/157 [00:02<00:00, 58.80it/s]\n",
            "TRAIN : epoch=13 train_loss=0.00064 correct/total=59220/60000 accuracy=98.7: 100%|██████████| 938/938 [00:16<00:00, 55.65it/s]\n",
            "TEST :  epoch=13 test_loss=0.05191 correct/total=9830/10000 accuracy=\u001b[1m98.3\u001b[0m: 100%|██████████| 157/157 [00:02<00:00, 57.61it/s]\n",
            "TRAIN : epoch=14 train_loss=0.00064 correct/total=59256/60000 accuracy=98.8: 100%|██████████| 938/938 [00:16<00:00, 55.47it/s]\n",
            "TEST :  epoch=14 test_loss=0.05712 correct/total=9837/10000 accuracy=\u001b[1m98.4\u001b[0m: 100%|██████████| 157/157 [00:02<00:00, 59.29it/s]\n"
          ],
          "name": "stderr"
        }
      ]
    },
    {
      "cell_type": "markdown",
      "metadata": {
        "id": "JWrQSdddh7yQ",
        "colab_type": "text"
      },
      "source": [
        "# Outputs"
      ]
    },
    {
      "cell_type": "markdown",
      "metadata": {
        "id": "-W8FyTUsUrdg",
        "colab_type": "text"
      },
      "source": [
        "## Feature maps"
      ]
    },
    {
      "cell_type": "code",
      "metadata": {
        "id": "dm1QmiQO55e3",
        "colab_type": "code",
        "outputId": "ab02da73-ee2c-4a21-d77c-5cc1d6208109",
        "colab": {
          "base_uri": "https://localhost:8080/",
          "height": 265
        }
      },
      "source": [
        "sample_index = 2\n",
        "batch_data = next(iter(train_loader))[0]\n",
        "x = next(iter(train_loader))[0][sample_index : sample_index + 1]\n",
        "plt.set_cmap('Greys')\n",
        "plt.imshow(x.view((28, 28)))\n",
        "plt.show()"
      ],
      "execution_count": 0,
      "outputs": [
        {
          "output_type": "display_data",
          "data": {
            "image/png": "[encoded data removed]",
            "text/plain": [
              "<Figure size 432x288 with 1 Axes>"
            ]
          },
          "metadata": {
            "tags": []
          }
        }
      ]
    },
    {
      "cell_type": "code",
      "metadata": {
        "id": "bkEDWYJq6C66",
        "colab_type": "code",
        "colab": {}
      },
      "source": [
        "def get_activations(model):\n",
        "  model.eval()\n",
        "  activations = {}\n",
        "  def get_activation(name):\n",
        "      def hook(model, input, output):\n",
        "          activations[name] = np.hstack(output.squeeze(0).cpu().detach().numpy()[0:10, :, :])\n",
        "          # print(name, activations[name].shape)\n",
        "      return hook\n",
        "\n",
        "  model.convblock3.register_forward_hook(get_activation('Block 1'))\n",
        "  model.convblock5.register_forward_hook(get_activation('Block 5'))\n",
        "  model.convblock7.register_forward_hook(get_activation('Block 7'))\n",
        "  model.convblock8.register_forward_hook(get_activation('Output'))\n",
        "\n",
        "  y = model(Variable(x.cuda() if use_cuda else x))\n",
        "  return activations"
      ],
      "execution_count": 0,
      "outputs": []
    },
    {
      "cell_type": "code",
      "metadata": {
        "id": "Z4Rqsl_1AzM5",
        "colab_type": "code",
        "colab": {}
      },
      "source": [
        "activations = get_activations(model)"
      ],
      "execution_count": 0,
      "outputs": []
    },
    {
      "cell_type": "code",
      "metadata": {
        "id": "YfQLZCf2Ft03",
        "colab_type": "code",
        "outputId": "41f04458-2e66-4ddf-ea9b-61bdc7324248",
        "colab": {
          "base_uri": "https://localhost:8080/",
          "height": 786
        }
      },
      "source": [
        "layer_activations = list(activations.items())\n",
        "rows = len(layer_activations)\n",
        "fig, ax = plt.subplots(rows, 1, figsize=(15, 15))\n",
        "plt.set_cmap('gray_r')\n",
        "\n",
        "for i in range(rows):\n",
        "    layer, activation = layer_activations[i]\n",
        "    ax[i].set_title(layer)\n",
        "    ax[i].imshow(activation)\n",
        "\n",
        "plt.show()"
      ],
      "execution_count": 0,
      "outputs": [
        {
          "output_type": "display_data",
          "data": {
            "image/png": "[encoded data removed]",
            "text/plain": [
              "<Figure size 1080x1080 with 4 Axes>"
            ]
          },
          "metadata": {
            "tags": []
          }
        }
      ]
    },
    {
      "cell_type": "markdown",
      "metadata": {
        "id": "dYAvN6OeUznV",
        "colab_type": "text"
      },
      "source": [
        "## Loss and accuracy"
      ]
    },
    {
      "cell_type": "code",
      "metadata": {
        "id": "Jrbh-yaRooxS",
        "colab_type": "code",
        "colab": {}
      },
      "source": [
        "train_dir_suffix = f'/content/drive/My Drive/log_mnist_s5/run_train_{experiment_name}'\n",
        "test_dir_suffix = f'/content/drive/My Drive/log_mnist_s5/run_test_{experiment_name}'\n",
        "\n",
        "train_1 = glob.glob(f'{train_dir_suffix}_*/events.out.tfevents.*')[-1]\n",
        "test_1 = glob.glob(f'{test_dir_suffix}_*/events.out.tfevents.*')[-1]"
      ],
      "execution_count": 0,
      "outputs": []
    },
    {
      "cell_type": "code",
      "metadata": {
        "id": "EONLRDWxoJBz",
        "colab_type": "code",
        "colab": {}
      },
      "source": [
        "experiment_data = {experiment_name: (train_1, test_1)}\n",
        "summary = {}\n",
        "for experiment, (train, test) in experiment_data.items():\n",
        "  train_data = {}\n",
        "  test_data = {}\n",
        "  summary[experiment] = {}\n",
        "  for e in tf.compat.v1.train.summary_iterator(train):\n",
        "      for v in e.summary.value:\n",
        "          if v.tag not in train_data:\n",
        "              train_data[v.tag] = []\n",
        "          train_data[v.tag].append(v.simple_value)\n",
        "  for e in tf.compat.v1.train.summary_iterator(test):\n",
        "        for v in e.summary.value:\n",
        "            if v.tag not in test_data:\n",
        "                test_data[v.tag] = []\n",
        "            test_data[v.tag].append(v.simple_value)\n",
        "  summary[experiment]['train'] = train_data\n",
        "  summary[experiment]['test'] = test_data"
      ],
      "execution_count": 0,
      "outputs": []
    },
    {
      "cell_type": "code",
      "metadata": {
        "id": "JgJZ91W_zqfN",
        "colab_type": "code",
        "outputId": "fdb4a93d-264f-483c-f87b-47f5daf315d5",
        "colab": {
          "base_uri": "https://localhost:8080/",
          "height": 350
        }
      },
      "source": [
        "fig, axs = plt.subplots(1, 2, figsize=(15, 5))\n",
        "\n",
        "axs[0].plot(summary[experiment]['train']['loss'])\n",
        "axs[0].plot(summary[experiment]['test']['loss'])\n",
        "axs[0].set_title(f'Loss plot {experiment}')\n",
        "axs[0].set_ylabel('Loss')\n",
        "axs[0].set_xlabel('Epoch')\n",
        "axs[0].set_ylim([1e-5, 0.2])\n",
        "axs[0].legend(['train', 'test'], loc='best')\n",
        "\n",
        "axs[1].plot(summary[experiment]['train']['accuracy'])\n",
        "axs[1].plot(summary[experiment]['test']['accuracy'])\n",
        "axs[1].set_title(f'Accuracy plot {experiment}')\n",
        "axs[1].set_ylabel('Accuracy')\n",
        "axs[1].set_xlabel('Epoch')\n",
        "axs[1].set_ylim([90, 100])\n",
        "axs[1].legend(['train', 'test'], loc='best')\n",
        "\n",
        "plt.show()"
      ],
      "execution_count": 0,
      "outputs": [
        {
          "output_type": "display_data",
          "data": {
            "image/png": "[encoded data removed]",
            "text/plain": [
              "<Figure size 1080x360 with 2 Axes>"
            ]
          },
          "metadata": {
            "tags": []
          }
        }
      ]
    },
    {
      "cell_type": "code",
      "metadata": {
        "id": "R7tC03L64rDL",
        "colab_type": "code",
        "outputId": "66cc6715-c8cc-4137-ad7b-f16969d4deb5",
        "colab": {
          "base_uri": "https://localhost:8080/",
          "height": 350
        }
      },
      "source": [
        "fig, axs = plt.subplots(1, 2, figsize=(15, 5))\n",
        "\n",
        "window_size = 30\n",
        "  \n",
        "smooth_train_batch_loss = pd.Series(summary[experiment]['train']['train/batch_loss']).rolling(window_size).mean()\n",
        "smooth_test_batch_loss = pd.Series(summary[experiment]['test']['test/batch_loss']).rolling(window_size).mean()\n",
        "\n",
        "axs[0].plot(smooth_train_batch_loss)\n",
        "axs[0].legend([f'Train batch loss'], loc='best')\n",
        "axs[0].set_title(f'Train batch loss - {experiment}')\n",
        "axs[0].set_ylabel(f'Batch loss - {experiment}')\n",
        "axs[0].set_xlabel('Batch index')\n",
        "axs[0].set_ylim([0, 1])\n",
        "axs[1].plot(smooth_test_batch_loss)\n",
        "axs[1].legend([f'Test batch loss'], loc='best')\n",
        "axs[1].set_title(f'Test batch loss - {experiment}')\n",
        "axs[1].set_ylabel(f'Batch loss')\n",
        "axs[1].set_xlabel('Batch index')\n",
        "axs[1].set_ylim([0, 10])\n",
        "  \n",
        "plt.show()"
      ],
      "execution_count": 0,
      "outputs": [
        {
          "output_type": "display_data",
          "data": {
            "image/png": "[encoded data removed]",
            "text/plain": [
              "<Figure size 1080x360 with 2 Axes>"
            ]
          },
          "metadata": {
            "tags": []
          }
        }
      ]
    },
    {
      "cell_type": "markdown",
      "metadata": {
        "id": "4-HpmKh_UQIq",
        "colab_type": "text"
      },
      "source": [
        "# Target\n",
        " - Create a stripped down very light model\n",
        " - Get parameters below 10K"
      ]
    },
    {
      "cell_type": "markdown",
      "metadata": {
        "id": "JRFbxwQbURmv",
        "colab_type": "text"
      },
      "source": [
        "# Result\n",
        " - Train accuracy - 98.8\n",
        " - Test accuracy - 98.4"
      ]
    },
    {
      "cell_type": "markdown",
      "metadata": {
        "id": "Pwkm2-s9UUbr",
        "colab_type": "text"
      },
      "source": [
        "# Analysis\n",
        " - Good model\n",
        " - Minimal over fitting"
      ]
    }
  ]
}